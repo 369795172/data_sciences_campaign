{
 "cells": [
  {
   "cell_type": "code",
   "execution_count": 1,
   "metadata": {
    "collapsed": true
   },
   "outputs": [],
   "source": [
    "# encoding=utf8"
   ]
  },
  {
   "cell_type": "markdown",
   "metadata": {},
   "source": [
    "# 网络安全Datasets"
   ]
  },
  {
   "cell_type": "markdown",
   "metadata": {},
   "source": [
    "| 编号 | 数据集名称 | 数据集链接 |\n",
    "| :---: | :---: |  :---: | \n",
    "| 1 | 安全相关数据样本集 |  http://www.secrepo.com/ | \n",
    "| 2 | DARPA 入侵检测数据集 |  https://www.ll.mit.edu/ideval/data/ | \n",
    "| 3 | Stratosphere IPS 数据集 |  https://www.stratosphereips.org/category/dataset.html | \n",
    "| 4 | 开放数据集 |  https://csr.lanl.gov/data/ | \n",
    "| 5 | NSA 的数据捕获 |  https://www.westpoint.edu/crc/SitePages/DataSets.aspx | \n",
    "| 6 | ADFA 入侵检测数据集 |  https://www.unsw.adfa.edu.au/australian-centre-for-cyber-security/cybersecurity/ADFA-IDS-Datasets/ | \n",
    "| 7 | NSL-KDD 数据集 |  https://github.com/defcom17/NSL_KDD | \n",
    "| 8 | 恶意 URL 数据集 |  http://www.sysnet.ucsd.edu/projects/url/ | \n",
    "| 9 | 多源安全事件数据集 |  https://csr.lanl.gov/data/cyber1/ | \n",
    "| 10 | 恶意软件训练集 |  http://marcoramilli.blogspot.cz/2016/12/malware-training-sets-machine-learning.html | \n",
    "| 11 | KDD Cup 1999 数据集 |  http://kdd.ics.uci.edu/databases/kddcup99/kddcup99.html | \n",
    "| 12 | Web 攻击载荷 |  https://github.com/foospidy/payloads | \n",
    "| 13 | WAF 恶意请求数据集 |  https://github.com/faizann24/Fwaf-Machine-Learning-driven-Web-Application-Firewall | \n",
    "| 14 | 恶意软件训练数据集 |  https://github.com/marcoramilli/MalwareTrainingSets | \n",
    "| 15 | Aktaion 数据集 |  https://github.com/jzadeh/Aktaion/tree/master/data | \n",
    "| 16 | DeepEnd 研究中的犯罪数据集 |  https://www.dropbox.com/sh/7fo4efxhpenexqp/AADHnRKtL6qdzCdRlPmJpS8Aa/CRIME?dl=0 | \n",
    "| 17 | 公开可用的 PCAP 文件数据集 |  http://www.netresec.com/?page=PcapFiles | \n"
   ]
  },
  {
   "cell_type": "code",
   "execution_count": null,
   "metadata": {
    "collapsed": true
   },
   "outputs": [],
   "source": []
  }
 ],
 "metadata": {
  "kernelspec": {
   "display_name": "Python 3",
   "language": "python",
   "name": "python3"
  },
  "language_info": {
   "codemirror_mode": {
    "name": "ipython",
    "version": 3
   },
   "file_extension": ".py",
   "mimetype": "text/x-python",
   "name": "python",
   "nbconvert_exporter": "python",
   "pygments_lexer": "ipython3",
   "version": "3.6.0"
  }
 },
 "nbformat": 4,
 "nbformat_minor": 2
}
