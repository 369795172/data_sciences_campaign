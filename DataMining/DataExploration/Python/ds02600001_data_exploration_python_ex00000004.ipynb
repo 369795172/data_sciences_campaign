{
 "cells": [
  {
   "cell_type": "code",
   "execution_count": 1,
   "metadata": {
    "collapsed": true
   },
   "outputs": [],
   "source": [
    "# encoding=utf8"
   ]
  },
  {
   "cell_type": "code",
   "execution_count": 1,
   "metadata": {
    "collapsed": true
   },
   "outputs": [],
   "source": [
    "# Discriminant Analysis"
   ]
  },
  {
   "cell_type": "code",
   "execution_count": 37,
   "metadata": {
    "collapsed": false
   },
   "outputs": [
    {
     "name": "stdout",
     "output_type": "stream",
     "text": [
      "Automatically created module for IPython interactive environment\n"
     ]
    }
   ],
   "source": [
    "print (__doc__)\n",
    "import numpy as np\n",
    "\n",
    "import matplotlib.pyplot as plt\n",
    "from matplotlib import colors\n",
    "\n",
    "from sklearn.discriminant_analysis import LinearDiscriminantAnalysis\n",
    "from sklearn.discriminant_analysis import QuadraticDiscriminantAnalysis\n"
   ]
  },
  {
   "cell_type": "markdown",
   "metadata": {},
   "source": [
    "# Task 1"
   ]
  },
  {
   "cell_type": "code",
   "execution_count": 38,
   "metadata": {
    "collapsed": false
   },
   "outputs": [],
   "source": [
    "\n",
    "\n",
    "\n",
    "cmap = colors.LinearSegmentedColormap(\n",
    "    'red_blue_classes',\n",
    "    {\n",
    "        'red': [(0, 1, 1), (1, 0.7, 0.7)],\n",
    "        'green': [(0, 0.7, 0.7), (1, 0.7, 0.7)],\n",
    "        'blue': [(0, 0.7, 0.7), (1, 1, 1)]\n",
    "    }\n",
    ")\n"
   ]
  },
  {
   "cell_type": "code",
   "execution_count": 39,
   "metadata": {
    "collapsed": true
   },
   "outputs": [],
   "source": [
    "\n",
    "plt.cm.register_cmap(cmap=cmap)\n"
   ]
  },
  {
   "cell_type": "code",
   "execution_count": 40,
   "metadata": {
    "collapsed": true
   },
   "outputs": [],
   "source": [
    "\n",
    "def dataset_fixed_cov():\n",
    "    '''产生两个拥有相同方差的高斯样本集合'''\n",
    "    n, dim = 300, 2 # 样本数目为300，特征维度为2\n",
    "    np.random.seed(0)\n",
    "    c = np.array([[0, -0.23], [0.83, 0.23]]) #高斯分布的方差\n",
    "    X = np.r_[np.dot(np.random.randn(n, dim), c),\n",
    "              np.dot(np.random.randn(n, dim), c) + np.array([1, 1])]\n",
    "    y = np.hstack((np.zeros(n), np.ones(n)))\n",
    "    return X, y\n"
   ]
  },
  {
   "cell_type": "code",
   "execution_count": 41,
   "metadata": {
    "collapsed": true
   },
   "outputs": [],
   "source": [
    "\n",
    "def dataset_cov():\n",
    "    '''产生两个拥有不同的方差的高斯样本集合'''\n",
    "    n, dim = 300, 2\n",
    "    np.random.seed(0)\n",
    "    c = np.array([[0.1, -1.0], [2.5, 0.7]]) * 2.0\n",
    "    X = np.r_[np.dot(np.random.randn(n, dim), c),\n",
    "              np.dot(np.random.randn(n, dim), c.T) + np.array([1, 4])]\n",
    "    y = np.hstack((np.zeros(n), np.ones(n)))\n",
    "    return X, y\n"
   ]
  },
  {
   "cell_type": "code",
   "execution_count": 42,
   "metadata": {
    "collapsed": true
   },
   "outputs": [],
   "source": [
    "\n",
    "def plot_data(lda, X, y, y_pred, fig_index):\n",
    "    splot = plt.subplot(2, 2, fig_index)\n",
    "    if fig_index == 1:\n",
    "        plt.title('Linear Discriminant Analysis')\n",
    "        plt.ylabel('Data with fixed covariance')\n",
    "    elif fig_index == 2:\n",
    "        plt.title('Quadratic Discriminant Analysis')\n",
    "    elif fig_index == 3:\n",
    "        plt.ylabel('Data with varying covariances')\n",
    "\n",
    "    tp = (y == y_pred) #正样本中，分类正确的数目\n",
    "    tp0, tp1 = tp[y == 0], tp[y == 1]\n",
    "    X0 , X1 = X[y == 0], X[y == 1]\n",
    "    X0_tp, X0_fp = X0[tp0], X0[~tp0]\n",
    "    X1_tp, X1_fp = X1[tp1], X1[~tp1]\n",
    "\n",
    "    # 类别0分类正确的点和分类错误的点\n",
    "    plt.plot(X0_tp[:, 0], X0_tp[:, 1], 'o', color='red')\n",
    "    plt.plot(X0_fp[:, 0], X0_fp[:, 1], '.', color='#990000')\n",
    "\n",
    "    # 类别1分类正确的点和分类错误的点\n",
    "    plt.plot(X1_tp[:, 0], X1_tp[:, 1], 'o', color='blue')\n",
    "    plt.plot(X1_fp[:, 0], X1_fp[:, 1], '.', color='#000099')\n",
    "\n",
    "    # 类别0和类别1的区域\n",
    "    nx, ny = 200, 100\n",
    "    x_min, x_max = plt.xlim()\n",
    "    y_min, y_max = plt.ylim()\n",
    "    xx, yy = np.meshgrid(np.linspace(x_min, x_max, nx),\n",
    "                         np.linspace(y_min, y_max, ny))\n",
    "    # 求出LDA的概率分布\n",
    "    z = lda.predict_proba(np.c_[xx.ravel(), yy.ravel()])\n",
    "    z = z[:, 1].reshape(xx.shape)\n",
    "    plt.pcolormesh(xx, yy, z,\n",
    "                   cmap='red_blue_classes',\n",
    "                   norm=colors.Normalize(0., 1.))\n",
    "    # 这里的等高线，就是对应的决策面\n",
    "    # LDA的决策面是直线，而QDA的决策面是二次曲线\n",
    "    # 注意图中右下角那张图，途中的决策面是双曲线\n",
    "    # 为了更清楚的看出其为双曲线，可以去掉后面两行代码的注释\n",
    "    plt.contour(xx, yy, z, [0.5], linewidths=2., colors='k')\n",
    "    #plt.contour(xx, yy, z, [0.4, 0.6], linewidths=2., colors='g')\n",
    "    #plt.contour(xx, yy, z, [0.3, 0.7], linewidths=2., colors='b')\n",
    "\n",
    "    # 类别0和类别1的中心点\n",
    "    plt.plot(lda.means_[0][0], lda.means_[0][1],\n",
    "             'o', color='k', markersize=10)\n",
    "    plt.plot(lda.means_[1][0], lda.means_[1][2],\n",
    "             'o', color='k', markersize=10)\n",
    "\n"
   ]
  },
  {
   "cell_type": "code",
   "execution_count": 43,
   "metadata": {
    "collapsed": false
   },
   "outputs": [
    {
     "name": "stdout",
     "output_type": "stream",
     "text": [
      "0\n"
     ]
    },
    {
     "ename": "IndexError",
     "evalue": "index 2 is out of bounds for axis 0 with size 2",
     "output_type": "error",
     "traceback": [
      "\u001b[0;31m---------------------------------------------------------------------------\u001b[0m",
      "\u001b[0;31mIndexError\u001b[0m                                Traceback (most recent call last)",
      "\u001b[0;32m<ipython-input-43-e86a13e5d786>\u001b[0m in \u001b[0;36m<module>\u001b[0;34m()\u001b[0m\n\u001b[1;32m      5\u001b[0m     \u001b[0mlda\u001b[0m \u001b[0;34m=\u001b[0m \u001b[0mLinearDiscriminantAnalysis\u001b[0m\u001b[0;34m(\u001b[0m\u001b[0msolver\u001b[0m\u001b[0;34m=\u001b[0m\u001b[0;34m'svd'\u001b[0m\u001b[0;34m,\u001b[0m \u001b[0mstore_covariance\u001b[0m\u001b[0;34m=\u001b[0m\u001b[0;32mTrue\u001b[0m\u001b[0;34m)\u001b[0m\u001b[0;34m\u001b[0m\u001b[0m\n\u001b[1;32m      6\u001b[0m     \u001b[0my_pred\u001b[0m \u001b[0;34m=\u001b[0m \u001b[0mlda\u001b[0m\u001b[0;34m.\u001b[0m\u001b[0mfit\u001b[0m\u001b[0;34m(\u001b[0m\u001b[0mX\u001b[0m\u001b[0;34m,\u001b[0m \u001b[0my\u001b[0m\u001b[0;34m)\u001b[0m\u001b[0;34m.\u001b[0m\u001b[0mpredict\u001b[0m\u001b[0;34m(\u001b[0m\u001b[0mX\u001b[0m\u001b[0;34m)\u001b[0m\u001b[0;34m\u001b[0m\u001b[0m\n\u001b[0;32m----> 7\u001b[0;31m     \u001b[0msplot\u001b[0m \u001b[0;34m=\u001b[0m \u001b[0mplot_data\u001b[0m\u001b[0;34m(\u001b[0m\u001b[0mlda\u001b[0m\u001b[0;34m,\u001b[0m \u001b[0mX\u001b[0m\u001b[0;34m,\u001b[0m \u001b[0my\u001b[0m\u001b[0;34m,\u001b[0m \u001b[0my_pred\u001b[0m\u001b[0;34m,\u001b[0m \u001b[0mfig_index\u001b[0m\u001b[0;34m=\u001b[0m\u001b[0;36m2\u001b[0m \u001b[0;34m*\u001b[0m \u001b[0mi\u001b[0m \u001b[0;34m+\u001b[0m \u001b[0;36m1\u001b[0m\u001b[0;34m)\u001b[0m\u001b[0;34m\u001b[0m\u001b[0m\n\u001b[0m\u001b[1;32m      8\u001b[0m     \u001b[0mplt\u001b[0m\u001b[0;34m.\u001b[0m\u001b[0maxis\u001b[0m\u001b[0;34m(\u001b[0m\u001b[0;34m'tight'\u001b[0m\u001b[0;34m)\u001b[0m\u001b[0;34m\u001b[0m\u001b[0m\n\u001b[1;32m      9\u001b[0m \u001b[0;34m\u001b[0m\u001b[0m\n",
      "\u001b[0;32m<ipython-input-42-cff50bd6b1a0>\u001b[0m in \u001b[0;36mplot_data\u001b[0;34m(lda, X, y, y_pred, fig_index)\u001b[0m\n\u001b[1;32m     47\u001b[0m     plt.plot(lda.means_[0][0], lda.means_[0][1],\n\u001b[1;32m     48\u001b[0m              'o', color='k', markersize=10)\n\u001b[0;32m---> 49\u001b[0;31m     plt.plot(lda.means_[1][0], lda.means_[1][2],\n\u001b[0m\u001b[1;32m     50\u001b[0m              'o', color='k', markersize=10)\n\u001b[1;32m     51\u001b[0m \u001b[0;34m\u001b[0m\u001b[0m\n",
      "\u001b[0;31mIndexError\u001b[0m: index 2 is out of bounds for axis 0 with size 2"
     ]
    }
   ],
   "source": [
    "\n",
    "for i, (X, y) in enumerate([dataset_fixed_cov(), dataset_cov()]):\n",
    "    print(i)\n",
    "    # 线性判别式分析\n",
    "    lda = LinearDiscriminantAnalysis(solver='svd', store_covariance=True)\n",
    "    y_pred = lda.fit(X, y).predict(X)\n",
    "    splot = plot_data(lda, X, y, y_pred, fig_index=2 * i + 1)\n",
    "    plt.axis('tight')\n",
    "\n",
    "    # 二次判别分析\n",
    "    qda = QuadraticDiscriminantAnalysis(store_covariances=True)\n",
    "    y_pred = qda.fit(X, y).predict(X)\n",
    "    splot = plot_data(qda, X, y, y_pred, fig_index= 2 * i + 2)\n",
    "    plt.axis('tight')\n"
   ]
  },
  {
   "cell_type": "code",
   "execution_count": 44,
   "metadata": {
    "collapsed": false
   },
   "outputs": [
    {
     "data": {
      "image/png": "[encoded data removed]",
      "text/plain": [
       "<matplotlib.figure.Figure at 0x11bbc82e8>"
      ]
     },
     "metadata": {},
     "output_type": "display_data"
    }
   ],
   "source": [
    "\n",
    "plt.show()"
   ]
  },
  {
   "cell_type": "markdown",
   "metadata": {},
   "source": [
    "# Tast 2"
   ]
  },
  {
   "cell_type": "code",
   "execution_count": 45,
   "metadata": {
    "collapsed": false
   },
   "outputs": [
    {
     "name": "stdout",
     "output_type": "stream",
     "text": [
      "Automatically created module for IPython interactive environment\n"
     ]
    },
    {
     "data": {
      "image/png": "[encoded data removed]",
      "text/plain": [
       "<matplotlib.figure.Figure at 0x11c5b56a0>"
      ]
     },
     "metadata": {},
     "output_type": "display_data"
    }
   ],
   "source": [
    "print (__doc__)\n",
    "\n",
    "import numpy as np\n",
    "import matplotlib.pyplot as plt\n",
    "from sklearn import datasets\n",
    "from sklearn.discriminant_analysis import LinearDiscriminantAnalysis\n",
    "\n",
    "# 读取iris数据，\n",
    "# 这个数据的特征维度为4维\n",
    "# 样本的类别有三中\n",
    "iris = datasets.load_iris()\n",
    "\n",
    "X = iris.data\n",
    "y = iris.target\n",
    "target_names = iris.target_names\n",
    "\n",
    "# 将数据的特征维度降为一维\n",
    "# 当然这里可以将n_components设置为任何小于原始特征维度的数目\n",
    "lda = LinearDiscriminantAnalysis(n_components=1)\n",
    "X_r2 = lda.fit(X, y).transform(X)\n",
    "X_Zreo = np.zeros(X_r2.shape)\n",
    "\n",
    "for c ,i , target_names in zip('ryb', [0, 1, 2], target_names):\n",
    "    plt.scatter(X_r2[y == i], X_Zreo[y == i], c=c, label=target_names)\n",
    "\n",
    "plt.grid()\n",
    "plt.legend()\n",
    "plt.show()"
   ]
  },
  {
   "cell_type": "code",
   "execution_count": null,
   "metadata": {
    "collapsed": true
   },
   "outputs": [],
   "source": []
  }
 ],
 "metadata": {
  "kernelspec": {
   "display_name": "Python 3",
   "language": "python",
   "name": "python3"
  },
  "language_info": {
   "codemirror_mode": {
    "name": "ipython",
    "version": 3
   },
   "file_extension": ".py",
   "mimetype": "text/x-python",
   "name": "python",
   "nbconvert_exporter": "python",
   "pygments_lexer": "ipython3",
   "version": "3.6.0"
  }
 },
 "nbformat": 4,
 "nbformat_minor": 2
}
