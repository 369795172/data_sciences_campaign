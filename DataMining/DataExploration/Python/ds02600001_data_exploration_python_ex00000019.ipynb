{
 "cells": [
  {
   "cell_type": "code",
   "execution_count": null,
   "metadata": {
    "collapsed": true
   },
   "outputs": [],
   "source": [
    "# encoding=utf8"
   ]
  },
  {
   "cell_type": "markdown",
   "metadata": {},
   "source": [
    "# Linear Regression Analysis"
   ]
  },
  {
   "cell_type": "markdown",
   "metadata": {},
   "source": [
    "To do a linear regression analysis on GVA data, which can be downloaded from \"Regional Gross Value Added\", \n",
    "\n",
    "https://www.ons.gov.uk/economy/grossvalueaddedgva/datasets/regionalgrossvalueaddedincomeapproach"
   ]
  },
  {
   "cell_type": "markdown",
   "metadata": {},
   "source": [
    "# GVA in Bath and the surrounding area"
   ]
  },
  {
   "cell_type": "markdown",
   "metadata": {},
   "source": [
    "**Original question:** Check how the current basic price for the GVA in Bath and the surrounding area has historically varied. Can a prediction be made for future values using a statistical regression?\n",
    "\n",
    "The results show future values can be predicted, based on the available data. There seems to be a slight over-estimation in the results. This model could be improved by comparison with other areas, or by increasing the dataset size. I would advise checking this model against other approaches, using more flexible models, to see which model better represents the data. \n",
    "\n",
    "**Summary of results:**\n",
    "\n",
    "-  2008/2009 shows evidence of decrease GVA. Probably due to economic crisis.\n",
    "-  from 2009 to 2013 there's a plateau/minor increase.\n",
    "-  There are steady increase in GVA from 1997 to 2008 and 2013 onwards.\n",
    "-  Using the whole data to predict the GVA for 2016 and 2017 we get 18763.9473684 GBP for 2016 and 19322.9526316 GBP for 2017.\n",
    "-  As the objective of this study is prediction, another model was developed in which the data was split into train/test. Predicted values for 2016 and 2017 are 19414.8142857 GBP and 20020.0321429 GBP, respectively."
   ]
  },
  {
   "cell_type": "code",
   "execution_count": 2,
   "metadata": {
    "collapsed": false
   },
   "outputs": [],
   "source": [
    "import pandas as pd\n",
    "from pandas.tools import plotting\n",
    "#from pandas.plotting import scatter_matrix\n",
    "import matplotlib.pyplot as plt\n",
    "import numpy as np\n",
    "import seaborn as sns\n",
    "from scipy import stats\n",
    "from sklearn.metrics import mean_squared_error\n",
    "from pylab import rcParams\n",
    "rcParams['figure.figsize'] = 10, 5"
   ]
  },
  {
   "cell_type": "markdown",
   "metadata": {},
   "source": [
    "## Read file and select the tab"
   ]
  },
  {
   "cell_type": "code",
   "execution_count": 3,
   "metadata": {
    "collapsed": true
   },
   "outputs": [],
   "source": [
    "xls_file = pd.ExcelFile('../../DataSets/pybk017master/gvaireferencetables.xls')\n",
    "Table1 = xls_file.parse('Table 1')"
   ]
  },
  {
   "cell_type": "markdown",
   "metadata": {},
   "source": [
    "## Remove unwanted rows\n",
    "Extra-Regio data and Statistical Discrepancy\n",
    "If I was analysing all the tabs, I would use a more robust approach such as checking the lengh and then slicing by index."
   ]
  },
  {
   "cell_type": "code",
   "execution_count": 4,
   "metadata": {
    "collapsed": true
   },
   "outputs": [],
   "source": [
    "T1 = Table1.iloc[:-3]"
   ]
  },
  {
   "cell_type": "markdown",
   "metadata": {},
   "source": [
    "## Format dataframe\n",
    "Transpose dataframe and set time column"
   ]
  },
  {
   "cell_type": "code",
   "execution_count": 5,
   "metadata": {
    "collapsed": true
   },
   "outputs": [],
   "source": [
    "T1.set_index('Region name', inplace = True)\n",
    "T1.transpose()\n",
    "T1 = T1.T\n",
    "# UK_England= UK_England.rename(columns={'Region name': 'Year'})\n",
    "T1 = T1.reset_index()\n",
    "T1['Time'] = pd.to_datetime(T1['index'], format = '%Y')\n",
    "\n",
    "# Make new column as the year \n",
    "T1['Time'] = pd.to_datetime(T1['Time'], format='%Y').dt.year"
   ]
  },
  {
   "cell_type": "markdown",
   "metadata": {},
   "source": [
    "## Check if the data looks ok - Sanity checks\n",
    "Extract Bath subset from dataframe and rename column"
   ]
  },
  {
   "cell_type": "code",
   "execution_count": 6,
   "metadata": {
    "collapsed": true
   },
   "outputs": [],
   "source": [
    "GVA = T1[['index', 'Time', 'Bath and North East Somerset, North Somerset and South Gloucestershire']]\n",
    "GVA = GVA.rename(columns={'Bath and North East Somerset, North Somerset and South Gloucestershire' : 'GVA_at_current_price'})"
   ]
  },
  {
   "cell_type": "code",
   "execution_count": 7,
   "metadata": {
    "collapsed": false
   },
   "outputs": [
    {
     "data": {
      "text/html": [
       "<div>\n",
       "<table border=\"1\" class=\"dataframe\">\n",
       "  <thead>\n",
       "    <tr style=\"text-align: right;\">\n",
       "      <th>Region name</th>\n",
       "      <th>Time</th>\n",
       "      <th>GVA_at_current_price</th>\n",
       "    </tr>\n",
       "  </thead>\n",
       "  <tbody>\n",
       "    <tr>\n",
       "      <th>count</th>\n",
       "      <td>19.000000</td>\n",
       "      <td>19.000000</td>\n",
       "    </tr>\n",
       "    <tr>\n",
       "      <th>mean</th>\n",
       "      <td>2006.000000</td>\n",
       "      <td>13173.894737</td>\n",
       "    </tr>\n",
       "    <tr>\n",
       "      <th>std</th>\n",
       "      <td>5.627314</td>\n",
       "      <td>3173.707487</td>\n",
       "    </tr>\n",
       "    <tr>\n",
       "      <th>min</th>\n",
       "      <td>1997.000000</td>\n",
       "      <td>7985.000000</td>\n",
       "    </tr>\n",
       "    <tr>\n",
       "      <th>25%</th>\n",
       "      <td>2001.500000</td>\n",
       "      <td>10544.500000</td>\n",
       "    </tr>\n",
       "    <tr>\n",
       "      <th>50%</th>\n",
       "      <td>2006.000000</td>\n",
       "      <td>13519.000000</td>\n",
       "    </tr>\n",
       "    <tr>\n",
       "      <th>75%</th>\n",
       "      <td>2010.500000</td>\n",
       "      <td>15729.000000</td>\n",
       "    </tr>\n",
       "    <tr>\n",
       "      <th>max</th>\n",
       "      <td>2015.000000</td>\n",
       "      <td>17923.000000</td>\n",
       "    </tr>\n",
       "  </tbody>\n",
       "</table>\n",
       "</div>"
      ],
      "text/plain": [
       "Region name         Time  GVA_at_current_price\n",
       "count          19.000000             19.000000\n",
       "mean         2006.000000          13173.894737\n",
       "std             5.627314           3173.707487\n",
       "min          1997.000000           7985.000000\n",
       "25%          2001.500000          10544.500000\n",
       "50%          2006.000000          13519.000000\n",
       "75%          2010.500000          15729.000000\n",
       "max          2015.000000          17923.000000"
      ]
     },
     "execution_count": 7,
     "metadata": {},
     "output_type": "execute_result"
    }
   ],
   "source": [
    "GVA.describe()"
   ]
  },
  {
   "cell_type": "markdown",
   "metadata": {},
   "source": [
    "Note on automation: I could look into some tests that would fail if GVA is negative, for example. Assuming this is a fair criteria."
   ]
  },
  {
   "cell_type": "code",
   "execution_count": 8,
   "metadata": {
    "collapsed": false
   },
   "outputs": [
    {
     "data": {
      "text/plain": [
       "<matplotlib.axes._subplots.AxesSubplot at 0x11ddf8dd8>"
      ]
     },
     "execution_count": 8,
     "metadata": {},
     "output_type": "execute_result"
    },
    {
     "data": {
      "image/png": "[encoded data removed]",
      "text/plain": [
       "<matplotlib.figure.Figure at 0x11b475898>"
      ]
     },
     "metadata": {},
     "output_type": "display_data"
    }
   ],
   "source": [
    "%matplotlib inline\n",
    "fig, ax = plt.subplots()\n",
    "fig.set_size_inches(8, 5)\n",
    "sns.boxplot(GVA.GVA_at_current_price)\n",
    "sns.swarmplot(GVA.GVA_at_current_price, color=\".25\")"
   ]
  },
  {
   "cell_type": "markdown",
   "metadata": {},
   "source": [
    "No outliers.\n",
    "\n",
    "Left skewed data. Median closer to 3rd quartile.\n",
    "\n"
   ]
  },
  {
   "cell_type": "code",
   "execution_count": 9,
   "metadata": {
    "collapsed": false
   },
   "outputs": [
    {
     "data": {
      "image/png": "[encoded data removed]",
      "text/plain": [
       "<matplotlib.figure.Figure at 0x121167588>"
      ]
     },
     "metadata": {},
     "output_type": "display_data"
    }
   ],
   "source": [
    "fig, ax = plt.subplots()\n",
    "fig.set_size_inches(11.7, 8.27)\n",
    "ax = sns.barplot(y='GVA_at_current_price', x = 'Time', data=GVA)\n",
    "ax.set(xlabel='Time', ylabel='GVA (GBP)', title = 'Bar plot of Gross Value Added (Income Approach) at current basic prices')\n",
    "sns.despine()"
   ]
  },
  {
   "cell_type": "code",
   "execution_count": 10,
   "metadata": {
    "collapsed": false
   },
   "outputs": [
    {
     "data": {
      "text/plain": [
       "<matplotlib.text.Text at 0x1213eeb38>"
      ]
     },
     "execution_count": 10,
     "metadata": {},
     "output_type": "execute_result"
    },
    {
     "data": {
      "image/png": "[encoded data removed]",
      "text/plain": [
       "<matplotlib.figure.Figure at 0x1214364e0>"
      ]
     },
     "metadata": {},
     "output_type": "display_data"
    }
   ],
   "source": [
    "GVA.plot.scatter('Time', 'GVA_at_current_price')\n",
    "plt.title('Gross Value Added (Income Approach) at current basic prices')\n",
    "plt.xlim(1996, 2016)\n",
    "plt.xlabel('Year'); plt.ylabel('GVA (GBP)')\n",
    "\n"
   ]
  },
  {
   "cell_type": "markdown",
   "metadata": {},
   "source": [
    "Data is pretty linear. So linear regression seems to be a sensible approach."
   ]
  },
  {
   "cell_type": "markdown",
   "metadata": {},
   "source": [
    "## Linear regression"
   ]
  },
  {
   "cell_type": "code",
   "execution_count": 11,
   "metadata": {
    "collapsed": true
   },
   "outputs": [],
   "source": [
    "slope, intercept, r_value, p_value, std_err = stats.linregress(GVA['Time'], \\\n",
    "    GVA['GVA_at_current_price'])"
   ]
  },
  {
   "cell_type": "code",
   "execution_count": 12,
   "metadata": {
    "collapsed": false
   },
   "outputs": [
    {
     "name": "stdout",
     "output_type": "stream",
     "text": [
      "The p-value between the 2 variables is measured as 2.31704866342e-16\n",
      "\n",
      "Least squares linear model coefficients, intercept = -1108190.66316. Slope = 559.005263158\n",
      "\n",
      "R-Squared = 0.982427140298\n",
      "Standard error = 18.1327002039\n"
     ]
    }
   ],
   "source": [
    "print('The p-value between the 2 variables is measured as ' + str(p_value) + '\\n')\n",
    "print('Least squares linear model coefficients, intercept = ' + str(intercept) + \\\n",
    "  '. Slope = ' + str(slope)+'\\n')\n",
    "print('R-Squared = ' + str(r_value**2))\n",
    "print('Standard error = ' + str(std_err))"
   ]
  },
  {
   "cell_type": "markdown",
   "metadata": {},
   "source": [
    "The H0 (null-hypothesis) is rejected, which means that there is relationship between our X and Y.\n",
    "\n",
    "R-squared is high. The model fits the data well.\n"
   ]
  },
  {
   "cell_type": "code",
   "execution_count": 13,
   "metadata": {
    "collapsed": true
   },
   "outputs": [],
   "source": [
    "# Create regression line\n",
    "regressLine = intercept + GVA['Time']*slope"
   ]
  },
  {
   "cell_type": "code",
   "execution_count": 14,
   "metadata": {
    "collapsed": false
   },
   "outputs": [
    {
     "data": {
      "text/plain": [
       "<matplotlib.text.Text at 0x121855748>"
      ]
     },
     "execution_count": 14,
     "metadata": {},
     "output_type": "execute_result"
    },
    {
     "data": {
      "image/png": "[encoded data removed]",
      "text/plain": [
       "<matplotlib.figure.Figure at 0x12180c438>"
      ]
     },
     "metadata": {},
     "output_type": "display_data"
    }
   ],
   "source": [
    "# Scatter plot \n",
    "plt.clf()\n",
    "plt.scatter(GVA['Time'], GVA['GVA_at_current_price'], s = 8, label = 'Bath')\n",
    "# least squares regression line\n",
    "plt.plot(GVA['Time'], regressLine, label = 'Least squares regression line') \n",
    "plt.legend(loc = 'upper left')\n",
    "plt.title('Gross Value Added (Income Approach) at current basic prices')\n",
    "plt.xlim(1996, 2016)\n",
    "plt.xlabel('Year'); plt.ylabel('GVA (GBP)')"
   ]
  },
  {
   "cell_type": "markdown",
   "metadata": {},
   "source": [
    "### If I wanted to predict GVA for 2016 and 2017 using the above model:"
   ]
  },
  {
   "cell_type": "code",
   "execution_count": 15,
   "metadata": {
    "collapsed": false,
    "scrolled": true
   },
   "outputs": [
    {
     "name": "stdout",
     "output_type": "stream",
     "text": [
      "18763.9473684 GBP\n"
     ]
    }
   ],
   "source": [
    "regressLine = intercept + 2016*slope\n",
    "print (str(regressLine) + ' GBP')"
   ]
  },
  {
   "cell_type": "code",
   "execution_count": 16,
   "metadata": {
    "collapsed": false
   },
   "outputs": [
    {
     "name": "stdout",
     "output_type": "stream",
     "text": [
      "19322.9526316 GBP\n"
     ]
    }
   ],
   "source": [
    "regressLine = intercept + 2017*slope\n",
    "print (str(regressLine) + ' GBP')"
   ]
  },
  {
   "cell_type": "markdown",
   "metadata": {},
   "source": [
    "### Train / test model"
   ]
  },
  {
   "cell_type": "markdown",
   "metadata": {},
   "source": [
    "In practice I need to implement the linear regression on the training data and then I can test it.\n",
    "\n",
    "If I was not dealing with time-series, I would randonly split the data into train/test. But time series occur in a temporal sequence that needs to be preserved. I will use the first 80% of the data to train the model and I will use the remaining 20% to test it."
   ]
  },
  {
   "cell_type": "code",
   "execution_count": 17,
   "metadata": {
    "collapsed": true
   },
   "outputs": [],
   "source": [
    "training=GVA[GVA['Time']<=2011]\n",
    "testing=GVA[GVA['Time']>2011]"
   ]
  },
  {
   "cell_type": "code",
   "execution_count": 18,
   "metadata": {
    "collapsed": false
   },
   "outputs": [
    {
     "data": {
      "text/plain": [
       "((15, 3), (4, 3))"
      ]
     },
     "execution_count": 18,
     "metadata": {},
     "output_type": "execute_result"
    }
   ],
   "source": [
    "training.shape, testing.shape"
   ]
  },
  {
   "cell_type": "code",
   "execution_count": 19,
   "metadata": {
    "collapsed": false
   },
   "outputs": [
    {
     "data": {
      "text/plain": [
       "array([1997, 1998, 1999, 2000, 2001, 2002, 2003, 2004, 2005, 2006, 2007,\n",
       "       2008, 2009, 2010, 2011])"
      ]
     },
     "execution_count": 19,
     "metadata": {},
     "output_type": "execute_result"
    }
   ],
   "source": [
    "np.unique(training['Time'])"
   ]
  },
  {
   "cell_type": "markdown",
   "metadata": {},
   "source": [
    "The training period ranges from 1997 to 2011."
   ]
  },
  {
   "cell_type": "code",
   "execution_count": 20,
   "metadata": {
    "collapsed": false
   },
   "outputs": [
    {
     "data": {
      "image/png": "[encoded data removed]",
      "text/plain": [
       "<matplotlib.figure.Figure at 0x121891e10>"
      ]
     },
     "metadata": {},
     "output_type": "display_data"
    }
   ],
   "source": [
    "plt.plot(training['Time'], training['GVA_at_current_price'])\n",
    "plt.plot(testing['Time'], testing['GVA_at_current_price'])\n",
    "plt.title('Gross Value Added (Income Approach) at current basic prices')\n",
    "plt.xlim(1996, 2016)\n",
    "plt.xlabel('Year'); plt.ylabel('GVA (GBP)')\n",
    "rcParams['figure.figsize'] = 10, 5"
   ]
  },
  {
   "cell_type": "code",
   "execution_count": 29,
   "metadata": {
    "collapsed": true
   },
   "outputs": [],
   "source": [
    "# Perform linear regression\n",
    "slope, intercept, r_value, p_value, std_err = stats.linregress(training['Time'], \\\n",
    "    training['GVA_at_current_price'])"
   ]
  },
  {
   "cell_type": "code",
   "execution_count": 30,
   "metadata": {
    "collapsed": false
   },
   "outputs": [
    {
     "name": "stdout",
     "output_type": "stream",
     "text": [
      "The p-value between the 2 variables is measured as 5.28297100348e-13\n",
      "\n",
      "Least squares linear model coefficients, intercept = -1200704.38571. Slope = 605.217857143\n",
      "\n",
      "R-Squared = 0.983677235835\n",
      "Standard error = 21.622733704\n"
     ]
    }
   ],
   "source": [
    "print('The p-value between the 2 variables is measured as ' + str(p_value) + '\\n')\n",
    "print('Least squares linear model coefficients, intercept = ' + str(intercept) + \\\n",
    "  '. Slope = ' + str(slope)+'\\n')\n",
    "print('R-Squared = ' + str(r_value**2))\n",
    "print('Standard error = ' + str(std_err))"
   ]
  },
  {
   "cell_type": "markdown",
   "metadata": {},
   "source": [
    "Null-hypothesis is rejected.\n",
    "\n",
    "R-squared shows that there's a good fit.\n",
    "\n",
    "The standard error or the estimate shows the accuracy of predictions. It represents the average distance of the observed value to the regression line"
   ]
  },
  {
   "cell_type": "code",
   "execution_count": 31,
   "metadata": {
    "collapsed": true
   },
   "outputs": [],
   "source": [
    "# Create regression line\n",
    "regressLine = intercept + training['Time']*slope"
   ]
  },
  {
   "cell_type": "code",
   "execution_count": 32,
   "metadata": {
    "collapsed": false
   },
   "outputs": [
    {
     "data": {
      "text/html": [
       "<div>\n",
       "<table border=\"1\" class=\"dataframe\">\n",
       "  <thead>\n",
       "    <tr style=\"text-align: right;\">\n",
       "      <th></th>\n",
       "      <th>Observation</th>\n",
       "      <th>Predicted</th>\n",
       "      <th>Years</th>\n",
       "    </tr>\n",
       "  </thead>\n",
       "  <tbody>\n",
       "    <tr>\n",
       "      <th>15</th>\n",
       "      <td>15885</td>\n",
       "      <td>16993.942857</td>\n",
       "      <td>2012</td>\n",
       "    </tr>\n",
       "    <tr>\n",
       "      <th>16</th>\n",
       "      <td>16583</td>\n",
       "      <td>17599.160714</td>\n",
       "      <td>2013</td>\n",
       "    </tr>\n",
       "    <tr>\n",
       "      <th>17</th>\n",
       "      <td>17630</td>\n",
       "      <td>18204.378571</td>\n",
       "      <td>2014</td>\n",
       "    </tr>\n",
       "    <tr>\n",
       "      <th>18</th>\n",
       "      <td>17923</td>\n",
       "      <td>18809.596429</td>\n",
       "      <td>2015</td>\n",
       "    </tr>\n",
       "  </tbody>\n",
       "</table>\n",
       "</div>"
      ],
      "text/plain": [
       "    Observation     Predicted  Years\n",
       "15        15885  16993.942857   2012\n",
       "16        16583  17599.160714   2013\n",
       "17        17630  18204.378571   2014\n",
       "18        17923  18809.596429   2015"
      ]
     },
     "execution_count": 32,
     "metadata": {},
     "output_type": "execute_result"
    }
   ],
   "source": [
    "# Check values\n",
    "predicted= intercept + testing['Time']*slope\n",
    "index = testing['Time']\n",
    "obs_pred=pd.DataFrame({\"Observation\":testing.GVA_at_current_price,\"Predicted\":predicted, \"Years\":index})\n",
    "obs_pred"
   ]
  },
  {
   "cell_type": "code",
   "execution_count": 33,
   "metadata": {
    "collapsed": false
   },
   "outputs": [
    {
     "name": "stdout",
     "output_type": "stream",
     "text": [
      "Predicted values for 2016 and 2017 are 19414.8142857 and 20020.0321429\n",
      "\n"
     ]
    }
   ],
   "source": [
    "predict2016 = intercept + 2016*slope\n",
    "predict2017 = intercept + 2017*slope\n",
    "print('Predicted values for 2016 and 2017 are ' + str(predict2016) + \\\n",
    "  ' and ' + str(predict2017)+'\\n')"
   ]
  },
  {
   "cell_type": "code",
   "execution_count": 34,
   "metadata": {
    "collapsed": false
   },
   "outputs": [
    {
     "data": {
      "image/png": "[encoded data removed]",
      "text/plain": [
       "<matplotlib.figure.Figure at 0x122e9edd8>"
      ]
     },
     "metadata": {},
     "output_type": "display_data"
    }
   ],
   "source": [
    "# obs_pred.plot(kind='scatter', x='Observation', y='Predicted',color='DarkBlue')\n",
    "# plt.show()\n",
    "sns.pairplot(obs_pred, x_vars=['Observation'], y_vars='Predicted', size=10, aspect=1, kind='reg')\n",
    "plt.show()"
   ]
  },
  {
   "cell_type": "markdown",
   "metadata": {},
   "source": [
    "The model overestimates the GVA."
   ]
  },
  {
   "cell_type": "code",
   "execution_count": 35,
   "metadata": {
    "collapsed": false
   },
   "outputs": [
    {
     "data": {
      "text/plain": [
       "919.00772958360483"
      ]
     },
     "execution_count": 35,
     "metadata": {},
     "output_type": "execute_result"
    }
   ],
   "source": [
    "# difference between predicted and observed\n",
    "RMSE = (mean_squared_error(obs_pred['Observation'], obs_pred['Predicted']))**0.5\n",
    "RMSE"
   ]
  },
  {
   "cell_type": "code",
   "execution_count": null,
   "metadata": {
    "collapsed": true
   },
   "outputs": [],
   "source": []
  }
 ],
 "metadata": {
  "kernelspec": {
   "display_name": "Python 3",
   "language": "python",
   "name": "python3"
  },
  "language_info": {
   "codemirror_mode": {
    "name": "ipython",
    "version": 3
   },
   "file_extension": ".py",
   "mimetype": "text/x-python",
   "name": "python",
   "nbconvert_exporter": "python",
   "pygments_lexer": "ipython3",
   "version": "3.6.0"
  }
 },
 "nbformat": 4,
 "nbformat_minor": 2
}
