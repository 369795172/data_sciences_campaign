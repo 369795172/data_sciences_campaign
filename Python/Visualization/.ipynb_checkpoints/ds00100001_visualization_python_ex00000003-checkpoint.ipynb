{
 "cells": [
  {
   "cell_type": "code",
   "execution_count": null,
   "metadata": {
    "collapsed": true
   },
   "outputs": [],
   "source": [
    "# encoding=utf8"
   ]
  },
  {
   "cell_type": "markdown",
   "metadata": {},
   "source": [
    "# Visualization\n"
   ]
  },
  {
   "cell_type": "markdown",
   "metadata": {},
   "source": [
    "## Matplotlib\n",
    "\n",
    "Creating publication-quality figures with matplotlib\n"
   ]
  },
  {
   "cell_type": "code",
   "execution_count": 8,
   "metadata": {
    "collapsed": true
   },
   "outputs": [],
   "source": [
    "import glob\n",
    "from pylab import *\n",
    "\n"
   ]
  },
  {
   "cell_type": "code",
   "execution_count": 9,
   "metadata": {
    "collapsed": false
   },
   "outputs": [
    {
     "name": "stderr",
     "output_type": "stream",
     "text": [
      "/Users/bater.makhabel/anaconda3/lib/python3.6/site-packages/matplotlib/__init__.py:913: UserWarning: text.fontsize is deprecated and replaced with font.size; please use the latter.\n",
      "  warnings.warn(self.msg_depr % (key, alt_key))\n"
     ]
    }
   ],
   "source": [
    "params = {\n",
    "    'axes.labelsize': 8,\n",
    "    'text.fontsize': 8,\n",
    "    'legend.fontsize': 10,\n",
    "    'xtick.labelsize': 10,\n",
    "    'ytick.labelsize': 10,\n",
    "    'text.usetex': False,\n",
    "    'figure.figsize': [2.5, 4.5]\n",
    "}\n",
    "rcParams.update(params)\n",
    "\n"
   ]
  },
  {
   "cell_type": "code",
   "execution_count": 10,
   "metadata": {
    "collapsed": true
   },
   "outputs": [],
   "source": [
    "def load(dir):\n",
    "    f_list = glob.glob(dir + '/*/*/bestfit.dat')\n",
    "    num_lines = sum(1 for line in open(f_list[0]))\n",
    "    i = 0;\n",
    "    data = np.zeros((len(f_list), num_lines)) \n",
    "    for f in f_list:\n",
    "        data[i, :] = np.loadtxt(f)[:,1]\n",
    "        i += 1\n",
    "    return data\n",
    "\n",
    "data_low_mut = load('../../DataSets/pybk031master/low_mut')\n",
    "data_high_mut = load('../../DataSets/pybk031master/high_mut')\n",
    "low_mut_100 = data_low_mut[:, 100]\n",
    "high_mut_100 =  data_high_mut[:, 100]\n",
    "\n",
    "fig = figure()\n",
    "ax = fig.add_subplot(111)\n",
    "\n",
    "bp = ax.boxplot([low_mut_100, high_mut_100], notch=0, sym='b+', vert=1, whis=1.5, \n",
    "             positions=None, widths=0.6)\n",
    "\n",
    "# now all plot function should be applied to ax\n",
    "ax.spines['top'].set_visible(False)\n",
    "ax.spines['right'].set_visible(False)\n",
    "ax.spines['left'].set_visible(False)\n",
    "ax.get_xaxis().tick_bottom()\n",
    "ax.get_yaxis().tick_left()\n",
    "ax.tick_params(axis='x', direction='out')\n",
    "ax.tick_params(axis='y', length=0)\n",
    "\n",
    "ax.grid(axis='y', color=\"0.9\", linestyle='-', linewidth=1)\n",
    "ax.set_axisbelow(True)\n",
    "\n",
    "\n",
    "#savefig('boxplot2.png')\n",
    "\n"
   ]
  },
  {
   "cell_type": "code",
   "execution_count": 11,
   "metadata": {
    "collapsed": false
   },
   "outputs": [
    {
     "data": {
      "image/png": "[encoded data removed]",
      "text/plain": [
       "<matplotlib.figure.Figure at 0x1125dc198>"
      ]
     },
     "metadata": {},
     "output_type": "display_data"
    }
   ],
   "source": [
    "show()"
   ]
  },
  {
   "cell_type": "code",
   "execution_count": null,
   "metadata": {
    "collapsed": true
   },
   "outputs": [],
   "source": []
  }
 ],
 "metadata": {
  "kernelspec": {
   "display_name": "Python 3",
   "language": "python",
   "name": "python3"
  },
  "language_info": {
   "codemirror_mode": {
    "name": "ipython",
    "version": 3
   },
   "file_extension": ".py",
   "mimetype": "text/x-python",
   "name": "python",
   "nbconvert_exporter": "python",
   "pygments_lexer": "ipython3",
   "version": "3.6.0"
  }
 },
 "nbformat": 4,
 "nbformat_minor": 2
}
