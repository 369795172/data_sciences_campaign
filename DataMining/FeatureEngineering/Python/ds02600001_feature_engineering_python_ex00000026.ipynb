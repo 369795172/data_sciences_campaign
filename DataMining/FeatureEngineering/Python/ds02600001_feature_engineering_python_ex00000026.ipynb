{
 "cells": [
  {
   "cell_type": "code",
   "execution_count": 3,
   "metadata": {
    "collapsed": true
   },
   "outputs": [],
   "source": [
    "# encoding=utf8"
   ]
  },
  {
   "cell_type": "markdown",
   "metadata": {
    "collapsed": true
   },
   "source": [
    "# 特征工程-线性特征变换-多维定标MDS\n"
   ]
  },
  {
   "cell_type": "code",
   "execution_count": 5,
   "metadata": {
    "collapsed": true
   },
   "outputs": [],
   "source": [
    "import numpy as np\n",
    "import pandas as pd\n",
    "from sklearn.manifold import MDS\n",
    "import matplotlib.pyplot as plt\n",
    "\n"
   ]
  },
  {
   "cell_type": "code",
   "execution_count": 6,
   "metadata": {
    "collapsed": false
   },
   "outputs": [],
   "source": [
    "\n",
    "data = np.array([(5,0,0,0,0,1,0,2,1,0),\n",
    "                 (0,0,3,0,3,0,1,0,0,1),\n",
    "                 (2,0,0,0,0,0,1,0,0,0),\n",
    "                 (1,0,1,0,2,0,0,0,0,1),\n",
    "                 (5,0,2,0,0,4,2,2,3,7),\n",
    "                 (0,3,0,1,0,0,0,0,0,0),\n",
    "                 (0,0,0,6,0,0,0,0,0,1),\n",
    "                 (0,5,0,0,0,0,0,0,0,0),\n",
    "                 (0,1,0,0,0,0,0,0,0,0),\n",
    "                 (0,2,0,0,0,0,0,0,0,0)\n",
    "                ]\n",
    "               )\n"
   ]
  },
  {
   "cell_type": "code",
   "execution_count": 7,
   "metadata": {
    "collapsed": true
   },
   "outputs": [],
   "source": [
    "index = ['auto1','auto2','auto3','auto4','auto5','moto1','moto2','moto3','moto4','moto5']\n",
    "columns = ['car','bike','cars','his','tires','she','ive','her','#k','are']\n",
    "Word = pd.DataFrame(data,index,columns)\n"
   ]
  },
  {
   "cell_type": "code",
   "execution_count": 8,
   "metadata": {
    "collapsed": false
   },
   "outputs": [
    {
     "name": "stderr",
     "output_type": "stream",
     "text": [
      "/Users/bater.makhabel/anaconda3/lib/python3.6/site-packages/sklearn/manifold/mds.py:396: UserWarning: The MDS API has changed. ``fit`` now constructs an dissimilarity matrix from data. To use a custom dissimilarity matrix, set ``dissimilarity='precomputed'``.\n",
      "  warnings.warn(\"The MDS API has changed. ``fit`` now constructs an\"\n"
     ]
    },
    {
     "data": {
      "text/plain": [
       "<matplotlib.collections.PathCollection at 0x1170e82e8>"
      ]
     },
     "execution_count": 8,
     "metadata": {},
     "output_type": "execute_result"
    }
   ],
   "source": [
    "\n",
    "mds = MDS()\n",
    "mds.fit(data)\n",
    "a = mds.embedding_\n",
    "plt.scatter(a[0:5,0],a[0:5,1],color='turquoise')\n",
    "plt.scatter(a[5:10,0],a[5:10,1],color='red')"
   ]
  },
  {
   "cell_type": "code",
   "execution_count": null,
   "metadata": {
    "collapsed": true
   },
   "outputs": [],
   "source": []
  }
 ],
 "metadata": {
  "kernelspec": {
   "display_name": "Python 3",
   "language": "python",
   "name": "python3"
  },
  "language_info": {
   "codemirror_mode": {
    "name": "ipython",
    "version": 3
   },
   "file_extension": ".py",
   "mimetype": "text/x-python",
   "name": "python",
   "nbconvert_exporter": "python",
   "pygments_lexer": "ipython3",
   "version": "3.6.0"
  }
 },
 "nbformat": 4,
 "nbformat_minor": 2
}
