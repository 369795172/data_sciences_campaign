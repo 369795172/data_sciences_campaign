{
 "cells": [
  {
   "cell_type": "code",
   "execution_count": 5,
   "metadata": {
    "collapsed": true
   },
   "outputs": [],
   "source": [
    "# encoding=utf8"
   ]
  },
  {
   "cell_type": "markdown",
   "metadata": {},
   "source": [
    "# Get and Evaluate Your Dataset\n",
    "\n",
    "+ Consider the problem you want to solve.\n",
    "    - What information is most likely relevant?\n",
    "    - Do you have all the relevant information you need?\n",
    "+ Do you need to get a dataset?\n",
    "    - Consider what information you need and how to get it.\n",
    "    - Are there potential problems with collecting this data?\n",
    "+ Do you already have a dataset?\n",
    "    - Where did it come from?\n",
    "    - Are there known or potential issues with the data?"
   ]
  },
  {
   "cell_type": "code",
   "execution_count": 2,
   "metadata": {
    "collapsed": true
   },
   "outputs": [],
   "source": [
    "import numpy as np\n",
    "import pandas as pd\n",
    "from IPython.display import display"
   ]
  },
  {
   "cell_type": "markdown",
   "metadata": {},
   "source": [
    "# Data Cleaning\n",
    "\n",
    "The first step is to clean up any issues with the dataset, such as:\n",
    "\n",
    "+ Formatting errors (e.g. extra whitespace, misspellings)\n",
    "+ Incorrect type (using numerical vs string entries)\n",
    "+ Duplicate entries (duplicate keys or columns)\n",
    "+ Missing data (e.g. NaN)\n",
    "+ Nonsensical data entries (e.g. age < 0)\n",
    "+ Saturated/default data (e.g. data on the limits of sensor range)\n",
    "+ Confidential information"
   ]
  },
  {
   "cell_type": "markdown",
   "metadata": {},
   "source": [
    "# Dataset\n",
    "\n",
    "We're using a modified version of the 1999-2000 National Health and Nutrition Examination Survey.\n",
    "Some of the cleaning done by the researchers has been artificially undone to demonstrate the process.\n",
    "\n",
    "Contains demographic information and body measurements of over 9,000 people of all ages."
   ]
  },
  {
   "cell_type": "markdown",
   "metadata": {},
   "source": [
    "# Take a Look at Our Data"
   ]
  },
  {
   "cell_type": "code",
   "execution_count": 3,
   "metadata": {
    "collapsed": false
   },
   "outputs": [
    {
     "data": {
      "text/html": [
       "<div>\n",
       "<table border=\"1\" class=\"dataframe\">\n",
       "  <thead>\n",
       "    <tr style=\"text-align: right;\">\n",
       "      <th></th>\n",
       "      <th>SDDSRVYR</th>\n",
       "      <th>RIDSTATR</th>\n",
       "      <th>RIDEXMON</th>\n",
       "      <th>RIAGENDR</th>\n",
       "      <th>RIDAGEYR</th>\n",
       "      <th>RIDAGEMN</th>\n",
       "      <th>RIDAGEEX</th>\n",
       "      <th>RIDRETH1</th>\n",
       "      <th>RIDRETH2</th>\n",
       "      <th>DMQMILIT</th>\n",
       "      <th>...</th>\n",
       "      <th>WTIREP43</th>\n",
       "      <th>WTIREP44</th>\n",
       "      <th>WTIREP45</th>\n",
       "      <th>WTIREP46</th>\n",
       "      <th>WTIREP47</th>\n",
       "      <th>WTIREP48</th>\n",
       "      <th>WTIREP49</th>\n",
       "      <th>WTIREP50</th>\n",
       "      <th>WTIREP51</th>\n",
       "      <th>WTIREP52</th>\n",
       "    </tr>\n",
       "  </thead>\n",
       "  <tbody>\n",
       "    <tr>\n",
       "      <th>count</th>\n",
       "      <td>9968.0</td>\n",
       "      <td>9967.000000</td>\n",
       "      <td>9285.000000</td>\n",
       "      <td>9967.000000</td>\n",
       "      <td>9967.000000</td>\n",
       "      <td>9795.000000</td>\n",
       "      <td>9144.000000</td>\n",
       "      <td>9968.000000</td>\n",
       "      <td>9968.000000</td>\n",
       "      <td>5732.000000</td>\n",
       "      <td>...</td>\n",
       "      <td>9968.000000</td>\n",
       "      <td>9968.000000</td>\n",
       "      <td>9968.000000</td>\n",
       "      <td>9968.000000</td>\n",
       "      <td>9968.000000</td>\n",
       "      <td>9968.000000</td>\n",
       "      <td>9968.000000</td>\n",
       "      <td>9968.000000</td>\n",
       "      <td>9968.000000</td>\n",
       "      <td>9968.000000</td>\n",
       "    </tr>\n",
       "    <tr>\n",
       "      <th>mean</th>\n",
       "      <td>1.0</td>\n",
       "      <td>1.931474</td>\n",
       "      <td>1.578783</td>\n",
       "      <td>1.509983</td>\n",
       "      <td>29.725996</td>\n",
       "      <td>350.498111</td>\n",
       "      <td>345.336724</td>\n",
       "      <td>2.561597</td>\n",
       "      <td>2.231641</td>\n",
       "      <td>1.885380</td>\n",
       "      <td>...</td>\n",
       "      <td>27310.160650</td>\n",
       "      <td>27310.163962</td>\n",
       "      <td>27310.455566</td>\n",
       "      <td>27310.317214</td>\n",
       "      <td>27310.260043</td>\n",
       "      <td>27310.152429</td>\n",
       "      <td>27310.262446</td>\n",
       "      <td>27310.221881</td>\n",
       "      <td>27310.318063</td>\n",
       "      <td>27309.204677</td>\n",
       "    </tr>\n",
       "    <tr>\n",
       "      <th>std</th>\n",
       "      <td>0.0</td>\n",
       "      <td>0.252659</td>\n",
       "      <td>0.493781</td>\n",
       "      <td>0.499925</td>\n",
       "      <td>24.840609</td>\n",
       "      <td>287.157486</td>\n",
       "      <td>283.554689</td>\n",
       "      <td>1.268039</td>\n",
       "      <td>1.130234</td>\n",
       "      <td>0.420155</td>\n",
       "      <td>...</td>\n",
       "      <td>30662.164252</td>\n",
       "      <td>30595.400948</td>\n",
       "      <td>31040.209473</td>\n",
       "      <td>30846.492180</td>\n",
       "      <td>30719.446945</td>\n",
       "      <td>30183.929622</td>\n",
       "      <td>30381.505251</td>\n",
       "      <td>30433.979571</td>\n",
       "      <td>30902.034900</td>\n",
       "      <td>30504.034656</td>\n",
       "    </tr>\n",
       "    <tr>\n",
       "      <th>min</th>\n",
       "      <td>1.0</td>\n",
       "      <td>1.000000</td>\n",
       "      <td>1.000000</td>\n",
       "      <td>1.000000</td>\n",
       "      <td>-15.000000</td>\n",
       "      <td>0.000000</td>\n",
       "      <td>0.000000</td>\n",
       "      <td>1.000000</td>\n",
       "      <td>1.000000</td>\n",
       "      <td>1.000000</td>\n",
       "      <td>...</td>\n",
       "      <td>0.000000</td>\n",
       "      <td>0.000000</td>\n",
       "      <td>0.000000</td>\n",
       "      <td>0.000000</td>\n",
       "      <td>0.000000</td>\n",
       "      <td>0.000000</td>\n",
       "      <td>0.000000</td>\n",
       "      <td>0.000000</td>\n",
       "      <td>0.000000</td>\n",
       "      <td>0.000000</td>\n",
       "    </tr>\n",
       "    <tr>\n",
       "      <th>25%</th>\n",
       "      <td>1.0</td>\n",
       "      <td>2.000000</td>\n",
       "      <td>1.000000</td>\n",
       "      <td>1.000000</td>\n",
       "      <td>11.000000</td>\n",
       "      <td>129.000000</td>\n",
       "      <td>128.000000</td>\n",
       "      <td>1.000000</td>\n",
       "      <td>1.000000</td>\n",
       "      <td>2.000000</td>\n",
       "      <td>...</td>\n",
       "      <td>5872.353429</td>\n",
       "      <td>5825.399910</td>\n",
       "      <td>5741.828256</td>\n",
       "      <td>5806.159712</td>\n",
       "      <td>5823.602951</td>\n",
       "      <td>5994.582302</td>\n",
       "      <td>5887.751374</td>\n",
       "      <td>5908.787800</td>\n",
       "      <td>5812.202275</td>\n",
       "      <td>5803.128885</td>\n",
       "    </tr>\n",
       "    <tr>\n",
       "      <th>50%</th>\n",
       "      <td>1.0</td>\n",
       "      <td>2.000000</td>\n",
       "      <td>2.000000</td>\n",
       "      <td>2.000000</td>\n",
       "      <td>19.000000</td>\n",
       "      <td>231.000000</td>\n",
       "      <td>228.000000</td>\n",
       "      <td>3.000000</td>\n",
       "      <td>2.000000</td>\n",
       "      <td>2.000000</td>\n",
       "      <td>...</td>\n",
       "      <td>13329.955762</td>\n",
       "      <td>13146.739062</td>\n",
       "      <td>12602.772205</td>\n",
       "      <td>13029.465601</td>\n",
       "      <td>13136.748919</td>\n",
       "      <td>13383.851347</td>\n",
       "      <td>13241.702132</td>\n",
       "      <td>13322.279984</td>\n",
       "      <td>12998.691847</td>\n",
       "      <td>13483.749560</td>\n",
       "    </tr>\n",
       "    <tr>\n",
       "      <th>75%</th>\n",
       "      <td>1.0</td>\n",
       "      <td>2.000000</td>\n",
       "      <td>2.000000</td>\n",
       "      <td>2.000000</td>\n",
       "      <td>48.000000</td>\n",
       "      <td>562.000000</td>\n",
       "      <td>550.250000</td>\n",
       "      <td>4.000000</td>\n",
       "      <td>3.000000</td>\n",
       "      <td>2.000000</td>\n",
       "      <td>...</td>\n",
       "      <td>39365.839763</td>\n",
       "      <td>39524.148907</td>\n",
       "      <td>40108.244435</td>\n",
       "      <td>39786.725033</td>\n",
       "      <td>39839.701043</td>\n",
       "      <td>39496.012125</td>\n",
       "      <td>39948.902129</td>\n",
       "      <td>39118.457922</td>\n",
       "      <td>39386.954612</td>\n",
       "      <td>40036.705287</td>\n",
       "    </tr>\n",
       "    <tr>\n",
       "      <th>max</th>\n",
       "      <td>1.0</td>\n",
       "      <td>2.000000</td>\n",
       "      <td>2.000000</td>\n",
       "      <td>2.000000</td>\n",
       "      <td>96.000000</td>\n",
       "      <td>1019.000000</td>\n",
       "      <td>1019.000000</td>\n",
       "      <td>5.000000</td>\n",
       "      <td>5.000000</td>\n",
       "      <td>9.000000</td>\n",
       "      <td>...</td>\n",
       "      <td>239320.707004</td>\n",
       "      <td>237571.751507</td>\n",
       "      <td>235750.381473</td>\n",
       "      <td>241834.327204</td>\n",
       "      <td>232738.992025</td>\n",
       "      <td>237147.546794</td>\n",
       "      <td>237076.103694</td>\n",
       "      <td>238360.240849</td>\n",
       "      <td>236648.979858</td>\n",
       "      <td>236964.160656</td>\n",
       "    </tr>\n",
       "  </tbody>\n",
       "</table>\n",
       "<p>8 rows × 143 columns</p>\n",
       "</div>"
      ],
      "text/plain": [
       "       SDDSRVYR     RIDSTATR     RIDEXMON     RIAGENDR     RIDAGEYR  \\\n",
       "count    9968.0  9967.000000  9285.000000  9967.000000  9967.000000   \n",
       "mean        1.0     1.931474     1.578783     1.509983    29.725996   \n",
       "std         0.0     0.252659     0.493781     0.499925    24.840609   \n",
       "min         1.0     1.000000     1.000000     1.000000   -15.000000   \n",
       "25%         1.0     2.000000     1.000000     1.000000    11.000000   \n",
       "50%         1.0     2.000000     2.000000     2.000000    19.000000   \n",
       "75%         1.0     2.000000     2.000000     2.000000    48.000000   \n",
       "max         1.0     2.000000     2.000000     2.000000    96.000000   \n",
       "\n",
       "          RIDAGEMN     RIDAGEEX     RIDRETH1     RIDRETH2     DMQMILIT  \\\n",
       "count  9795.000000  9144.000000  9968.000000  9968.000000  5732.000000   \n",
       "mean    350.498111   345.336724     2.561597     2.231641     1.885380   \n",
       "std     287.157486   283.554689     1.268039     1.130234     0.420155   \n",
       "min       0.000000     0.000000     1.000000     1.000000     1.000000   \n",
       "25%     129.000000   128.000000     1.000000     1.000000     2.000000   \n",
       "50%     231.000000   228.000000     3.000000     2.000000     2.000000   \n",
       "75%     562.000000   550.250000     4.000000     3.000000     2.000000   \n",
       "max    1019.000000  1019.000000     5.000000     5.000000     9.000000   \n",
       "\n",
       "           ...             WTIREP43       WTIREP44       WTIREP45  \\\n",
       "count      ...          9968.000000    9968.000000    9968.000000   \n",
       "mean       ...         27310.160650   27310.163962   27310.455566   \n",
       "std        ...         30662.164252   30595.400948   31040.209473   \n",
       "min        ...             0.000000       0.000000       0.000000   \n",
       "25%        ...          5872.353429    5825.399910    5741.828256   \n",
       "50%        ...         13329.955762   13146.739062   12602.772205   \n",
       "75%        ...         39365.839763   39524.148907   40108.244435   \n",
       "max        ...        239320.707004  237571.751507  235750.381473   \n",
       "\n",
       "            WTIREP46       WTIREP47       WTIREP48       WTIREP49  \\\n",
       "count    9968.000000    9968.000000    9968.000000    9968.000000   \n",
       "mean    27310.317214   27310.260043   27310.152429   27310.262446   \n",
       "std     30846.492180   30719.446945   30183.929622   30381.505251   \n",
       "min         0.000000       0.000000       0.000000       0.000000   \n",
       "25%      5806.159712    5823.602951    5994.582302    5887.751374   \n",
       "50%     13029.465601   13136.748919   13383.851347   13241.702132   \n",
       "75%     39786.725033   39839.701043   39496.012125   39948.902129   \n",
       "max    241834.327204  232738.992025  237147.546794  237076.103694   \n",
       "\n",
       "            WTIREP50       WTIREP51       WTIREP52  \n",
       "count    9968.000000    9968.000000    9968.000000  \n",
       "mean    27310.221881   27310.318063   27309.204677  \n",
       "std     30433.979571   30902.034900   30504.034656  \n",
       "min         0.000000       0.000000       0.000000  \n",
       "25%      5908.787800    5812.202275    5803.128885  \n",
       "50%     13322.279984   12998.691847   13483.749560  \n",
       "75%     39118.457922   39386.954612   40036.705287  \n",
       "max    238360.240849  236648.979858  236964.160656  \n",
       "\n",
       "[8 rows x 143 columns]"
      ]
     },
     "execution_count": 3,
     "metadata": {},
     "output_type": "execute_result"
    }
   ],
   "source": [
    "demo_original = pd.read_csv('../../DataSets/pybk004master/Demographics.csv', index_col=0)\n",
    "body_original = pd.read_csv('../../DataSets/pybk004master/BodyMeasures.csv', index_col=0)\n",
    "demo_original.describe()"
   ]
  },
  {
   "cell_type": "markdown",
   "metadata": {},
   "source": [
    "# Basic Formatting\n",
    "\n",
    "+ Numeric data\n",
    "    - No misspellings or whitespace issues\n",
    "    - No data type issues\n",
    "+ Columns use coded names\n",
    "    - Convenient: Short, no spaces/punctuation\n",
    "    - Inconvenient: Not very readable\n",
    "\n",
    "We can find what the codenames mean by reading the dataset codebook."
   ]
  },
  {
   "cell_type": "markdown",
   "metadata": {},
   "source": [
    "# Rename Columns"
   ]
  },
  {
   "cell_type": "code",
   "execution_count": 4,
   "metadata": {
    "collapsed": true
   },
   "outputs": [],
   "source": [
    "demo_column_dict = {\n",
    "    'RIDSTATR':'Interview/Exam',\n",
    "    'RIAGENDR':'Gender',\n",
    "    'RIDAGEYR':'Age',\n",
    "    'DMDEDUC3':'Education - Children/Youth',\n",
    "    'DMDEDUC2':'Education - Adults 20+',\n",
    "    'DMDSCHOL':'Student Status',\n",
    "    'DMDMARTL':'Marital Status'}\n",
    "\n",
    "selected_columns = ['RIDSTATR', 'RIAGENDR', 'RIDAGEYR', \n",
    "                    'DMDEDUC3', 'DMDEDUC2', 'DMDSCHOL', \n",
    "                    'DMDMARTL']\n",
    "demographics = demo_original[selected_columns]\n",
    "demographics = demographics.rename(columns=demo_column_dict)\n",
    "demographics.index.rename('ID', inplace=True)"
   ]
  },
  {
   "cell_type": "markdown",
   "metadata": {},
   "source": [
    "# Newly Formatted Data"
   ]
  },
  {
   "cell_type": "code",
   "execution_count": 27,
   "metadata": {
    "collapsed": false
   },
   "outputs": [
    {
     "data": {
      "text/html": [
       "<div>\n",
       "<table border=\"1\" class=\"dataframe\">\n",
       "  <thead>\n",
       "    <tr style=\"text-align: right;\">\n",
       "      <th></th>\n",
       "      <th>Interview/Exam</th>\n",
       "      <th>Gender</th>\n",
       "      <th>Age</th>\n",
       "      <th>Education - Children/Youth</th>\n",
       "      <th>Education - Adults 20+</th>\n",
       "      <th>Student Status</th>\n",
       "      <th>Marital Status</th>\n",
       "    </tr>\n",
       "  </thead>\n",
       "  <tbody>\n",
       "    <tr>\n",
       "      <th>count</th>\n",
       "      <td>9964.000000</td>\n",
       "      <td>9964.000000</td>\n",
       "      <td>9964.000000</td>\n",
       "      <td>3527.000000</td>\n",
       "      <td>4877.000000</td>\n",
       "      <td>3311.000000</td>\n",
       "      <td>6071.000000</td>\n",
       "    </tr>\n",
       "    <tr>\n",
       "      <th>mean</th>\n",
       "      <td>1.931453</td>\n",
       "      <td>1.510036</td>\n",
       "      <td>29.726415</td>\n",
       "      <td>7.886589</td>\n",
       "      <td>2.988312</td>\n",
       "      <td>1.396859</td>\n",
       "      <td>3.127656</td>\n",
       "    </tr>\n",
       "    <tr>\n",
       "      <th>std</th>\n",
       "      <td>0.252695</td>\n",
       "      <td>0.499924</td>\n",
       "      <td>24.840263</td>\n",
       "      <td>8.585869</td>\n",
       "      <td>1.400540</td>\n",
       "      <td>0.681328</td>\n",
       "      <td>3.599059</td>\n",
       "    </tr>\n",
       "    <tr>\n",
       "      <th>min</th>\n",
       "      <td>1.000000</td>\n",
       "      <td>1.000000</td>\n",
       "      <td>-15.000000</td>\n",
       "      <td>0.000000</td>\n",
       "      <td>1.000000</td>\n",
       "      <td>1.000000</td>\n",
       "      <td>1.000000</td>\n",
       "    </tr>\n",
       "    <tr>\n",
       "      <th>25%</th>\n",
       "      <td>2.000000</td>\n",
       "      <td>1.000000</td>\n",
       "      <td>11.000000</td>\n",
       "      <td>4.000000</td>\n",
       "      <td>2.000000</td>\n",
       "      <td>1.000000</td>\n",
       "      <td>1.000000</td>\n",
       "    </tr>\n",
       "    <tr>\n",
       "      <th>50%</th>\n",
       "      <td>2.000000</td>\n",
       "      <td>2.000000</td>\n",
       "      <td>19.000000</td>\n",
       "      <td>7.000000</td>\n",
       "      <td>3.000000</td>\n",
       "      <td>1.000000</td>\n",
       "      <td>3.000000</td>\n",
       "    </tr>\n",
       "    <tr>\n",
       "      <th>75%</th>\n",
       "      <td>2.000000</td>\n",
       "      <td>2.000000</td>\n",
       "      <td>48.000000</td>\n",
       "      <td>10.000000</td>\n",
       "      <td>4.000000</td>\n",
       "      <td>2.000000</td>\n",
       "      <td>5.000000</td>\n",
       "    </tr>\n",
       "    <tr>\n",
       "      <th>max</th>\n",
       "      <td>2.000000</td>\n",
       "      <td>2.000000</td>\n",
       "      <td>96.000000</td>\n",
       "      <td>99.000000</td>\n",
       "      <td>9.000000</td>\n",
       "      <td>9.000000</td>\n",
       "      <td>99.000000</td>\n",
       "    </tr>\n",
       "  </tbody>\n",
       "</table>\n",
       "</div>"
      ],
      "text/plain": [
       "       Interview/Exam       Gender          Age  Education - Children/Youth  \\\n",
       "count     9964.000000  9964.000000  9964.000000                 3527.000000   \n",
       "mean         1.931453     1.510036    29.726415                    7.886589   \n",
       "std          0.252695     0.499924    24.840263                    8.585869   \n",
       "min          1.000000     1.000000   -15.000000                    0.000000   \n",
       "25%          2.000000     1.000000    11.000000                    4.000000   \n",
       "50%          2.000000     2.000000    19.000000                    7.000000   \n",
       "75%          2.000000     2.000000    48.000000                   10.000000   \n",
       "max          2.000000     2.000000    96.000000                   99.000000   \n",
       "\n",
       "       Education - Adults 20+  Student Status  Marital Status  \n",
       "count             4877.000000     3311.000000     6071.000000  \n",
       "mean                 2.988312        1.396859        3.127656  \n",
       "std                  1.400540        0.681328        3.599059  \n",
       "min                  1.000000        1.000000        1.000000  \n",
       "25%                  2.000000        1.000000        1.000000  \n",
       "50%                  3.000000        1.000000        3.000000  \n",
       "75%                  4.000000        2.000000        5.000000  \n",
       "max                  9.000000        9.000000       99.000000  "
      ]
     },
     "metadata": {},
     "output_type": "display_data"
    },
    {
     "data": {
      "text/html": [
       "<div>\n",
       "<table border=\"1\" class=\"dataframe\">\n",
       "  <thead>\n",
       "    <tr style=\"text-align: right;\">\n",
       "      <th></th>\n",
       "      <th>Interview/Exam</th>\n",
       "      <th>Gender</th>\n",
       "      <th>Age</th>\n",
       "      <th>Education - Children/Youth</th>\n",
       "      <th>Education - Adults 20+</th>\n",
       "      <th>Student Status</th>\n",
       "      <th>Marital Status</th>\n",
       "    </tr>\n",
       "    <tr>\n",
       "      <th>ID</th>\n",
       "      <th></th>\n",
       "      <th></th>\n",
       "      <th></th>\n",
       "      <th></th>\n",
       "      <th></th>\n",
       "      <th></th>\n",
       "      <th></th>\n",
       "    </tr>\n",
       "  </thead>\n",
       "  <tbody>\n",
       "    <tr>\n",
       "      <th>1</th>\n",
       "      <td>2.0</td>\n",
       "      <td>2.0</td>\n",
       "      <td>2.0</td>\n",
       "      <td>NaN</td>\n",
       "      <td>NaN</td>\n",
       "      <td>NaN</td>\n",
       "      <td>NaN</td>\n",
       "    </tr>\n",
       "    <tr>\n",
       "      <th>2</th>\n",
       "      <td>2.0</td>\n",
       "      <td>1.0</td>\n",
       "      <td>77.0</td>\n",
       "      <td>NaN</td>\n",
       "      <td>5.0</td>\n",
       "      <td>NaN</td>\n",
       "      <td>NaN</td>\n",
       "    </tr>\n",
       "    <tr>\n",
       "      <th>3</th>\n",
       "      <td>2.0</td>\n",
       "      <td>2.0</td>\n",
       "      <td>10.0</td>\n",
       "      <td>3.0</td>\n",
       "      <td>NaN</td>\n",
       "      <td>1.0</td>\n",
       "      <td>NaN</td>\n",
       "    </tr>\n",
       "    <tr>\n",
       "      <th>4</th>\n",
       "      <td>2.0</td>\n",
       "      <td>1.0</td>\n",
       "      <td>1.0</td>\n",
       "      <td>NaN</td>\n",
       "      <td>NaN</td>\n",
       "      <td>NaN</td>\n",
       "      <td>NaN</td>\n",
       "    </tr>\n",
       "    <tr>\n",
       "      <th>5</th>\n",
       "      <td>2.0</td>\n",
       "      <td>1.0</td>\n",
       "      <td>49.0</td>\n",
       "      <td>NaN</td>\n",
       "      <td>5.0</td>\n",
       "      <td>NaN</td>\n",
       "      <td>1.0</td>\n",
       "    </tr>\n",
       "  </tbody>\n",
       "</table>\n",
       "</div>"
      ],
      "text/plain": [
       "    Interview/Exam  Gender   Age  Education - Children/Youth  \\\n",
       "ID                                                             \n",
       "1              2.0     2.0   2.0                         NaN   \n",
       "2              2.0     1.0  77.0                         NaN   \n",
       "3              2.0     2.0  10.0                         3.0   \n",
       "4              2.0     1.0   1.0                         NaN   \n",
       "5              2.0     1.0  49.0                         NaN   \n",
       "\n",
       "    Education - Adults 20+  Student Status  Marital Status  \n",
       "ID                                                          \n",
       "1                      NaN             NaN             NaN  \n",
       "2                      5.0             NaN             NaN  \n",
       "3                      NaN             1.0             NaN  \n",
       "4                      NaN             NaN             NaN  \n",
       "5                      5.0             NaN             1.0  "
      ]
     },
     "metadata": {},
     "output_type": "display_data"
    }
   ],
   "source": [
    "display(demographics.describe())\n",
    "display(demographics.head())"
   ]
  },
  {
   "cell_type": "markdown",
   "metadata": {},
   "source": [
    "# Duplicate Entries\n",
    "\n",
    "+ Each individual has a unique ID number\n",
    "+ Three people wound up with multiple entries in our dataset"
   ]
  },
  {
   "cell_type": "code",
   "execution_count": 28,
   "metadata": {
    "collapsed": false
   },
   "outputs": [
    {
     "data": {
      "text/html": [
       "<div>\n",
       "<table border=\"1\" class=\"dataframe\">\n",
       "  <thead>\n",
       "    <tr style=\"text-align: right;\">\n",
       "      <th></th>\n",
       "      <th>Interview/Exam</th>\n",
       "      <th>Gender</th>\n",
       "      <th>Age</th>\n",
       "      <th>Education - Children/Youth</th>\n",
       "      <th>Education - Adults 20+</th>\n",
       "      <th>Student Status</th>\n",
       "      <th>Marital Status</th>\n",
       "    </tr>\n",
       "    <tr>\n",
       "      <th>ID</th>\n",
       "      <th></th>\n",
       "      <th></th>\n",
       "      <th></th>\n",
       "      <th></th>\n",
       "      <th></th>\n",
       "      <th></th>\n",
       "      <th></th>\n",
       "    </tr>\n",
       "  </thead>\n",
       "  <tbody>\n",
       "  </tbody>\n",
       "</table>\n",
       "</div>"
      ],
      "text/plain": [
       "Empty DataFrame\n",
       "Columns: [Interview/Exam, Gender, Age, Education - Children/Youth, Education - Adults 20+, Student Status, Marital Status]\n",
       "Index: []"
      ]
     },
     "execution_count": 28,
     "metadata": {},
     "output_type": "execute_result"
    }
   ],
   "source": [
    "ind = demographics.index.duplicated(keep=False)\n",
    "demographics.iloc[ind]"
   ]
  },
  {
   "cell_type": "markdown",
   "metadata": {},
   "source": [
    "# Subject\n",
    "\n",
    "+ Conflicting information, remove both entries"
   ]
  },
  {
   "cell_type": "code",
   "execution_count": 30,
   "metadata": {
    "collapsed": false
   },
   "outputs": [],
   "source": [
    "#demographics.loc[190,:]"
   ]
  },
  {
   "cell_type": "code",
   "execution_count": 32,
   "metadata": {
    "collapsed": false
   },
   "outputs": [],
   "source": [
    "# demographics.drop(190, inplace=True)"
   ]
  },
  {
   "cell_type": "markdown",
   "metadata": {},
   "source": [
    "# Subject\n",
    "\n",
    "+ Looks like an entry split between rows: merge them"
   ]
  },
  {
   "cell_type": "code",
   "execution_count": 33,
   "metadata": {
    "collapsed": false
   },
   "outputs": [
    {
     "data": {
      "text/plain": [
       "Interview/Exam                2.0\n",
       "Gender                        2.0\n",
       "Age                           0.0\n",
       "Education - Children/Youth    NaN\n",
       "Education - Adults 20+        NaN\n",
       "Student Status                NaN\n",
       "Marital Status                NaN\n",
       "Name: 48, dtype: float64"
      ]
     },
     "execution_count": 33,
     "metadata": {},
     "output_type": "execute_result"
    }
   ],
   "source": [
    "demographics.loc[48,:]"
   ]
  },
  {
   "cell_type": "code",
   "execution_count": 34,
   "metadata": {
    "collapsed": false
   },
   "outputs": [
    {
     "data": {
      "text/plain": [
       "Interview/Exam                2.0\n",
       "Gender                        2.0\n",
       "Age                           0.0\n",
       "Education - Children/Youth    NaN\n",
       "Education - Adults 20+        NaN\n",
       "Student Status                NaN\n",
       "Marital Status                NaN\n",
       "Name: 48, dtype: float64"
      ]
     },
     "execution_count": 34,
     "metadata": {},
     "output_type": "execute_result"
    }
   ],
   "source": [
    "demographics.loc[48,:] = [2.0, 2.0, 0.0, np.nan, np.nan, np.nan, np.nan]\n",
    "demographics.loc[48,:]"
   ]
  },
  {
   "cell_type": "markdown",
   "metadata": {},
   "source": [
    "# Subject\n",
    "\n",
    "Exact duplicate: drop one row\n",
    "\n",
    "Also now true of Subject 48"
   ]
  },
  {
   "cell_type": "code",
   "execution_count": 35,
   "metadata": {
    "collapsed": false
   },
   "outputs": [
    {
     "data": {
      "text/plain": [
       "Interview/Exam                 2.0\n",
       "Gender                         2.0\n",
       "Age                           10.0\n",
       "Education - Children/Youth     3.0\n",
       "Education - Adults 20+         NaN\n",
       "Student Status                 1.0\n",
       "Marital Status                 NaN\n",
       "Name: 3, dtype: float64"
      ]
     },
     "execution_count": 35,
     "metadata": {},
     "output_type": "execute_result"
    }
   ],
   "source": [
    "demographics.loc[3,:]"
   ]
  },
  {
   "cell_type": "code",
   "execution_count": 36,
   "metadata": {
    "collapsed": false
   },
   "outputs": [
    {
     "data": {
      "text/html": [
       "<div>\n",
       "<table border=\"1\" class=\"dataframe\">\n",
       "  <thead>\n",
       "    <tr style=\"text-align: right;\">\n",
       "      <th></th>\n",
       "      <th>Interview/Exam</th>\n",
       "      <th>Gender</th>\n",
       "      <th>Age</th>\n",
       "      <th>Education - Children/Youth</th>\n",
       "      <th>Education - Adults 20+</th>\n",
       "      <th>Student Status</th>\n",
       "      <th>Marital Status</th>\n",
       "    </tr>\n",
       "    <tr>\n",
       "      <th>ID</th>\n",
       "      <th></th>\n",
       "      <th></th>\n",
       "      <th></th>\n",
       "      <th></th>\n",
       "      <th></th>\n",
       "      <th></th>\n",
       "      <th></th>\n",
       "    </tr>\n",
       "  </thead>\n",
       "  <tbody>\n",
       "  </tbody>\n",
       "</table>\n",
       "</div>"
      ],
      "text/plain": [
       "Empty DataFrame\n",
       "Columns: [Interview/Exam, Gender, Age, Education - Children/Youth, Education - Adults 20+, Student Status, Marital Status]\n",
       "Index: []"
      ]
     },
     "execution_count": 36,
     "metadata": {},
     "output_type": "execute_result"
    }
   ],
   "source": [
    "demographics = demographics[~demographics.index.duplicated(keep='first')]\n",
    "\n",
    "ind = demographics.index.duplicated(keep=False)\n",
    "demographics.iloc[ind]"
   ]
  },
  {
   "cell_type": "markdown",
   "metadata": {},
   "source": [
    "# Merge Tables\n",
    "\n",
    "+ Duplicates have already been removed from our second table\n",
    "    - Load it in\n",
    "    - Fix the column names\n",
    "    - Join the tables on ID"
   ]
  },
  {
   "cell_type": "code",
   "execution_count": 13,
   "metadata": {
    "collapsed": false
   },
   "outputs": [
    {
     "data": {
      "text/html": [
       "<div>\n",
       "<table border=\"1\" class=\"dataframe\">\n",
       "  <thead>\n",
       "    <tr style=\"text-align: right;\">\n",
       "      <th></th>\n",
       "      <th>Interview/Exam</th>\n",
       "      <th>Gender</th>\n",
       "      <th>Age</th>\n",
       "      <th>Education - Children/Youth</th>\n",
       "      <th>Education - Adults 20+</th>\n",
       "      <th>Student Status</th>\n",
       "      <th>Marital Status</th>\n",
       "      <th>Weight (kg)</th>\n",
       "      <th>Recumbent Length (cm)</th>\n",
       "      <th>Standing Height (cm)</th>\n",
       "      <th>Head Circumference (cm)</th>\n",
       "      <th>Exam Completion</th>\n",
       "    </tr>\n",
       "  </thead>\n",
       "  <tbody>\n",
       "    <tr>\n",
       "      <th>count</th>\n",
       "      <td>9964.000000</td>\n",
       "      <td>9964.000000</td>\n",
       "      <td>9964.000000</td>\n",
       "      <td>3527.000000</td>\n",
       "      <td>4877.000000</td>\n",
       "      <td>3311.000000</td>\n",
       "      <td>6071.000000</td>\n",
       "      <td>9196.000000</td>\n",
       "      <td>1081.000000</td>\n",
       "      <td>8463.000000</td>\n",
       "      <td>267.000000</td>\n",
       "      <td>9281.000000</td>\n",
       "    </tr>\n",
       "    <tr>\n",
       "      <th>mean</th>\n",
       "      <td>1.931453</td>\n",
       "      <td>1.510036</td>\n",
       "      <td>29.726415</td>\n",
       "      <td>7.886589</td>\n",
       "      <td>2.988312</td>\n",
       "      <td>1.396859</td>\n",
       "      <td>3.127656</td>\n",
       "      <td>60.486320</td>\n",
       "      <td>80.241073</td>\n",
       "      <td>156.247914</td>\n",
       "      <td>41.319476</td>\n",
       "      <td>1.021334</td>\n",
       "    </tr>\n",
       "    <tr>\n",
       "      <th>std</th>\n",
       "      <td>0.252695</td>\n",
       "      <td>0.499924</td>\n",
       "      <td>24.840263</td>\n",
       "      <td>8.585869</td>\n",
       "      <td>1.400540</td>\n",
       "      <td>0.681328</td>\n",
       "      <td>3.599059</td>\n",
       "      <td>57.334053</td>\n",
       "      <td>13.915260</td>\n",
       "      <td>22.390038</td>\n",
       "      <td>2.980247</td>\n",
       "      <td>0.183294</td>\n",
       "    </tr>\n",
       "    <tr>\n",
       "      <th>min</th>\n",
       "      <td>1.000000</td>\n",
       "      <td>1.000000</td>\n",
       "      <td>-15.000000</td>\n",
       "      <td>0.000000</td>\n",
       "      <td>1.000000</td>\n",
       "      <td>1.000000</td>\n",
       "      <td>1.000000</td>\n",
       "      <td>-57.100000</td>\n",
       "      <td>44.900000</td>\n",
       "      <td>81.800000</td>\n",
       "      <td>15.500000</td>\n",
       "      <td>1.000000</td>\n",
       "    </tr>\n",
       "    <tr>\n",
       "      <th>25%</th>\n",
       "      <td>2.000000</td>\n",
       "      <td>1.000000</td>\n",
       "      <td>11.000000</td>\n",
       "      <td>4.000000</td>\n",
       "      <td>2.000000</td>\n",
       "      <td>1.000000</td>\n",
       "      <td>1.000000</td>\n",
       "      <td>39.100000</td>\n",
       "      <td>69.200000</td>\n",
       "      <td>151.000000</td>\n",
       "      <td>39.500000</td>\n",
       "      <td>1.000000</td>\n",
       "    </tr>\n",
       "    <tr>\n",
       "      <th>50%</th>\n",
       "      <td>2.000000</td>\n",
       "      <td>2.000000</td>\n",
       "      <td>19.000000</td>\n",
       "      <td>7.000000</td>\n",
       "      <td>3.000000</td>\n",
       "      <td>1.000000</td>\n",
       "      <td>3.000000</td>\n",
       "      <td>63.000000</td>\n",
       "      <td>81.200000</td>\n",
       "      <td>161.800000</td>\n",
       "      <td>41.700000</td>\n",
       "      <td>1.000000</td>\n",
       "    </tr>\n",
       "    <tr>\n",
       "      <th>75%</th>\n",
       "      <td>2.000000</td>\n",
       "      <td>2.000000</td>\n",
       "      <td>48.000000</td>\n",
       "      <td>10.000000</td>\n",
       "      <td>4.000000</td>\n",
       "      <td>2.000000</td>\n",
       "      <td>5.000000</td>\n",
       "      <td>79.700000</td>\n",
       "      <td>91.800000</td>\n",
       "      <td>170.600000</td>\n",
       "      <td>43.150000</td>\n",
       "      <td>1.000000</td>\n",
       "    </tr>\n",
       "    <tr>\n",
       "      <th>max</th>\n",
       "      <td>2.000000</td>\n",
       "      <td>2.000000</td>\n",
       "      <td>96.000000</td>\n",
       "      <td>99.000000</td>\n",
       "      <td>9.000000</td>\n",
       "      <td>9.000000</td>\n",
       "      <td>99.000000</td>\n",
       "      <td>4750.000000</td>\n",
       "      <td>110.300000</td>\n",
       "      <td>201.300000</td>\n",
       "      <td>47.900000</td>\n",
       "      <td>3.000000</td>\n",
       "    </tr>\n",
       "  </tbody>\n",
       "</table>\n",
       "</div>"
      ],
      "text/plain": [
       "       Interview/Exam       Gender          Age  Education - Children/Youth  \\\n",
       "count     9964.000000  9964.000000  9964.000000                 3527.000000   \n",
       "mean         1.931453     1.510036    29.726415                    7.886589   \n",
       "std          0.252695     0.499924    24.840263                    8.585869   \n",
       "min          1.000000     1.000000   -15.000000                    0.000000   \n",
       "25%          2.000000     1.000000    11.000000                    4.000000   \n",
       "50%          2.000000     2.000000    19.000000                    7.000000   \n",
       "75%          2.000000     2.000000    48.000000                   10.000000   \n",
       "max          2.000000     2.000000    96.000000                   99.000000   \n",
       "\n",
       "       Education - Adults 20+  Student Status  Marital Status  Weight (kg)  \\\n",
       "count             4877.000000     3311.000000     6071.000000  9196.000000   \n",
       "mean                 2.988312        1.396859        3.127656    60.486320   \n",
       "std                  1.400540        0.681328        3.599059    57.334053   \n",
       "min                  1.000000        1.000000        1.000000   -57.100000   \n",
       "25%                  2.000000        1.000000        1.000000    39.100000   \n",
       "50%                  3.000000        1.000000        3.000000    63.000000   \n",
       "75%                  4.000000        2.000000        5.000000    79.700000   \n",
       "max                  9.000000        9.000000       99.000000  4750.000000   \n",
       "\n",
       "       Recumbent Length (cm)  Standing Height (cm)  Head Circumference (cm)  \\\n",
       "count            1081.000000           8463.000000               267.000000   \n",
       "mean               80.241073            156.247914                41.319476   \n",
       "std                13.915260             22.390038                 2.980247   \n",
       "min                44.900000             81.800000                15.500000   \n",
       "25%                69.200000            151.000000                39.500000   \n",
       "50%                81.200000            161.800000                41.700000   \n",
       "75%                91.800000            170.600000                43.150000   \n",
       "max               110.300000            201.300000                47.900000   \n",
       "\n",
       "       Exam Completion  \n",
       "count      9281.000000  \n",
       "mean          1.021334  \n",
       "std           0.183294  \n",
       "min           1.000000  \n",
       "25%           1.000000  \n",
       "50%           1.000000  \n",
       "75%           1.000000  \n",
       "max           3.000000  "
      ]
     },
     "execution_count": 13,
     "metadata": {},
     "output_type": "execute_result"
    }
   ],
   "source": [
    "body_column_dict = {\n",
    "    'BMXWT':'Weight (kg)',\n",
    "    'BMXRECUM':'Recumbent Length (cm)',\n",
    "    'BMXHT':'Standing Height (cm)',\n",
    "    'BMXHEAD':'Head Circumference (cm)',\n",
    "    'BMAEXSTS':'Exam Completion'\n",
    "}\n",
    "\n",
    "selected_columns = ['BMXWT', 'BMXRECUM', 'BMXHT', 'BMXHEAD', 'BMAEXSTS']\n",
    "body = body_original[selected_columns]\n",
    "body = body.rename(columns=body_column_dict)\n",
    "\n",
    "body.index.rename('ID', inplace=True)\n",
    "\n",
    "dataset = demographics.join(body)\n",
    "dataset.describe()"
   ]
  },
  {
   "cell_type": "markdown",
   "metadata": {},
   "source": [
    "# Missing Data"
   ]
  },
  {
   "cell_type": "markdown",
   "metadata": {},
   "source": [
    "Missing data can be absent from the dataset (typically represented as NaN), or it can be coded as a value to represent that it is unknown. Sometimes, particularly with surveys of people, the difference between unknown, refused to answer, and truly missing is important. In other cases, all three can be treated the same, it depends on your data and what you're looking for.\n",
    "\n",
    "Most machine learning algorithms can't handl NaN entries, so at a minimum we must get rid of those."
   ]
  },
  {
   "cell_type": "markdown",
   "metadata": {},
   "source": [
    "A few possible ways to remove NaN entries are:\n",
    "\n",
    "+ Somehow find the missing data\n",
    "+ Replace with another value (e.g. mean)\n",
    "+ Recode to a value or label indicating \"unknown\"\n",
    "+ Remove features (columns)\n",
    "+ Remove examples (rows)"
   ]
  },
  {
   "cell_type": "markdown",
   "metadata": {},
   "source": [
    "# How Many Missing Items In Each Column?¶"
   ]
  },
  {
   "cell_type": "code",
   "execution_count": 38,
   "metadata": {
    "collapsed": false
   },
   "outputs": [
    {
     "name": "stdout",
     "output_type": "stream",
     "text": [
      "Number of entries:\n",
      "\n",
      "Interview/Exam     5533\n",
      "Gender             5533\n",
      "Age                5533\n",
      "Education          5533\n",
      "Marital Status     5533\n",
      "Weight (kg)        5533\n",
      "Height (cm)        5533\n",
      "Exam Completion    5533\n",
      "dtype: int64\n",
      "\n",
      "\n",
      "Number of NaN entries:\n",
      "\n",
      "Interview/Exam     0\n",
      "Gender             0\n",
      "Age                0\n",
      "Education          0\n",
      "Marital Status     0\n",
      "Weight (kg)        0\n",
      "Height (cm)        0\n",
      "Exam Completion    0\n",
      "dtype: int64\n"
     ]
    }
   ],
   "source": [
    "print('Number of entries:\\n\\n' + str(dataset.count()))\n",
    "print('\\n\\nNumber of NaN entries:\\n\\n' \n",
    "      + str(len(dataset.index)-dataset.count()))"
   ]
  },
  {
   "cell_type": "markdown",
   "metadata": {},
   "source": [
    "# Replacing Missing Data\n"
   ]
  },
  {
   "cell_type": "markdown",
   "metadata": {},
   "source": [
    "Sometimes missing data can be replaced or recreated.\n",
    "\n",
    "+ Some data is split among columns by age group\n",
    "    - e.g. education, recumbent length vs standing height\n",
    "    - Combining these columns would remove some missing entries."
   ]
  },
  {
   "cell_type": "markdown",
   "metadata": {},
   "source": [
    "# Replace Missing Height Values with Recumbent Length"
   ]
  },
  {
   "cell_type": "code",
   "execution_count": 15,
   "metadata": {
    "collapsed": false
   },
   "outputs": [
    {
     "data": {
      "text/html": [
       "<div>\n",
       "<table border=\"1\" class=\"dataframe\">\n",
       "  <thead>\n",
       "    <tr style=\"text-align: right;\">\n",
       "      <th></th>\n",
       "      <th>Interview/Exam</th>\n",
       "      <th>Gender</th>\n",
       "      <th>Age</th>\n",
       "      <th>Education - Children/Youth</th>\n",
       "      <th>Education - Adults 20+</th>\n",
       "      <th>Student Status</th>\n",
       "      <th>Marital Status</th>\n",
       "      <th>Weight (kg)</th>\n",
       "      <th>Height (cm)</th>\n",
       "      <th>Head Circumference (cm)</th>\n",
       "      <th>Exam Completion</th>\n",
       "    </tr>\n",
       "  </thead>\n",
       "  <tbody>\n",
       "    <tr>\n",
       "      <th>count</th>\n",
       "      <td>9964.000000</td>\n",
       "      <td>9964.000000</td>\n",
       "      <td>9964.000000</td>\n",
       "      <td>3527.000000</td>\n",
       "      <td>4877.000000</td>\n",
       "      <td>3311.000000</td>\n",
       "      <td>6071.000000</td>\n",
       "      <td>9196.000000</td>\n",
       "      <td>9162.000000</td>\n",
       "      <td>267.000000</td>\n",
       "      <td>9281.000000</td>\n",
       "    </tr>\n",
       "    <tr>\n",
       "      <th>mean</th>\n",
       "      <td>1.931453</td>\n",
       "      <td>1.510036</td>\n",
       "      <td>29.726415</td>\n",
       "      <td>7.886589</td>\n",
       "      <td>2.988312</td>\n",
       "      <td>1.396859</td>\n",
       "      <td>3.127656</td>\n",
       "      <td>60.486320</td>\n",
       "      <td>149.833781</td>\n",
       "      <td>41.319476</td>\n",
       "      <td>1.021334</td>\n",
       "    </tr>\n",
       "    <tr>\n",
       "      <th>std</th>\n",
       "      <td>0.252695</td>\n",
       "      <td>0.499924</td>\n",
       "      <td>24.840263</td>\n",
       "      <td>8.585869</td>\n",
       "      <td>1.400540</td>\n",
       "      <td>0.681328</td>\n",
       "      <td>3.599059</td>\n",
       "      <td>57.334053</td>\n",
       "      <td>31.122574</td>\n",
       "      <td>2.980247</td>\n",
       "      <td>0.183294</td>\n",
       "    </tr>\n",
       "    <tr>\n",
       "      <th>min</th>\n",
       "      <td>1.000000</td>\n",
       "      <td>1.000000</td>\n",
       "      <td>-15.000000</td>\n",
       "      <td>0.000000</td>\n",
       "      <td>1.000000</td>\n",
       "      <td>1.000000</td>\n",
       "      <td>1.000000</td>\n",
       "      <td>-57.100000</td>\n",
       "      <td>44.900000</td>\n",
       "      <td>15.500000</td>\n",
       "      <td>1.000000</td>\n",
       "    </tr>\n",
       "    <tr>\n",
       "      <th>25%</th>\n",
       "      <td>2.000000</td>\n",
       "      <td>1.000000</td>\n",
       "      <td>11.000000</td>\n",
       "      <td>4.000000</td>\n",
       "      <td>2.000000</td>\n",
       "      <td>1.000000</td>\n",
       "      <td>1.000000</td>\n",
       "      <td>39.100000</td>\n",
       "      <td>143.100000</td>\n",
       "      <td>39.500000</td>\n",
       "      <td>1.000000</td>\n",
       "    </tr>\n",
       "    <tr>\n",
       "      <th>50%</th>\n",
       "      <td>2.000000</td>\n",
       "      <td>2.000000</td>\n",
       "      <td>19.000000</td>\n",
       "      <td>7.000000</td>\n",
       "      <td>3.000000</td>\n",
       "      <td>1.000000</td>\n",
       "      <td>3.000000</td>\n",
       "      <td>63.000000</td>\n",
       "      <td>160.500000</td>\n",
       "      <td>41.700000</td>\n",
       "      <td>1.000000</td>\n",
       "    </tr>\n",
       "    <tr>\n",
       "      <th>75%</th>\n",
       "      <td>2.000000</td>\n",
       "      <td>2.000000</td>\n",
       "      <td>48.000000</td>\n",
       "      <td>10.000000</td>\n",
       "      <td>4.000000</td>\n",
       "      <td>2.000000</td>\n",
       "      <td>5.000000</td>\n",
       "      <td>79.700000</td>\n",
       "      <td>169.900000</td>\n",
       "      <td>43.150000</td>\n",
       "      <td>1.000000</td>\n",
       "    </tr>\n",
       "    <tr>\n",
       "      <th>max</th>\n",
       "      <td>2.000000</td>\n",
       "      <td>2.000000</td>\n",
       "      <td>96.000000</td>\n",
       "      <td>99.000000</td>\n",
       "      <td>9.000000</td>\n",
       "      <td>9.000000</td>\n",
       "      <td>99.000000</td>\n",
       "      <td>4750.000000</td>\n",
       "      <td>201.300000</td>\n",
       "      <td>47.900000</td>\n",
       "      <td>3.000000</td>\n",
       "    </tr>\n",
       "  </tbody>\n",
       "</table>\n",
       "</div>"
      ],
      "text/plain": [
       "       Interview/Exam       Gender          Age  Education - Children/Youth  \\\n",
       "count     9964.000000  9964.000000  9964.000000                 3527.000000   \n",
       "mean         1.931453     1.510036    29.726415                    7.886589   \n",
       "std          0.252695     0.499924    24.840263                    8.585869   \n",
       "min          1.000000     1.000000   -15.000000                    0.000000   \n",
       "25%          2.000000     1.000000    11.000000                    4.000000   \n",
       "50%          2.000000     2.000000    19.000000                    7.000000   \n",
       "75%          2.000000     2.000000    48.000000                   10.000000   \n",
       "max          2.000000     2.000000    96.000000                   99.000000   \n",
       "\n",
       "       Education - Adults 20+  Student Status  Marital Status  Weight (kg)  \\\n",
       "count             4877.000000     3311.000000     6071.000000  9196.000000   \n",
       "mean                 2.988312        1.396859        3.127656    60.486320   \n",
       "std                  1.400540        0.681328        3.599059    57.334053   \n",
       "min                  1.000000        1.000000        1.000000   -57.100000   \n",
       "25%                  2.000000        1.000000        1.000000    39.100000   \n",
       "50%                  3.000000        1.000000        3.000000    63.000000   \n",
       "75%                  4.000000        2.000000        5.000000    79.700000   \n",
       "max                  9.000000        9.000000       99.000000  4750.000000   \n",
       "\n",
       "       Height (cm)  Head Circumference (cm)  Exam Completion  \n",
       "count  9162.000000               267.000000      9281.000000  \n",
       "mean    149.833781                41.319476         1.021334  \n",
       "std      31.122574                 2.980247         0.183294  \n",
       "min      44.900000                15.500000         1.000000  \n",
       "25%     143.100000                39.500000         1.000000  \n",
       "50%     160.500000                41.700000         1.000000  \n",
       "75%     169.900000                43.150000         1.000000  \n",
       "max     201.300000                47.900000         3.000000  "
      ]
     },
     "execution_count": 15,
     "metadata": {},
     "output_type": "execute_result"
    }
   ],
   "source": [
    "nanind = np.isnan(dataset['Standing Height (cm)'])\n",
    "dataset.loc[nanind,'Standing Height (cm)'] = dataset['Recumbent Length (cm)'][nanind]\n",
    "dataset.rename(columns={'Standing Height (cm)':'Height (cm)'}, inplace=True)\n",
    "dataset.drop('Recumbent Length (cm)', axis=1, inplace=True)\n",
    "\n",
    "dataset.describe()"
   ]
  },
  {
   "cell_type": "markdown",
   "metadata": {},
   "source": [
    "# Recode and Merge Education Columns"
   ]
  },
  {
   "cell_type": "markdown",
   "metadata": {},
   "source": [
    "New Education Coding:\n",
    "\n",
    "| Code | Meaning |\n",
    "| :---: | :---: |\n",
    "| 1 | Less Than High School |\n",
    "| 2 | High School Diploma (including GED) |\n",
    "| 3 | More Than High School |\n",
    "| 7 | Refused |\n",
    "| 9 | Don't know |\n",
    "\n",
    "Remember, depending on your data, this may not be the right choice for a specific problem. It may be better to look at youth and adults in separate analyses, or to use a different coding scheme."
   ]
  },
  {
   "cell_type": "code",
   "execution_count": 40,
   "metadata": {
    "collapsed": false
   },
   "outputs": [
    {
     "data": {
      "text/plain": [
       "\"\\n# Use pd.cut to split youth education into bins\\nyouth =  pd.cut(dataset['Education - Children/Youth'], \\n                bins=[0,13,15,16,70,90,100], labels=False,\\n                right=False, include_lowest=True)\\n\\n# Replace the values with the correct ones we want\\nyouth = youth + 1\\nyouth.replace({'Education - Children/Youth':{4:1,5:7,6:9}}, inplace=True)\\ndataset['Education - Children/Youth'] = youth\\n\\n# Split adult education into the same bins\\nadult = pd.cut(dataset['Education - Adults 20+'], \\n               bins=[0,3,4,6,8,10], labels=False,\\n               right=False, include_lowest=True)\\nadult = adult + 1\\nadult.replace({'Education - Adults 20+':{4:7,5:9}}, inplace=True)\\ndataset['Education - Adults 20+'] = adult\\n\\n# Put them in one education column\\nnanind = np.isnan(dataset['Education - Adults 20+'])\\ndataset.loc[nanind, 'Education - Adults 20+'] = dataset.loc[nanind, 'Education - Children/Youth']\\ndataset.rename(columns={'Education - Adults 20+':'Education'}, inplace=True)\\ndataset.drop('Education - Children/Youth', axis=1, inplace=True)\\n\\ndataset.describe()\\n\""
      ]
     },
     "execution_count": 40,
     "metadata": {},
     "output_type": "execute_result"
    }
   ],
   "source": [
    "\"\"\"\n",
    "# Use pd.cut to split youth education into bins\n",
    "youth =  pd.cut(dataset['Education - Children/Youth'], \n",
    "                bins=[0,13,15,16,70,90,100], labels=False,\n",
    "                right=False, include_lowest=True)\n",
    "\n",
    "# Replace the values with the correct ones we want\n",
    "youth = youth + 1\n",
    "youth.replace({'Education - Children/Youth':{4:1,5:7,6:9}}, inplace=True)\n",
    "dataset['Education - Children/Youth'] = youth\n",
    "\n",
    "# Split adult education into the same bins\n",
    "adult = pd.cut(dataset['Education - Adults 20+'], \n",
    "               bins=[0,3,4,6,8,10], labels=False,\n",
    "               right=False, include_lowest=True)\n",
    "adult = adult + 1\n",
    "adult.replace({'Education - Adults 20+':{4:7,5:9}}, inplace=True)\n",
    "dataset['Education - Adults 20+'] = adult\n",
    "\n",
    "# Put them in one education column\n",
    "nanind = np.isnan(dataset['Education - Adults 20+'])\n",
    "dataset.loc[nanind, 'Education - Adults 20+'] = dataset.loc[nanind, 'Education - Children/Youth']\n",
    "dataset.rename(columns={'Education - Adults 20+':'Education'}, inplace=True)\n",
    "dataset.drop('Education - Children/Youth', axis=1, inplace=True)\n",
    "\n",
    "dataset.describe()\n",
    "\"\"\""
   ]
  },
  {
   "cell_type": "markdown",
   "metadata": {},
   "source": [
    "# How Many NaN Entries Now?"
   ]
  },
  {
   "cell_type": "code",
   "execution_count": 41,
   "metadata": {
    "collapsed": false
   },
   "outputs": [
    {
     "name": "stdout",
     "output_type": "stream",
     "text": [
      "Number of entries:\n",
      "\n",
      "Interview/Exam     5533\n",
      "Gender             5533\n",
      "Age                5533\n",
      "Education          5533\n",
      "Marital Status     5533\n",
      "Weight (kg)        5533\n",
      "Height (cm)        5533\n",
      "Exam Completion    5533\n",
      "dtype: int64\n",
      "\n",
      "\n",
      "Number of NaN entries:\n",
      "\n",
      "Interview/Exam     0\n",
      "Gender             0\n",
      "Age                0\n",
      "Education          0\n",
      "Marital Status     0\n",
      "Weight (kg)        0\n",
      "Height (cm)        0\n",
      "Exam Completion    0\n",
      "dtype: int64\n"
     ]
    }
   ],
   "source": [
    "print('Number of entries:\\n\\n' + str(dataset.count()))\n",
    "print('\\n\\nNumber of NaN entries:\\n\\n' \n",
    "      + str(len(dataset.index)-dataset.count()))"
   ]
  },
  {
   "cell_type": "markdown",
   "metadata": {},
   "source": [
    "# Removing Features (Columns)"
   ]
  },
  {
   "cell_type": "markdown",
   "metadata": {},
   "source": [
    "Head Circumference (cm) has very few valid entries, and could probably be removed. Student Status also has a relatively small number of entries, but still has enough to be kept in an analysis if we thought that was an important feature. Unless we are especially intersted in those values, it makes more sense to remove those columns than the many examples with a NaN value in those columns. For now, let's remove both of them."
   ]
  },
  {
   "cell_type": "markdown",
   "metadata": {},
   "source": [
    "Head Circumference (cm) and Student Status have relatively few valid entries: remove them"
   ]
  },
  {
   "cell_type": "code",
   "execution_count": 43,
   "metadata": {
    "collapsed": false
   },
   "outputs": [],
   "source": [
    "\n",
    "#colnames = list(dataset.columns)\n",
    "#[colnames.remove(x) for x in ['Student Status', 'Head Circumference (cm)']]\n",
    "#dataset = dataset.loc[:,colnames]\n",
    "#dataset.describe()"
   ]
  },
  {
   "cell_type": "markdown",
   "metadata": {},
   "source": [
    "# Removing Examples (Rows)\n",
    "\n",
    "In other cases, it makes more sense to remove incomplete examples than lose out on informative features."
   ]
  },
  {
   "cell_type": "code",
   "execution_count": 19,
   "metadata": {
    "collapsed": false
   },
   "outputs": [
    {
     "name": "stdout",
     "output_type": "stream",
     "text": [
      "Number of entries:\n",
      "\n",
      "Interview/Exam     5543\n",
      "Gender             5543\n",
      "Age                5543\n",
      "Education          5543\n",
      "Marital Status     5543\n",
      "Weight (kg)        5543\n",
      "Height (cm)        5543\n",
      "Exam Completion    5543\n",
      "dtype: int64\n",
      "\n",
      "\n",
      "Number of NaN entries:\n",
      "\n",
      "Interview/Exam     0\n",
      "Gender             0\n",
      "Age                0\n",
      "Education          0\n",
      "Marital Status     0\n",
      "Weight (kg)        0\n",
      "Height (cm)        0\n",
      "Exam Completion    0\n",
      "dtype: int64\n"
     ]
    }
   ],
   "source": [
    "dataset.dropna(axis=0, how='any', inplace=True)\n",
    "\n",
    "print('Number of entries:\\n\\n' + str(dataset.count()))\n",
    "print('\\n\\nNumber of NaN entries:\\n\\n' + str(len(dataset.index)-dataset.count()))"
   ]
  },
  {
   "cell_type": "markdown",
   "metadata": {},
   "source": [
    "# Nonsensical Entries\n",
    "\n",
    "Some entries are perfectly valid numbers, but we can tell they're wrong because they don't make sense.\n",
    "\n",
    "+ Invalid label (3 in a coding scheme of 0 or 1)\n",
    "+ Age, weight, or height < 0\n",
    "\n",
    "We can find wrong labels by looking at the unique labels for each column"
   ]
  },
  {
   "cell_type": "code",
   "execution_count": 45,
   "metadata": {
    "collapsed": false
   },
   "outputs": [
    {
     "name": "stdout",
     "output_type": "stream",
     "text": [
      "Interview/Exam: [ 2.]\n",
      "Gender: [ 1.  2.]\n",
      "Education: [ 3.  1.  2.  4.  5.]\n",
      "Marital Status: [ 1.  5.  4.  3.  2.  6.]\n",
      "Exam Completion: [ 1.  2.]\n"
     ]
    }
   ],
   "source": [
    "for col in ['Interview/Exam', 'Gender', 'Education', 'Marital Status', 'Exam Completion']:\n",
    "    print(col + ': ' + str(dataset[col].unique()))"
   ]
  },
  {
   "cell_type": "markdown",
   "metadata": {},
   "source": [
    "# Fix Marital Status\n",
    "\n",
    "According to the Codebook, 8 is not a valid value for Marital Status and should be removed."
   ]
  },
  {
   "cell_type": "code",
   "execution_count": 21,
   "metadata": {
    "collapsed": true
   },
   "outputs": [],
   "source": [
    "ind = dataset['Marital Status'] == 8\n",
    "dataset = dataset[~ind]"
   ]
  },
  {
   "cell_type": "markdown",
   "metadata": {},
   "source": [
    "# Remove refused and unknown\n",
    "\n",
    "We can also remove any values coded as \"refused\" or \"unknown\". While they're valid numerical entries, they may be no more informative than NaN values for some analyses."
   ]
  },
  {
   "cell_type": "markdown",
   "metadata": {},
   "source": [
    "There may be analyses where we would want to keep these entries. Again, it's important to consider your specific question when deciding which data to keep or remove."
   ]
  },
  {
   "cell_type": "code",
   "execution_count": 22,
   "metadata": {
    "collapsed": false
   },
   "outputs": [
    {
     "data": {
      "text/html": [
       "<div>\n",
       "<table border=\"1\" class=\"dataframe\">\n",
       "  <thead>\n",
       "    <tr style=\"text-align: right;\">\n",
       "      <th></th>\n",
       "      <th>Interview/Exam</th>\n",
       "      <th>Gender</th>\n",
       "      <th>Age</th>\n",
       "      <th>Education</th>\n",
       "      <th>Marital Status</th>\n",
       "      <th>Weight (kg)</th>\n",
       "      <th>Height (cm)</th>\n",
       "      <th>Exam Completion</th>\n",
       "    </tr>\n",
       "  </thead>\n",
       "  <tbody>\n",
       "    <tr>\n",
       "      <th>count</th>\n",
       "      <td>5537.0</td>\n",
       "      <td>5537.000000</td>\n",
       "      <td>5537.000000</td>\n",
       "      <td>5537.000000</td>\n",
       "      <td>5537.000000</td>\n",
       "      <td>5537.000000</td>\n",
       "      <td>5537.000000</td>\n",
       "      <td>5537.000000</td>\n",
       "    </tr>\n",
       "    <tr>\n",
       "      <th>mean</th>\n",
       "      <td>2.0</td>\n",
       "      <td>1.519054</td>\n",
       "      <td>39.950876</td>\n",
       "      <td>1.798086</td>\n",
       "      <td>3.038107</td>\n",
       "      <td>76.684291</td>\n",
       "      <td>166.626115</td>\n",
       "      <td>1.006141</td>\n",
       "    </tr>\n",
       "    <tr>\n",
       "      <th>std</th>\n",
       "      <td>0.0</td>\n",
       "      <td>0.499682</td>\n",
       "      <td>21.975258</td>\n",
       "      <td>0.899609</td>\n",
       "      <td>1.911280</td>\n",
       "      <td>65.926316</td>\n",
       "      <td>9.815774</td>\n",
       "      <td>0.078127</td>\n",
       "    </tr>\n",
       "    <tr>\n",
       "      <th>min</th>\n",
       "      <td>2.0</td>\n",
       "      <td>1.000000</td>\n",
       "      <td>-15.000000</td>\n",
       "      <td>1.000000</td>\n",
       "      <td>1.000000</td>\n",
       "      <td>-57.100000</td>\n",
       "      <td>119.800000</td>\n",
       "      <td>1.000000</td>\n",
       "    </tr>\n",
       "    <tr>\n",
       "      <th>25%</th>\n",
       "      <td>2.0</td>\n",
       "      <td>1.000000</td>\n",
       "      <td>19.000000</td>\n",
       "      <td>1.000000</td>\n",
       "      <td>1.000000</td>\n",
       "      <td>61.740000</td>\n",
       "      <td>159.500000</td>\n",
       "      <td>1.000000</td>\n",
       "    </tr>\n",
       "    <tr>\n",
       "      <th>50%</th>\n",
       "      <td>2.0</td>\n",
       "      <td>2.000000</td>\n",
       "      <td>36.000000</td>\n",
       "      <td>1.000000</td>\n",
       "      <td>3.000000</td>\n",
       "      <td>72.940000</td>\n",
       "      <td>166.300000</td>\n",
       "      <td>1.000000</td>\n",
       "    </tr>\n",
       "    <tr>\n",
       "      <th>75%</th>\n",
       "      <td>2.0</td>\n",
       "      <td>2.000000</td>\n",
       "      <td>60.000000</td>\n",
       "      <td>3.000000</td>\n",
       "      <td>5.000000</td>\n",
       "      <td>86.400000</td>\n",
       "      <td>173.500000</td>\n",
       "      <td>1.000000</td>\n",
       "    </tr>\n",
       "    <tr>\n",
       "      <th>max</th>\n",
       "      <td>2.0</td>\n",
       "      <td>2.000000</td>\n",
       "      <td>96.000000</td>\n",
       "      <td>5.000000</td>\n",
       "      <td>6.000000</td>\n",
       "      <td>4750.000000</td>\n",
       "      <td>201.300000</td>\n",
       "      <td>2.000000</td>\n",
       "    </tr>\n",
       "  </tbody>\n",
       "</table>\n",
       "</div>"
      ],
      "text/plain": [
       "       Interview/Exam       Gender          Age    Education  Marital Status  \\\n",
       "count          5537.0  5537.000000  5537.000000  5537.000000     5537.000000   \n",
       "mean              2.0     1.519054    39.950876     1.798086        3.038107   \n",
       "std               0.0     0.499682    21.975258     0.899609        1.911280   \n",
       "min               2.0     1.000000   -15.000000     1.000000        1.000000   \n",
       "25%               2.0     1.000000    19.000000     1.000000        1.000000   \n",
       "50%               2.0     2.000000    36.000000     1.000000        3.000000   \n",
       "75%               2.0     2.000000    60.000000     3.000000        5.000000   \n",
       "max               2.0     2.000000    96.000000     5.000000        6.000000   \n",
       "\n",
       "       Weight (kg)  Height (cm)  Exam Completion  \n",
       "count  5537.000000  5537.000000      5537.000000  \n",
       "mean     76.684291   166.626115         1.006141  \n",
       "std      65.926316     9.815774         0.078127  \n",
       "min     -57.100000   119.800000         1.000000  \n",
       "25%      61.740000   159.500000         1.000000  \n",
       "50%      72.940000   166.300000         1.000000  \n",
       "75%      86.400000   173.500000         1.000000  \n",
       "max    4750.000000   201.300000         2.000000  "
      ]
     },
     "execution_count": 22,
     "metadata": {},
     "output_type": "execute_result"
    }
   ],
   "source": [
    "ind = (dataset['Marital Status'] > 7) | (dataset['Education'] >=7)\n",
    "dataset = dataset[~ind]\n",
    "dataset.describe()"
   ]
  },
  {
   "cell_type": "markdown",
   "metadata": {},
   "source": [
    "# Impossible Continuous Values"
   ]
  },
  {
   "cell_type": "markdown",
   "metadata": {},
   "source": [
    "Continuous values can also have unreasonable values. The summary shows that our minimum age and weight are negative. Also, the maximum weight is over 4000 kg! A quick Google search gives 635 kg as the maximum human weight, so that seems like a reasonable boundary."
   ]
  },
  {
   "cell_type": "markdown",
   "metadata": {},
   "source": [
    "\n",
    "+ Age < 0\n",
    "+ Weight < 0\n",
    "+ Weight > 635 kg"
   ]
  },
  {
   "cell_type": "code",
   "execution_count": 46,
   "metadata": {
    "collapsed": false
   },
   "outputs": [
    {
     "data": {
      "text/html": [
       "<div>\n",
       "<table border=\"1\" class=\"dataframe\">\n",
       "  <thead>\n",
       "    <tr style=\"text-align: right;\">\n",
       "      <th></th>\n",
       "      <th>Interview/Exam</th>\n",
       "      <th>Gender</th>\n",
       "      <th>Age</th>\n",
       "      <th>Education</th>\n",
       "      <th>Marital Status</th>\n",
       "      <th>Weight (kg)</th>\n",
       "      <th>Height (cm)</th>\n",
       "      <th>Exam Completion</th>\n",
       "    </tr>\n",
       "  </thead>\n",
       "  <tbody>\n",
       "    <tr>\n",
       "      <th>count</th>\n",
       "      <td>5533.0</td>\n",
       "      <td>5533.000000</td>\n",
       "      <td>5533.000000</td>\n",
       "      <td>5533.000000</td>\n",
       "      <td>5533.000000</td>\n",
       "      <td>5533.000000</td>\n",
       "      <td>5533.000000</td>\n",
       "      <td>5533.000000</td>\n",
       "    </tr>\n",
       "    <tr>\n",
       "      <th>mean</th>\n",
       "      <td>2.0</td>\n",
       "      <td>1.518887</td>\n",
       "      <td>39.959154</td>\n",
       "      <td>1.798663</td>\n",
       "      <td>3.036689</td>\n",
       "      <td>75.864887</td>\n",
       "      <td>166.629966</td>\n",
       "      <td>1.006145</td>\n",
       "    </tr>\n",
       "    <tr>\n",
       "      <th>std</th>\n",
       "      <td>0.0</td>\n",
       "      <td>0.499688</td>\n",
       "      <td>21.953308</td>\n",
       "      <td>0.899678</td>\n",
       "      <td>1.911148</td>\n",
       "      <td>19.939066</td>\n",
       "      <td>9.816356</td>\n",
       "      <td>0.078156</td>\n",
       "    </tr>\n",
       "    <tr>\n",
       "      <th>min</th>\n",
       "      <td>2.0</td>\n",
       "      <td>1.000000</td>\n",
       "      <td>14.000000</td>\n",
       "      <td>1.000000</td>\n",
       "      <td>1.000000</td>\n",
       "      <td>25.600000</td>\n",
       "      <td>119.800000</td>\n",
       "      <td>1.000000</td>\n",
       "    </tr>\n",
       "    <tr>\n",
       "      <th>25%</th>\n",
       "      <td>2.0</td>\n",
       "      <td>1.000000</td>\n",
       "      <td>19.000000</td>\n",
       "      <td>1.000000</td>\n",
       "      <td>1.000000</td>\n",
       "      <td>61.740000</td>\n",
       "      <td>159.500000</td>\n",
       "      <td>1.000000</td>\n",
       "    </tr>\n",
       "    <tr>\n",
       "      <th>50%</th>\n",
       "      <td>2.0</td>\n",
       "      <td>2.000000</td>\n",
       "      <td>36.000000</td>\n",
       "      <td>1.000000</td>\n",
       "      <td>3.000000</td>\n",
       "      <td>72.940000</td>\n",
       "      <td>166.300000</td>\n",
       "      <td>1.000000</td>\n",
       "    </tr>\n",
       "    <tr>\n",
       "      <th>75%</th>\n",
       "      <td>2.0</td>\n",
       "      <td>2.000000</td>\n",
       "      <td>60.000000</td>\n",
       "      <td>3.000000</td>\n",
       "      <td>5.000000</td>\n",
       "      <td>86.400000</td>\n",
       "      <td>173.500000</td>\n",
       "      <td>1.000000</td>\n",
       "    </tr>\n",
       "    <tr>\n",
       "      <th>max</th>\n",
       "      <td>2.0</td>\n",
       "      <td>2.000000</td>\n",
       "      <td>85.000000</td>\n",
       "      <td>5.000000</td>\n",
       "      <td>6.000000</td>\n",
       "      <td>193.300000</td>\n",
       "      <td>201.300000</td>\n",
       "      <td>2.000000</td>\n",
       "    </tr>\n",
       "  </tbody>\n",
       "</table>\n",
       "</div>"
      ],
      "text/plain": [
       "       Interview/Exam       Gender          Age    Education  Marital Status  \\\n",
       "count          5533.0  5533.000000  5533.000000  5533.000000     5533.000000   \n",
       "mean              2.0     1.518887    39.959154     1.798663        3.036689   \n",
       "std               0.0     0.499688    21.953308     0.899678        1.911148   \n",
       "min               2.0     1.000000    14.000000     1.000000        1.000000   \n",
       "25%               2.0     1.000000    19.000000     1.000000        1.000000   \n",
       "50%               2.0     2.000000    36.000000     1.000000        3.000000   \n",
       "75%               2.0     2.000000    60.000000     3.000000        5.000000   \n",
       "max               2.0     2.000000    85.000000     5.000000        6.000000   \n",
       "\n",
       "       Weight (kg)  Height (cm)  Exam Completion  \n",
       "count  5533.000000  5533.000000      5533.000000  \n",
       "mean     75.864887   166.629966         1.006145  \n",
       "std      19.939066     9.816356         0.078156  \n",
       "min      25.600000   119.800000         1.000000  \n",
       "25%      61.740000   159.500000         1.000000  \n",
       "50%      72.940000   166.300000         1.000000  \n",
       "75%      86.400000   173.500000         1.000000  \n",
       "max     193.300000   201.300000         2.000000  "
      ]
     },
     "execution_count": 46,
     "metadata": {},
     "output_type": "execute_result"
    }
   ],
   "source": [
    "ind = ((dataset['Age'] < 0) | (dataset['Weight (kg)'] < 0) \n",
    "       | (dataset['Weight (kg)'] > 635))\n",
    "dataset = dataset[~ind]\n",
    "dataset.describe()"
   ]
  },
  {
   "cell_type": "markdown",
   "metadata": {},
   "source": [
    "\n",
    "Now our maximum and minimum are more reasonable. Notice that now our minimum age is 14. This was probably caused by too much missing information in children under 14 (e.g. marital status). If this age range were important to our analysis, we would want to make different choices when deciding which features to keep or remove.\n",
    "\n",
    "Some analyses also look for outlies, or entries very far from the mean. Whether this is a good idea or biases the dataset is debatable, and highly dependent on the exact problem, so we won't do it here."
   ]
  },
  {
   "cell_type": "markdown",
   "metadata": {},
   "source": [
    "# Saturation\n",
    "\n",
    "Values at or beyond a maximum or minimum value capable of being recorded\n",
    "+ Age >= 85"
   ]
  },
  {
   "cell_type": "markdown",
   "metadata": {},
   "source": [
    "Values can become saturated when a measurement device (a sensor, survey specifications, etc) has a maximum and/or minimum value. Anything recorded at the maximum or minimum value is unknown, as it could actually be a value higher or lower than the measurement allowed. In this survey, all ages 85 and over were recorded as 85. If our analysis needed to know the age in years at all levels, that data would be invalid. Also, any data recorded as higher or lower than the saturation limits is incorrect."
   ]
  },
  {
   "cell_type": "code",
   "execution_count": 47,
   "metadata": {
    "collapsed": false
   },
   "outputs": [
    {
     "name": "stdout",
     "output_type": "stream",
     "text": [
      "85: 92\n",
      "Over 85: 0\n"
     ]
    }
   ],
   "source": [
    "age85 = sum(dataset['Age'] == 85)\n",
    "above85 = sum(dataset['Age'] > 85)\n",
    "\n",
    "print('85: ' + str(age85))\n",
    "print('Over 85: ' + str(above85))"
   ]
  },
  {
   "cell_type": "markdown",
   "metadata": {},
   "source": [
    "# Remove Saturated Entries"
   ]
  },
  {
   "cell_type": "markdown",
   "metadata": {},
   "source": [
    "There are 91 entries at 85, and one incorrectly entered as over 85. We can choose to keep the ones listed at 85, but the one over the saturation limit is incorrect."
   ]
  },
  {
   "cell_type": "code",
   "execution_count": 25,
   "metadata": {
    "collapsed": false
   },
   "outputs": [
    {
     "data": {
      "text/html": [
       "<div>\n",
       "<table border=\"1\" class=\"dataframe\">\n",
       "  <thead>\n",
       "    <tr style=\"text-align: right;\">\n",
       "      <th></th>\n",
       "      <th>Interview/Exam</th>\n",
       "      <th>Gender</th>\n",
       "      <th>Age</th>\n",
       "      <th>Education</th>\n",
       "      <th>Marital Status</th>\n",
       "      <th>Weight (kg)</th>\n",
       "      <th>Height (cm)</th>\n",
       "      <th>Exam Completion</th>\n",
       "    </tr>\n",
       "  </thead>\n",
       "  <tbody>\n",
       "    <tr>\n",
       "      <th>count</th>\n",
       "      <td>5533.0</td>\n",
       "      <td>5533.000000</td>\n",
       "      <td>5533.000000</td>\n",
       "      <td>5533.000000</td>\n",
       "      <td>5533.000000</td>\n",
       "      <td>5533.000000</td>\n",
       "      <td>5533.000000</td>\n",
       "      <td>5533.000000</td>\n",
       "    </tr>\n",
       "    <tr>\n",
       "      <th>mean</th>\n",
       "      <td>2.0</td>\n",
       "      <td>1.518887</td>\n",
       "      <td>39.959154</td>\n",
       "      <td>1.798663</td>\n",
       "      <td>3.036689</td>\n",
       "      <td>75.864887</td>\n",
       "      <td>166.629966</td>\n",
       "      <td>1.006145</td>\n",
       "    </tr>\n",
       "    <tr>\n",
       "      <th>std</th>\n",
       "      <td>0.0</td>\n",
       "      <td>0.499688</td>\n",
       "      <td>21.953308</td>\n",
       "      <td>0.899678</td>\n",
       "      <td>1.911148</td>\n",
       "      <td>19.939066</td>\n",
       "      <td>9.816356</td>\n",
       "      <td>0.078156</td>\n",
       "    </tr>\n",
       "    <tr>\n",
       "      <th>min</th>\n",
       "      <td>2.0</td>\n",
       "      <td>1.000000</td>\n",
       "      <td>14.000000</td>\n",
       "      <td>1.000000</td>\n",
       "      <td>1.000000</td>\n",
       "      <td>25.600000</td>\n",
       "      <td>119.800000</td>\n",
       "      <td>1.000000</td>\n",
       "    </tr>\n",
       "    <tr>\n",
       "      <th>25%</th>\n",
       "      <td>2.0</td>\n",
       "      <td>1.000000</td>\n",
       "      <td>19.000000</td>\n",
       "      <td>1.000000</td>\n",
       "      <td>1.000000</td>\n",
       "      <td>61.740000</td>\n",
       "      <td>159.500000</td>\n",
       "      <td>1.000000</td>\n",
       "    </tr>\n",
       "    <tr>\n",
       "      <th>50%</th>\n",
       "      <td>2.0</td>\n",
       "      <td>2.000000</td>\n",
       "      <td>36.000000</td>\n",
       "      <td>1.000000</td>\n",
       "      <td>3.000000</td>\n",
       "      <td>72.940000</td>\n",
       "      <td>166.300000</td>\n",
       "      <td>1.000000</td>\n",
       "    </tr>\n",
       "    <tr>\n",
       "      <th>75%</th>\n",
       "      <td>2.0</td>\n",
       "      <td>2.000000</td>\n",
       "      <td>60.000000</td>\n",
       "      <td>3.000000</td>\n",
       "      <td>5.000000</td>\n",
       "      <td>86.400000</td>\n",
       "      <td>173.500000</td>\n",
       "      <td>1.000000</td>\n",
       "    </tr>\n",
       "    <tr>\n",
       "      <th>max</th>\n",
       "      <td>2.0</td>\n",
       "      <td>2.000000</td>\n",
       "      <td>85.000000</td>\n",
       "      <td>5.000000</td>\n",
       "      <td>6.000000</td>\n",
       "      <td>193.300000</td>\n",
       "      <td>201.300000</td>\n",
       "      <td>2.000000</td>\n",
       "    </tr>\n",
       "  </tbody>\n",
       "</table>\n",
       "</div>"
      ],
      "text/plain": [
       "       Interview/Exam       Gender          Age    Education  Marital Status  \\\n",
       "count          5533.0  5533.000000  5533.000000  5533.000000     5533.000000   \n",
       "mean              2.0     1.518887    39.959154     1.798663        3.036689   \n",
       "std               0.0     0.499688    21.953308     0.899678        1.911148   \n",
       "min               2.0     1.000000    14.000000     1.000000        1.000000   \n",
       "25%               2.0     1.000000    19.000000     1.000000        1.000000   \n",
       "50%               2.0     2.000000    36.000000     1.000000        3.000000   \n",
       "75%               2.0     2.000000    60.000000     3.000000        5.000000   \n",
       "max               2.0     2.000000    85.000000     5.000000        6.000000   \n",
       "\n",
       "       Weight (kg)  Height (cm)  Exam Completion  \n",
       "count  5533.000000  5533.000000      5533.000000  \n",
       "mean     75.864887   166.629966         1.006145  \n",
       "std      19.939066     9.816356         0.078156  \n",
       "min      25.600000   119.800000         1.000000  \n",
       "25%      61.740000   159.500000         1.000000  \n",
       "50%      72.940000   166.300000         1.000000  \n",
       "75%      86.400000   173.500000         1.000000  \n",
       "max     193.300000   201.300000         2.000000  "
      ]
     },
     "execution_count": 25,
     "metadata": {},
     "output_type": "execute_result"
    }
   ],
   "source": [
    "dataset = dataset[dataset['Age'] <= 85]\n",
    "dataset.describe()"
   ]
  },
  {
   "cell_type": "markdown",
   "metadata": {},
   "source": [
    "# Confidential Information\n",
    "\n",
    "+ Sometimes confidential information should be removed\n",
    "    - e.g. marital status of minors\n",
    "+ Especially consider this if a dataset will be shared publicly"
   ]
  },
  {
   "cell_type": "markdown",
   "metadata": {},
   "source": [
    "# End Of Data Cleaning\n",
    "\n",
    "Save our cleaned-up dataset to use in the next steps."
   ]
  },
  {
   "cell_type": "code",
   "execution_count": 48,
   "metadata": {
    "collapsed": true
   },
   "outputs": [],
   "source": [
    "dataset.to_csv('../../DataSets/pybk004master/CleanedDataset.csv', index=True)"
   ]
  }
 ],
 "metadata": {
  "kernelspec": {
   "display_name": "Python 3",
   "language": "python",
   "name": "python3"
  },
  "language_info": {
   "codemirror_mode": {
    "name": "ipython",
    "version": 3
   },
   "file_extension": ".py",
   "mimetype": "text/x-python",
   "name": "python",
   "nbconvert_exporter": "python",
   "pygments_lexer": "ipython3",
   "version": "3.6.0"
  }
 },
 "nbformat": 4,
 "nbformat_minor": 2
}
