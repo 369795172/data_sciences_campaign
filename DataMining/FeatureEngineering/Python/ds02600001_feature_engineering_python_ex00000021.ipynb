{
 "cells": [
  {
   "cell_type": "code",
   "execution_count": null,
   "metadata": {
    "collapsed": true
   },
   "outputs": [],
   "source": [
    "# encoding=utf8"
   ]
  },
  {
   "cell_type": "markdown",
   "metadata": {},
   "source": [
    "# 特征工程-线性特征变换-线性判别分析LDA\n"
   ]
  },
  {
   "cell_type": "code",
   "execution_count": 1,
   "metadata": {
    "collapsed": false
   },
   "outputs": [
    {
     "name": "stderr",
     "output_type": "stream",
     "text": [
      "/Users/bater.makhabel/anaconda3/lib/python3.6/site-packages/sklearn/lda.py:6: DeprecationWarning: lda.LDA has been moved to discriminant_analysis.LinearDiscriminantAnalysis in 0.17 and will be removed in 0.19\n",
      "  \"in 0.17 and will be removed in 0.19\", DeprecationWarning)\n"
     ]
    }
   ],
   "source": [
    "  \n",
    "from sklearn import datasets\n",
    "from sklearn.lda import LDA\n"
   ]
  },
  {
   "cell_type": "code",
   "execution_count": 2,
   "metadata": {
    "collapsed": false
   },
   "outputs": [
    {
     "name": "stdout",
     "output_type": "stream",
     "text": [
      "first 10 raw samples: [[ 5.1  3.5  1.4  0.2]\n",
      " [ 4.9  3.   1.4  0.2]\n",
      " [ 4.7  3.2  1.3  0.2]\n",
      " [ 4.6  3.1  1.5  0.2]\n",
      " [ 5.   3.6  1.4  0.2]\n",
      " [ 5.4  3.9  1.7  0.4]\n",
      " [ 4.6  3.4  1.4  0.3]\n",
      " [ 5.   3.4  1.5  0.2]\n",
      " [ 4.4  2.9  1.4  0.2]\n",
      " [ 4.9  3.1  1.5  0.1]]\n",
      "first 10 transformed samples: [[-7.82980001  0.32152479]\n",
      " [-6.90948663 -0.79927295]\n",
      " [-7.27243493 -0.26853178]\n",
      " [-6.60094723 -0.65305491]\n",
      " [-7.90146095  0.54669608]\n",
      " [-7.46909339  1.49939454]\n",
      " [-7.00117745  0.36240908]\n",
      " [-7.37793873  0.01740025]\n",
      " [-6.35610395 -1.02010821]\n",
      " [-7.11704798 -0.91694247]]\n",
      "predict value: [2 2 2 2 2]\n"
     ]
    }
   ],
   "source": [
    "iris = datasets.load_iris()\n",
    "X = iris.data[:-5]\n",
    "pre_x = iris.data[-5:]\n",
    "y = iris.target[:-5]\n",
    "print ('first 10 raw samples:', X[:10])\n",
    "clf = LDA()\n",
    "clf.fit(X, y)\n",
    "X_r = clf.transform(X)\n",
    "pre_y = clf.predict(pre_x)\n",
    "#降维结果\n",
    "print ('first 10 transformed samples:', X_r[:10])\n",
    "#预测目标分类结果\n",
    "print ('predict value:', pre_y)"
   ]
  },
  {
   "cell_type": "code",
   "execution_count": null,
   "metadata": {
    "collapsed": true
   },
   "outputs": [],
   "source": []
  }
 ],
 "metadata": {
  "kernelspec": {
   "display_name": "Python 3",
   "language": "python",
   "name": "python3"
  },
  "language_info": {
   "codemirror_mode": {
    "name": "ipython",
    "version": 3
   },
   "file_extension": ".py",
   "mimetype": "text/x-python",
   "name": "python",
   "nbconvert_exporter": "python",
   "pygments_lexer": "ipython3",
   "version": "3.6.0"
  }
 },
 "nbformat": 4,
 "nbformat_minor": 2
}
