{
 "cells": [
  {
   "cell_type": "code",
   "execution_count": null,
   "metadata": {
    "collapsed": true
   },
   "outputs": [],
   "source": [
    "# encoding=utf8"
   ]
  },
  {
   "cell_type": "markdown",
   "metadata": {},
   "source": [
    "# 特征工程-线性特征变换-奇异值分解SVD\n"
   ]
  },
  {
   "cell_type": "code",
   "execution_count": 3,
   "metadata": {
    "collapsed": true
   },
   "outputs": [],
   "source": [
    "import numpy as np\n",
    "import matplotlib.pyplot as plt\n",
    "\n"
   ]
  },
  {
   "cell_type": "code",
   "execution_count": 1,
   "metadata": {
    "collapsed": true
   },
   "outputs": [],
   "source": [
    "class PCA:\n",
    "    \"\"\" 通过SVD分解来实现PCA \n",
    "    1. 训练数据train_x必须一行代表一个样本, 一列代表一个特征\n",
    "    2. 能够同时压缩train_x的行和列\n",
    "    3. 可以选择在压缩前, 是否对数据进行中心化\n",
    "    \"\"\"\n",
    "    def __init__(self, dimension, centered=True, compression=\"cols\"):\n",
    "        \"\"\"\n",
    "        dimension:      降维后的维度\n",
    "        centered:       是否事先对数据进行中心化\n",
    "        compression:    压缩行, 还是压缩列\n",
    "        \"\"\"\n",
    "        self.dimension = dimension\n",
    "        self.centered = centered\n",
    "        self.compression = compression\n",
    "        \n",
    "    def _centered(self, train_x):\n",
    "        \"\"\" 数据中心化 \"\"\"\n",
    "        return train_x - np.mean(train_x, axis=0)\n",
    "    \n",
    "    def _svd(self, train_x):\n",
    "        \"\"\" 奇异值分解 \"\"\"\n",
    "        return np.linalg.svd(train_x)\n",
    "    \n",
    "    def transform(self, train_x):\n",
    "        \"\"\" 数据转化(降维) \n",
    "        train_x:        训练数据, 一行代表一个样本\n",
    "        u, sigma, v:    奇异值分解结果\n",
    "        result:         降维后的数据\n",
    "        \"\"\"\n",
    "        # 1. 数据中心化\n",
    "        if self.centered == True:\n",
    "            train_x = self._centered(train_x)\n",
    "        \n",
    "        # 2. 奇异值分解\n",
    "        u, sigma, v = self._svd(train_x)\n",
    "        v = v.T\n",
    "        \n",
    "        # 3. 降维\n",
    "        if self.compression == \"cols\":\n",
    "            result = np.dot(train_x, v[:, 0:self.dimension])\n",
    "        elif self.compression == \"rows\":\n",
    "            result = np.dot(u[:, 0:self.dimension], train_x[0:self.dimension, :])\n",
    "        else:\n",
    "            raise(Exception(\"parameter error.\"))\n",
    "        return result"
   ]
  },
  {
   "cell_type": "code",
   "execution_count": 2,
   "metadata": {
    "collapsed": false
   },
   "outputs": [
    {
     "ename": "FileNotFoundError",
     "evalue": "[Errno 2] No such file or directory: '../SVD/data/Iris.txt'",
     "output_type": "error",
     "traceback": [
      "\u001b[0;31m---------------------------------------------------------------------------\u001b[0m",
      "\u001b[0;31mFileNotFoundError\u001b[0m                         Traceback (most recent call last)",
      "\u001b[0;32m<ipython-input-2-a7173880508d>\u001b[0m in \u001b[0;36m<module>\u001b[0;34m()\u001b[0m\n\u001b[0;32m----> 1\u001b[0;31m \u001b[0;32mwith\u001b[0m \u001b[0mopen\u001b[0m\u001b[0;34m(\u001b[0m\u001b[0;34m\"../SVD/data/Iris.txt\"\u001b[0m\u001b[0;34m,\u001b[0m \u001b[0;34m\"r\"\u001b[0m\u001b[0;34m)\u001b[0m \u001b[0;32mas\u001b[0m \u001b[0mf\u001b[0m\u001b[0;34m:\u001b[0m\u001b[0;34m\u001b[0m\u001b[0m\n\u001b[0m\u001b[1;32m      2\u001b[0m     \u001b[0miris\u001b[0m \u001b[0;34m=\u001b[0m \u001b[0;34m[\u001b[0m\u001b[0;34m]\u001b[0m\u001b[0;34m\u001b[0m\u001b[0m\n\u001b[1;32m      3\u001b[0m     \u001b[0;32mfor\u001b[0m \u001b[0mline\u001b[0m \u001b[0;32min\u001b[0m \u001b[0mf\u001b[0m\u001b[0;34m.\u001b[0m\u001b[0mreadlines\u001b[0m\u001b[0;34m(\u001b[0m\u001b[0;34m)\u001b[0m\u001b[0;34m:\u001b[0m\u001b[0;34m\u001b[0m\u001b[0m\n\u001b[1;32m      4\u001b[0m         \u001b[0mtemp\u001b[0m \u001b[0;34m=\u001b[0m \u001b[0mline\u001b[0m\u001b[0;34m.\u001b[0m\u001b[0mstrip\u001b[0m\u001b[0;34m(\u001b[0m\u001b[0;34m)\u001b[0m\u001b[0;34m.\u001b[0m\u001b[0msplit\u001b[0m\u001b[0;34m(\u001b[0m\u001b[0;34m\",\"\u001b[0m\u001b[0;34m)\u001b[0m\u001b[0;34m\u001b[0m\u001b[0m\n\u001b[1;32m      5\u001b[0m         \u001b[0;32mif\u001b[0m \u001b[0mtemp\u001b[0m\u001b[0;34m[\u001b[0m\u001b[0;36m4\u001b[0m\u001b[0;34m]\u001b[0m \u001b[0;34m==\u001b[0m \u001b[0;34m\"Iris-setosa\"\u001b[0m\u001b[0;34m:\u001b[0m\u001b[0;34m\u001b[0m\u001b[0m\n",
      "\u001b[0;31mFileNotFoundError\u001b[0m: [Errno 2] No such file or directory: '../SVD/data/Iris.txt'"
     ]
    }
   ],
   "source": [
    "    with open(\"../../DataSets/pybk020master/iris.txt\", \"r\") as f:  \n",
    "        iris = []  \n",
    "        for line in f.readlines():  \n",
    "            temp = line.strip().split(\",\")  \n",
    "            if temp[4] == \"Iris-setosa\":  \n",
    "                temp[4] = 0  \n",
    "            elif temp[4] == \"Iris-versicolor\":  \n",
    "                temp[4] = 1  \n",
    "            elif temp[4] == \"Iris-virginica\":  \n",
    "                temp[4] = 2  \n",
    "            else:  \n",
    "                raise(Exception(\"data error.\"))  \n",
    "            iris.append(temp)  \n",
    "    iris = np.array(iris, np.float)  \n",
    "    return iris  \n",
    "      \n"
   ]
  },
  {
   "cell_type": "code",
   "execution_count": null,
   "metadata": {
    "collapsed": true
   },
   "outputs": [],
   "source": [
    "def draw_result(new_trainX, iris):  \n",
    "    \"\"\" \n",
    "    new_trainX:     降维后的数据 \n",
    "    iris:           原数据 \n",
    "    \"\"\"  \n",
    "    plt.figure()  \n",
    "    # Iris-setosa  \n",
    "    setosa = new_trainX[iris[:, 4] == 0]  \n",
    "    plt.scatter(setosa[:, 0], setosa[:, 1], color=\"red\", label=\"Iris-setosa\")  \n",
    "      \n",
    "    # Iris-versicolor  \n",
    "    versicolor = new_trainX[iris[:, 4] == 1]  \n",
    "    plt.scatter(versicolor[:, 0], versicolor[:, 1], color=\"orange\", label=\"Iris-versicolor\")  \n",
    "      \n",
    "    # Iris-virginica  \n",
    "    virginica = new_trainX[iris[:, 4] == 2]  \n",
    "    plt.scatter(virginica[:, 0], virginica[:, 1], color=\"blue\", label=\"Iris-virginica\")  \n",
    "    plt.legend()  \n",
    "    plt.show()  \n",
    "      \n",
    "\n"
   ]
  },
  {
   "cell_type": "code",
   "execution_count": null,
   "metadata": {
    "collapsed": true
   },
   "outputs": [],
   "source": [
    "\n",
    "    # 导入数据  \n",
    "    iris = load_data()  \n",
    "      \n",
    "    # 降维  \n",
    "    clf = PCA(2, centered, compression)  \n",
    "    new_iris = clf.transform(iris[:, 0:4])  \n",
    "      \n",
    "    # 降维结果可视化  \n",
    "    draw_result(new_iris, iris)  "
   ]
  }
 ],
 "metadata": {
  "kernelspec": {
   "display_name": "Python 3",
   "language": "python",
   "name": "python3"
  },
  "language_info": {
   "codemirror_mode": {
    "name": "ipython",
    "version": 3
   },
   "file_extension": ".py",
   "mimetype": "text/x-python",
   "name": "python",
   "nbconvert_exporter": "python",
   "pygments_lexer": "ipython3",
   "version": "3.6.0"
  }
 },
 "nbformat": 4,
 "nbformat_minor": 2
}
