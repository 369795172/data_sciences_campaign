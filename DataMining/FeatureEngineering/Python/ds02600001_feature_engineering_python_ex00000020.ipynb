{
 "cells": [
  {
   "cell_type": "code",
   "execution_count": 1,
   "metadata": {
    "collapsed": true
   },
   "outputs": [],
   "source": [
    "# encoding=utf8"
   ]
  },
  {
   "cell_type": "markdown",
   "metadata": {},
   "source": [
    "# 特征工程-线性特征变换-线性判别分析LDA \n"
   ]
  },
  {
   "cell_type": "code",
   "execution_count": 2,
   "metadata": {
    "collapsed": true
   },
   "outputs": [],
   "source": [
    "\n",
    "# Code from Chapter 6 of Machine Learning: An Algorithmic Perspective (2nd Edition)\n",
    "# by Stephen Marsland (http://stephenmonika.net)\n",
    "\n",
    "# You are free to use, change, or redistribute the code in any way you wish for\n",
    "# non-commercial purposes, but please maintain the name of the original author.\n",
    "# This code comes with no warranty of any kind.\n",
    "\n",
    "# Stephen Marsland, 2008, 2014\n",
    "\n",
    "# The LDA algorithm\n",
    "\n",
    "import pylab as pl\n",
    "import numpy as np\n",
    "from scipy import linalg as la\n",
    "\n",
    "def lda(data,labels,redDim):\n",
    "\n",
    "    # Centre data\n",
    "    data -= data.mean(axis=0)\n",
    "    nData = np.shape(data)[0]\n",
    "    nDim = np.shape(data)[1]\n",
    "    \n",
    "    Sw = np.zeros((nDim,nDim))\n",
    "    Sb = np.zeros((nDim,nDim))\n",
    "    \n",
    "    C = np.cov(np.transpose(data))\n",
    "    \n",
    "    # Loop over classes\n",
    "    classes = np.unique(labels)\n",
    "    for i in range(len(classes)):\n",
    "        # Find relevant datapoints\n",
    "        indices = np.squeeze(np.where(labels==classes[i]))\n",
    "        d = np.squeeze(data[indices,:])\n",
    "        classcov = np.cov(np.transpose(d))\n",
    "        Sw += np.float(np.shape(indices)[0])/nData * classcov\n",
    "        \n",
    "    Sb = C - Sw\n",
    "    # Now solve for W and compute mapped data\n",
    "    # Compute eigenvalues, eigenvectors and sort into order\n",
    "    evals,evecs = la.eig(Sw,Sb)\n",
    "    indices = np.argsort(evals)\n",
    "    indices = indices[::-1]\n",
    "    evecs = evecs[:,indices]\n",
    "    evals = evals[indices]\n",
    "    w = evecs[:,:redDim]\n",
    "    newData = np.dot(data,w)\n",
    "    return newData,w\n",
    "\n",
    "#data = np.array([[0.1,0.1],[0.2,0.2],[0.3,0.3],[0.35,0.3],[0.4,0.4],[0.6,0.4],[0.7,0.45],[0.75,0.4],[0.8,0.35]])\n",
    "#labels = np.array([0,0,0,0,0,1,1,1,1])\n",
    "#newData,w = lda(data,labels,2)\n",
    "#print w\n",
    "#pl.plot(data[:,0],data[:,1],'o',newData[:,0],newData[:,0],'.')\n",
    "#pl.show()"
   ]
  },
  {
   "cell_type": "code",
   "execution_count": null,
   "metadata": {
    "collapsed": true
   },
   "outputs": [],
   "source": []
  }
 ],
 "metadata": {
  "kernelspec": {
   "display_name": "Python 3",
   "language": "python",
   "name": "python3"
  },
  "language_info": {
   "codemirror_mode": {
    "name": "ipython",
    "version": 3
   },
   "file_extension": ".py",
   "mimetype": "text/x-python",
   "name": "python",
   "nbconvert_exporter": "python",
   "pygments_lexer": "ipython3",
   "version": "3.6.0"
  }
 },
 "nbformat": 4,
 "nbformat_minor": 2
}
