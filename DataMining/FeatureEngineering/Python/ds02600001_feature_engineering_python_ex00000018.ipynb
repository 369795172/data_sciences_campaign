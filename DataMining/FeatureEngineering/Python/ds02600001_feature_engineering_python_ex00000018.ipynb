{
 "cells": [
  {
   "cell_type": "code",
   "execution_count": null,
   "metadata": {
    "collapsed": true
   },
   "outputs": [],
   "source": [
    "# encoding=utf8"
   ]
  },
  {
   "cell_type": "markdown",
   "metadata": {},
   "source": [
    "# 线性特征变换-主成份分析 PCA \n"
   ]
  },
  {
   "cell_type": "markdown",
   "metadata": {},
   "source": [
    "\n",
    "## Task 1\n"
   ]
  },
  {
   "cell_type": "code",
   "execution_count": 1,
   "metadata": {
    "collapsed": false
   },
   "outputs": [
    {
     "data": {
      "text/plain": [
       "PCA(copy=True, iterated_power='auto', n_components=5, random_state=None,\n",
       "  svd_solver='auto', tol=0.0, whiten=False)"
      ]
     },
     "execution_count": 1,
     "metadata": {},
     "output_type": "execute_result"
    }
   ],
   "source": [
    "import pandas as pd\n",
    "import numpy as np\n",
    "from sklearn.decomposition import PCA\n",
    "\n",
    "df = pd.DataFrame(data=np.random.normal(0, 1, (20, 10)))\n",
    "\n",
    "pca = PCA(n_components=5)\n",
    "pca.fit(df)"
   ]
  },
  {
   "cell_type": "markdown",
   "metadata": {},
   "source": [
    "\n",
    "## Task 2\n",
    "\n"
   ]
  },
  {
   "cell_type": "code",
   "execution_count": 7,
   "metadata": {
    "collapsed": false
   },
   "outputs": [],
   "source": [
    "import numpy as np\n",
    "import matplotlib.pyplot as plt\n",
    "from scipy.misc import face\n"
   ]
  },
  {
   "cell_type": "code",
   "execution_count": 11,
   "metadata": {
    "collapsed": false
   },
   "outputs": [
    {
     "data": {
      "text/plain": [
       "array([ 0.        ,  0.09983342,  0.19866933,  0.29552021,  0.38941834,\n",
       "        0.47942554,  0.56464247,  0.64421769,  0.71735609,  0.78332691,\n",
       "        0.84147098,  0.89120736,  0.93203909,  0.96355819,  0.98544973,\n",
       "        0.99749499,  0.9995736 ,  0.99166481,  0.97384763,  0.94630009,\n",
       "        0.90929743,  0.86320937,  0.8084964 ,  0.74570521,  0.67546318,\n",
       "        0.59847214,  0.51550137,  0.42737988,  0.33498815,  0.23924933,\n",
       "        0.14112001,  0.04158066, -0.05837414, -0.15774569, -0.2555411 ,\n",
       "       -0.35078323, -0.44252044, -0.52983614, -0.61185789, -0.68776616,\n",
       "       -0.7568025 , -0.81827711, -0.87157577, -0.91616594, -0.95160207,\n",
       "       -0.97753012, -0.993691  , -0.99992326, -0.99616461, -0.98245261,\n",
       "       -0.95892427, -0.92581468, -0.88345466, -0.83226744, -0.77276449,\n",
       "       -0.70554033, -0.63126664, -0.55068554, -0.46460218, -0.37387666,\n",
       "       -0.2794155 , -0.1821625 , -0.0830894 ,  0.0168139 ,  0.1165492 ,\n",
       "        0.21511999,  0.31154136,  0.40484992,  0.49411335,  0.57843976,\n",
       "        0.6569866 ,  0.72896904,  0.79366786,  0.85043662,  0.8987081 ,\n",
       "        0.93799998,  0.96791967,  0.98816823,  0.99854335,  0.99894134,\n",
       "        0.98935825,  0.96988981,  0.94073056,  0.90217183,  0.85459891,\n",
       "        0.79848711,  0.7343971 ,  0.66296923,  0.58491719,  0.50102086,\n",
       "        0.41211849,  0.31909836,  0.22288991,  0.12445442,  0.02477543,\n",
       "       -0.07515112, -0.17432678, -0.27176063, -0.36647913, -0.45753589])"
      ]
     },
     "execution_count": 11,
     "metadata": {},
     "output_type": "execute_result"
    }
   ],
   "source": [
    "\n",
    "# the underlying signal is a sinusoidally modulated image\n",
    "img = face()\n",
    "t = np.arange(100)\n",
    "time = np.sin(0.1*t)\n",
    "time"
   ]
  },
  {
   "cell_type": "code",
   "execution_count": 10,
   "metadata": {
    "collapsed": false
   },
   "outputs": [
    {
     "ename": "ValueError",
     "evalue": "operands could not be broadcast together with shapes (100,1,1) (1,768,1024,3) ",
     "output_type": "error",
     "traceback": [
      "\u001b[0;31m---------------------------------------------------------------------------\u001b[0m",
      "\u001b[0;31mValueError\u001b[0m                                Traceback (most recent call last)",
      "\u001b[0;32m<ipython-input-10-ffaaf53ea83f>\u001b[0m in \u001b[0;36m<module>\u001b[0;34m()\u001b[0m\n\u001b[0;32m----> 1\u001b[0;31m \u001b[0mreal\u001b[0m \u001b[0;34m=\u001b[0m \u001b[0mtime\u001b[0m\u001b[0;34m[\u001b[0m\u001b[0;34m:\u001b[0m\u001b[0;34m,\u001b[0m\u001b[0mnp\u001b[0m\u001b[0;34m.\u001b[0m\u001b[0mnewaxis\u001b[0m\u001b[0;34m,\u001b[0m\u001b[0mnp\u001b[0m\u001b[0;34m.\u001b[0m\u001b[0mnewaxis\u001b[0m\u001b[0;34m]\u001b[0m \u001b[0;34m*\u001b[0m \u001b[0mimg\u001b[0m\u001b[0;34m[\u001b[0m\u001b[0mnp\u001b[0m\u001b[0;34m.\u001b[0m\u001b[0mnewaxis\u001b[0m\u001b[0;34m,\u001b[0m\u001b[0;34m]\u001b[0m\u001b[0;34m\u001b[0m\u001b[0m\n\u001b[0m\u001b[1;32m      2\u001b[0m \u001b[0;34m\u001b[0m\u001b[0m\n",
      "\u001b[0;31mValueError\u001b[0m: operands could not be broadcast together with shapes (100,1,1) (1,768,1024,3) "
     ]
    }
   ],
   "source": [
    "real = time[:,np.newaxis,np.newaxis] * img[np.newaxis,]\n",
    "\n"
   ]
  },
  {
   "cell_type": "code",
   "execution_count": null,
   "metadata": {
    "collapsed": true
   },
   "outputs": [],
   "source": [
    "\n",
    "# we add some noise\n",
    "noisy = real + np.random.randn(*real.shape)*255\n",
    "\n",
    "# (observations, features) matrix\n",
    "M = noisy.reshape(noisy.shape[0],-1)\n",
    "\n",
    "# singular value decomposition factorises your data matrix such that:\n",
    "# \n",
    "#   M = U*S*V.T     (where '*' is matrix multiplication)\n",
    "# \n",
    "# * U and V are the singular matrices, containing orthogonal vectors of\n",
    "#   unit length in their rows and columns respectively.\n",
    "#\n",
    "# * S is a diagonal matrix containing the singular values of M - these \n",
    "#   values squared divided by the number of observations will give the \n",
    "#   variance explained by each PC.\n",
    "#\n",
    "# * if M is considered to be an (observations, features) matrix, the PCs\n",
    "#   themselves would correspond to the rows of S^(1/2)*V.T. if M is \n",
    "#   (features, observations) then the PCs would be the columns of\n",
    "#   U*S^(1/2).\n",
    "#\n",
    "# * since U and V both contain orthonormal vectors, U*V.T is equivalent \n",
    "#   to a whitened version of M.\n",
    "\n",
    "U, s, Vt = np.linalg.svd(M, full_matrices=False)\n",
    "V = Vt.T\n",
    "\n",
    "# PCs are already sorted by descending order \n",
    "# of the singular values (i.e. by the\n",
    "# proportion of total variance they explain)\n",
    "\n",
    "# if we use all of the PCs we can reconstruct the noisy signal perfectly\n",
    "S = np.diag(s)\n",
    "Mhat = np.dot(U, np.dot(S, V.T))\n",
    "print \"Using all PCs, MSE = %.6G\" %(np.mean((M - Mhat)**2))\n",
    "\n",
    "# if we use only the first 20 PCs the reconstruction is less accurate\n",
    "Mhat2 = np.dot(U[:, :20], np.dot(S[:20, :20], V[:,:20].T))\n",
    "print \"Using first 20 PCs, MSE = %.6G\" %(np.mean((M - Mhat2)**2))\n",
    "\n",
    "fig, [ax1, ax2, ax3] = plt.subplots(1, 3)\n",
    "ax1.imshow(img)\n",
    "ax1.set_title('true image')\n",
    "ax2.imshow(noisy.mean(0))\n",
    "ax2.set_title('mean of noisy images')\n",
    "ax3.imshow((s[0]**(1./2) * V[:,0]).reshape(img.shape))\n",
    "ax3.set_title('first spatial PC')\n",
    "plt.show()"
   ]
  }
 ],
 "metadata": {
  "kernelspec": {
   "display_name": "Python 3",
   "language": "python",
   "name": "python3"
  },
  "language_info": {
   "codemirror_mode": {
    "name": "ipython",
    "version": 3
   },
   "file_extension": ".py",
   "mimetype": "text/x-python",
   "name": "python",
   "nbconvert_exporter": "python",
   "pygments_lexer": "ipython3",
   "version": "3.6.0"
  }
 },
 "nbformat": 4,
 "nbformat_minor": 2
}
