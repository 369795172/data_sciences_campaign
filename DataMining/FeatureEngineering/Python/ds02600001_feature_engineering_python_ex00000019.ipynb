{
 "cells": [
  {
   "cell_type": "code",
   "execution_count": null,
   "metadata": {
    "collapsed": true
   },
   "outputs": [],
   "source": [
    "# encoding=utf8"
   ]
  },
  {
   "cell_type": "markdown",
   "metadata": {},
   "source": [
    "# 线性特征变换-主成份分析 PCA\n"
   ]
  },
  {
   "cell_type": "code",
   "execution_count": 2,
   "metadata": {
    "collapsed": true
   },
   "outputs": [],
   "source": [
    "\n",
    "# Code from Chapter 6 of Machine Learning: An Algorithmic Perspective (2nd Edition)\n",
    "# by Stephen Marsland (http://stephenmonika.net)\n",
    "\n",
    "# You are free to use, change, or redistribute the code in any way you wish for\n",
    "# non-commercial purposes, but please maintain the name of the original author.\n",
    "# This code comes with no warranty of any kind.\n",
    "\n",
    "# Stephen Marsland, 2008, 2014\n",
    "\n",
    "# An algorithm to compute PCA. Not as fast as the NumPy implementation\n",
    "import numpy as np\n",
    "\n",
    "def pca(data,nRedDim=0,normalise=1):\n",
    "    \n",
    "    # Centre data\n",
    "    m = np.mean(data,axis=0)\n",
    "    data -= m\n",
    "\n",
    "    # Covariance matrix\n",
    "    C = np.cov(np.transpose(data))\n",
    "\n",
    "    # Compute eigenvalues and sort into descending order\n",
    "    evals,evecs = np.linalg.eig(C) \n",
    "    indices = np.argsort(evals)\n",
    "    indices = indices[::-1]\n",
    "    evecs = evecs[:,indices]\n",
    "    evals = evals[indices]\n",
    "\n",
    "    if nRedDim>0:\n",
    "        evecs = evecs[:,:nRedDim]\n",
    "    \n",
    "    if normalise:\n",
    "        for i in range(np.shape(evecs)[1]):\n",
    "            evecs[:,i] / np.linalg.norm(evecs[:,i]) * np.sqrt(evals[i])\n",
    "\n",
    "    # Produce the new data matrix\n",
    "    x = np.dot(np.transpose(evecs),np.transpose(data))\n",
    "    # Compute the original data again\n",
    "    y=np.transpose(np.dot(evecs,x))+m\n",
    "    return x,y,evals,evecs\n",
    "    "
   ]
  },
  {
   "cell_type": "code",
   "execution_count": null,
   "metadata": {
    "collapsed": true
   },
   "outputs": [],
   "source": []
  },
  {
   "cell_type": "code",
   "execution_count": null,
   "metadata": {
    "collapsed": true
   },
   "outputs": [],
   "source": []
  }
 ],
 "metadata": {
  "kernelspec": {
   "display_name": "Python 3",
   "language": "python",
   "name": "python3"
  },
  "language_info": {
   "codemirror_mode": {
    "name": "ipython",
    "version": 3
   },
   "file_extension": ".py",
   "mimetype": "text/x-python",
   "name": "python",
   "nbconvert_exporter": "python",
   "pygments_lexer": "ipython3",
   "version": "3.6.0"
  }
 },
 "nbformat": 4,
 "nbformat_minor": 2
}
