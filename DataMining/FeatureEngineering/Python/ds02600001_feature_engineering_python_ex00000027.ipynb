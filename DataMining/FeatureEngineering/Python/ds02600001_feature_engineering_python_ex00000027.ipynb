{
 "cells": [
  {
   "cell_type": "code",
   "execution_count": 2,
   "metadata": {
    "collapsed": true
   },
   "outputs": [],
   "source": [
    "# encoding=utf8"
   ]
  },
  {
   "cell_type": "markdown",
   "metadata": {},
   "source": [
    "# 特征工程-线性特征变换-多维定标MDS\n"
   ]
  },
  {
   "cell_type": "code",
   "execution_count": 3,
   "metadata": {
    "collapsed": true
   },
   "outputs": [],
   "source": [
    "import numpy\n",
    "from sklearn import metrics,datasets,manifold\n",
    "from scipy import optimize\n",
    "from matplotlib import pyplot\n",
    "import pandas\n",
    "import collections\n",
    "\n"
   ]
  },
  {
   "cell_type": "code",
   "execution_count": 4,
   "metadata": {
    "collapsed": true
   },
   "outputs": [],
   "source": [
    "\n",
    "def generate_circle_data():\n",
    "    xx=numpy.zeros((1200,3))\n",
    "    x1=numpy.ones((400,))+0.5*numpy.random.rand(400)-0.5\n",
    "    r1=numpy.linspace(0,2*numpy.pi,20)\n",
    "    r2=numpy.linspace(0,numpy.pi,20)\n",
    "    r1,r2=numpy.meshgrid(r1,r2)\n",
    "    r1=r1.ravel()\n",
    "    r2=r2.ravel()\n",
    "    xx[0:400,0]=x1*numpy.sin(r1)*numpy.sin(r2)\n",
    "    xx[0:400,1]=x1*numpy.cos(r1)*numpy.sin(r2)\n",
    "    xx[0:400,2]=x1*numpy.cos(r2)\n",
    "    x1=3*numpy.ones((400,))+0.6*numpy.random.rand(400)-0.6\n",
    "    xx[400:800,0]=x1*numpy.sin(r1)*numpy.sin(r2)\n",
    "    xx[400:800,1]=x1*numpy.cos(r1)*numpy.sin(r2)\n",
    "    xx[400:800,2]=x1*numpy.cos(r2)\n",
    "    x1=6*numpy.ones((400,))+1.1*numpy.random.rand(400)-0.6\n",
    "    xx[800:1200,0]=x1*numpy.sin(r1)*numpy.sin(r2)\n",
    "    xx[800:1200,1]=x1*numpy.cos(r1)*numpy.sin(r2)\n",
    "    xx[800:1200,2]=x1*numpy.cos(r2)\n",
    "    target=numpy.zeros((1200,))\n",
    "    target[0:400]=0\n",
    "    target[400:800]=1\n",
    "    target[800:1200]=2\n",
    "    target=target.astype('int')\n",
    "    return xx,target\n"
   ]
  },
  {
   "cell_type": "code",
   "execution_count": 5,
   "metadata": {
    "collapsed": true
   },
   "outputs": [],
   "source": [
    "\n",
    "\n",
    "def get_data():\n",
    "    data=datasets.load_iris()\n",
    "    return data.data,data.target\n"
   ]
  },
  {
   "cell_type": "code",
   "execution_count": 6,
   "metadata": {
    "collapsed": true
   },
   "outputs": [],
   "source": [
    "\n",
    "def calculate_distance(x,y):\n",
    "    d=numpy.sqrt(numpy.sum((x-y)**2))\n",
    "    return d\n"
   ]
  },
  {
   "cell_type": "code",
   "execution_count": 7,
   "metadata": {
    "collapsed": true
   },
   "outputs": [],
   "source": [
    "\n",
    "def calculate_distance_matrix(x,y):\n",
    "    d=metrics.pairwise_distances(x,y)\n",
    "    return d\n",
    "\n"
   ]
  },
  {
   "cell_type": "code",
   "execution_count": 8,
   "metadata": {
    "collapsed": true
   },
   "outputs": [],
   "source": [
    "def cal_B(D):\n",
    "    (n1,n2)=D.shape\n",
    "    DD=numpy.square(D)\n",
    "    Di=numpy.sum(DD,axis=1)/n1\n",
    "    Dj=numpy.sum(DD,axis=0)/n1\n",
    "    Dij=numpy.sum(DD)/(n1**2)\n",
    "    B=numpy.zeros((n1,n1))\n",
    "    for i in xrange(n1):\n",
    "        for j in xrange(n2):\n",
    "            B[i,j]=(Dij+DD[i,j]-Di[i]-Dj[j])/(-2)\n",
    "    return B\n",
    "    \n"
   ]
  },
  {
   "cell_type": "code",
   "execution_count": 9,
   "metadata": {
    "collapsed": true
   },
   "outputs": [],
   "source": [
    "\n",
    "def MDS(data,n=2):\n",
    "    D=calculate_distance_matrix(data,data)\n",
    "    B=cal_B(D)\n",
    "    Be,Bv=numpy.linalg.eigh(B)\n",
    "    # print numpy.sum(B-numpy.dot(numpy.dot(Bv,numpy.diag(Be)),Bv.T))\n",
    "    Be_sort=numpy.argsort(-Be)\n",
    "    Be=Be[Be_sort]\n",
    "    Bv=Bv[:,Be_sort]\n",
    "    Bez=numpy.diag(Be[0:n])\n",
    "    # print Bez\n",
    "    Bvz=Bv[:,0:n]\n",
    "    Z=numpy.dot(numpy.sqrt(Bez),Bvz.T).T\n",
    "    return Z\n",
    "\n",
    "\n"
   ]
  },
  {
   "cell_type": "code",
   "execution_count": 10,
   "metadata": {
    "collapsed": true
   },
   "outputs": [],
   "source": [
    "def test_iris():\n",
    "    data,target=get_data()\n",
    "    Z=MDS(data)\n",
    "    \n",
    "    figure1=pyplot.figure()\n",
    "    pyplot.subplot(1,2,1)\n",
    "    pyplot.plot(Z[target==0,0],Z[target==0,1],'r*',markersize=20)\n",
    "    pyplot.plot(Z[target==1,0],Z[target==1,1],'bo',markersize=20)\n",
    "    pyplot.plot(Z[target==2,0],Z[target==2,1],'gx',markersize=20)\n",
    "    pyplot.title('CUSTOM')\n",
    "    pyplot.subplot(1,2,2)\n",
    "    Z1=manifold.MDS(n_components=2).fit_transform(data)\n",
    "    pyplot.plot(Z1[target==0,0],Z1[target==0,1],'r*',markersize=20)\n",
    "    pyplot.plot(Z1[target==1,0],Z1[target==1,1],'bo',markersize=20)\n",
    "    pyplot.plot(Z1[target==2,0],Z1[target==2,1],'gx',markersize=20)\n",
    "    pyplot.title('SKLEARN')\n",
    "    pyplot.show()\n",
    "\n"
   ]
  },
  {
   "cell_type": "code",
   "execution_count": 11,
   "metadata": {
    "collapsed": true
   },
   "outputs": [],
   "source": [
    "def test_ball():\n",
    "    data,target=generate_circle_data()\n",
    "    Z=MDS(data)\n",
    "    figure1=pyplot.figure()\n",
    "    pyplot.subplot(1,2,1)\n",
    "    pyplot.plot(Z[target==0,0],Z[target==0,1],'r*',markersize=10)\n",
    "    pyplot.plot(Z[target==1,0],Z[target==1,1],'bo',markersize=10)\n",
    "    pyplot.plot(Z[target==2,0],Z[target==2,1],'gx',markersize=10)\n",
    "    pyplot.title('CUSTOM')\n",
    "    pyplot.subplot(1,2,2)\n",
    "    Z1=manifold.MDS(n_components=2).fit_transform(data)\n",
    "    pyplot.plot(Z1[target==0,0],Z1[target==0,1],'r*',markersize=10)\n",
    "    pyplot.plot(Z1[target==1,0],Z1[target==1,1],'bo',markersize=10)\n",
    "    pyplot.plot(Z1[target==2,0],Z1[target==2,1],'gx',markersize=10)\n",
    "    pyplot.title('SKLEARN')\n",
    "    pyplot.show()\n",
    "\n"
   ]
  },
  {
   "cell_type": "code",
   "execution_count": null,
   "metadata": {
    "collapsed": true
   },
   "outputs": [],
   "source": [
    "if __name__=='__main__':\n",
    "    # test_ball()\n",
    "    test_iris()\n",
    "\n"
   ]
  }
 ],
 "metadata": {
  "kernelspec": {
   "display_name": "Python 3",
   "language": "python",
   "name": "python3"
  },
  "language_info": {
   "codemirror_mode": {
    "name": "ipython",
    "version": 3
   },
   "file_extension": ".py",
   "mimetype": "text/x-python",
   "name": "python",
   "nbconvert_exporter": "python",
   "pygments_lexer": "ipython3",
   "version": "3.6.0"
  }
 },
 "nbformat": 4,
 "nbformat_minor": 2
}
