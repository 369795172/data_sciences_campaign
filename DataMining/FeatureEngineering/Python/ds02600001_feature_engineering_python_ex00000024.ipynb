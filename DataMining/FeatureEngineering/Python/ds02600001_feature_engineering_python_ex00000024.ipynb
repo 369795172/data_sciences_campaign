{
 "cells": [
  {
   "cell_type": "code",
   "execution_count": null,
   "metadata": {
    "collapsed": true
   },
   "outputs": [],
   "source": [
    "# encoding=utf8"
   ]
  },
  {
   "cell_type": "markdown",
   "metadata": {},
   "source": [
    "# 特征工程-线性特征变换-因子分析FA\n"
   ]
  },
  {
   "cell_type": "code",
   "execution_count": 1,
   "metadata": {
    "collapsed": true
   },
   "outputs": [],
   "source": [
    "# Code from Chapter 6 of Machine Learning: An Algorithmic Perspective (2nd Edition)\n",
    "# by Stephen Marsland (http://stephenmonika.net)\n",
    "\n",
    "# You are free to use, change, or redistribute the code in any way you wish for\n",
    "# non-commercial purposes, but please maintain the name of the original author.\n",
    "# This code comes with no warranty of any kind.\n",
    "\n",
    "# Stephen Marsland, 2008, 2014\n",
    "\n",
    "# The Factor Analysis algorithm\n",
    "import pylab as pl\n",
    "import numpy as np\n",
    "\n",
    "\n"
   ]
  },
  {
   "cell_type": "code",
   "execution_count": 4,
   "metadata": {
    "collapsed": false
   },
   "outputs": [],
   "source": [
    "def factoranalysis(y,nRedDim):\n",
    "    Ndata = np.shape(y)[0]\n",
    "    N = np.shape(y)[1]\n",
    " \n",
    "    y = y-y.mean(axis=0)\n",
    "    C = np.cov(np.transpose(y))    \n",
    "    Cd = C.diagonal()\n",
    "    Psi = Cd\n",
    "    scaling = np.linalg.det(C)**(1./N)\n",
    "    \n",
    "    W = np.random.normal(0,np.sqrt(scaling/nRedDim),(N,nRedDim))\n",
    "\n",
    "    nits = 1000\n",
    "    oldL = -np.inf\n",
    "\n",
    "    for i in range(nits):    \n",
    "    \n",
    "        # E-step\n",
    "        A = np.dot(W,np.transpose(W)) + np.diag(Psi)\n",
    "        logA = np.log(np.abs(np.linalg.det(A)))\n",
    "        A = np.linalg.inv(A)\n",
    "        \n",
    "        WA = np.dot(np.transpose(W),A)\n",
    "        WAC = np.dot(WA,C)\n",
    "        Exx = np.eye(nRedDim) - np.dot(WA,W) + np.dot(WAC,np.transpose(WA)) \n",
    "\n",
    "        # M-step\n",
    "        W = np.dot(np.transpose(WAC),np.linalg.inv(Exx))\n",
    "        Psi = Cd - (np.dot(W,WAC)).diagonal()\n",
    "        #Sigma1 = (dot(transpose(y),y) - dot(W,WAC)).diagonal()/Ndata\n",
    "\n",
    "        tAC = (A*np.transpose(C)).sum()\n",
    "        \n",
    "        L = -N/2*np.log(2.*np.pi) -0.5*logA - 0.5*tAC\n",
    "        if (L-oldL)<(1e-4):\n",
    "            print (\"Stop\",i)\n",
    "            break\n",
    "        print (L)\n",
    "        oldL = L\n",
    "    A = np.linalg.inv(np.dot(W,np.transpose(W))+np.diag(Psi))\n",
    "    Ex = np.dot(np.transpose(A),W)\n",
    "    \n",
    "    return np.dot(y,Ex)\n",
    "\n"
   ]
  },
  {
   "cell_type": "code",
   "execution_count": 5,
   "metadata": {
    "collapsed": false
   },
   "outputs": [
    {
     "name": "stdout",
     "output_type": "stream",
     "text": [
      "0.681375791109\n",
      "0.913457140837\n",
      "1.03832115735\n",
      "1.14183604621\n",
      "1.21067357151\n",
      "1.24778920779\n",
      "1.26503762707\n",
      "1.27260978695\n",
      "1.27607203201\n",
      "1.27782634852\n",
      "1.27881578431\n",
      "1.27941829953\n",
      "1.27980199318\n",
      "1.28005229784\n",
      "1.28021773936\n",
      "1.28032792597\n",
      "Stop 16\n"
     ]
    },
    {
     "data": {
      "image/png": "[encoded data removed]",
      "text/plain": [
       "<matplotlib.figure.Figure at 0x117c79f28>"
      ]
     },
     "metadata": {},
     "output_type": "display_data"
    }
   ],
   "source": [
    "data = np.array([[0.1,0.1],[0.2,0.2],[0.3,0.3],[0.35,0.3],[0.4,0.4],[0.6,0.4],[0.7,0.45],[0.75,0.4],[0.8,0.35]])\n",
    "newData = factoranalysis(data,2)\n",
    "pl.plot(newData[:,0],newData[:,1],'.')\n",
    "pl.show()"
   ]
  },
  {
   "cell_type": "code",
   "execution_count": null,
   "metadata": {
    "collapsed": true
   },
   "outputs": [],
   "source": []
  }
 ],
 "metadata": {
  "kernelspec": {
   "display_name": "Python 3",
   "language": "python",
   "name": "python3"
  },
  "language_info": {
   "codemirror_mode": {
    "name": "ipython",
    "version": 3
   },
   "file_extension": ".py",
   "mimetype": "text/x-python",
   "name": "python",
   "nbconvert_exporter": "python",
   "pygments_lexer": "ipython3",
   "version": "3.6.0"
  }
 },
 "nbformat": 4,
 "nbformat_minor": 2
}
