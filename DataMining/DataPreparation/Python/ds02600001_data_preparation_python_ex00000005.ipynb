{
 "cells": [
  {
   "cell_type": "code",
   "execution_count": null,
   "metadata": {
    "collapsed": true
   },
   "outputs": [],
   "source": [
    "# encoding=utf8"
   ]
  },
  {
   "cell_type": "markdown",
   "metadata": {},
   "source": [
    "## Task 1: Identify one or more suitable web APIs"
   ]
  },
  {
   "cell_type": "markdown",
   "metadata": {},
   "source": [
    "+ World Bank API are selected for current analysis:\n",
    "+ https://datahelpdesk.worldbank.org/knowledgebase/articles/889392-api-documentation"
   ]
  },
  {
   "cell_type": "markdown",
   "metadata": {},
   "source": [
    "## Task 2: Collect data from chosen API(s)"
   ]
  },
  {
   "cell_type": "code",
   "execution_count": 2,
   "metadata": {
    "collapsed": false
   },
   "outputs": [],
   "source": [
    "import json\n",
    "import pandas as pd\n",
    "import urllib.request\n",
    "\n",
    "country_codes=['IN','US','CN','IE','CA','JP','KE'] # India, USA, China, Ireland, Canada, Japan, Kenya\n",
    "wdUrl='http://api.worldbank.org/'  # url to select the \n",
    "period = '1960:2013' # selected years are from 1960 to 2013. For recent years like 2016 data is not present\n",
    "# the world bank contains data for various countries like GDP, Population and other key features for different countries\n",
    "feature_codes=['AG.LND.ARBL.ZS','AG.LND.FRST.ZS','EG.USE.ELEC.KH.PC','NY.GDP.MKTP.CD',\n",
    "            'SL.UEM.TOTL.ZS', 'AG.PRD.CREL.MT','SP.DYN.TFRT.IN',\n",
    "            'SP.POP.TOTL','MS.MIL.XPND.GD.ZS']  # these are indicaters used to form query\n",
    "\n",
    "\n",
    "def loadData(cCode):   #function used to load data for a given country in \n",
    "    dataList=[]\n",
    "    for fcode in feature_codes:    # do this for all the indicaters or features\n",
    "        url=wdUrl+'countries/'+cCode+'/indicators/'+fcode+'?per_page=100&date='+period+'&format=json' # form the url for a feature\n",
    "        wbData=urllib.request.urlopen(url)  #request the data through url\n",
    "        jsonData = wbData.read().decode('utf-8')  # read the data in the utf-8 format\n",
    "        data=json.loads(jsonData)   # load json object and form a python data structure\n",
    "        dataList.append(data)       # collect data for all the features\n",
    "        wbData.close()\n",
    "    return dataList"
   ]
  },
  {
   "cell_type": "markdown",
   "metadata": {},
   "source": [
    "## Task 3: Parse the collected data, and store it in an appropriate file format"
   ]
  },
  {
   "cell_type": "code",
   "execution_count": null,
   "metadata": {
    "collapsed": false
   },
   "outputs": [],
   "source": [
    "header=\"\"\n",
    "def writeData(cCode):    #method to write data for a country with features\n",
    "    toWritecsv= open(cCode+\".csv\",'w')  #open file in write mode\n",
    "    headers=[]   # create header for columns\n",
    "    headers.append('Year,')\n",
    "    headers.append('Arable Land(hect),') #Arable land (in hectares) includes land defined by the FAO as land under temporary crops (double-cropped areas are counted once)\n",
    "    headers.append('Forest area(sq km),') # Forest area is land under natural or planted stands of trees of at least 5 meters in situ, whether productive or not\n",
    "    headers.append('Electric power consumption(kWh per capita),') #Electric power consumption measures the production of power plants and combined heat and power plants less transmission, distribution\n",
    "    headers.append('GDP in USD,') #GDP at purchaser's prices is the sum of gross value added by all resident producers in the economy plus any product taxes and minus any subsidies not included in the value of the products.\n",
    "    headers.append('Unemployment(% of total labor force),') #Unemployment refers to the share of the labor force that is without work but available for and seeking employment.\n",
    "    headers.append('Cereal production (metric tons),') #Production data on cereals relate to crops harvested for dry grain only. Cereal crops harvested for hay or harvested green for food, feed, or silage and those used for grazing are excluded.\n",
    "    headers.append('Fertility rate,')  #Total fertility rate represents the number of children that would be born to a woman if she were to live to the end of her childbearing years and bear children in accordance with age-specific fertility rates of the specified year.\n",
    "    headers.append('Population,') #Total population is based on the de facto definition of population, which counts all residents regardless of legal status or citizenship. The values shown are midyear estimates.\n",
    "    headers.append('Military expenditure(% of GDP)') #Military expenditures data from SIPRI are derived from the NATO definition, which includes all current and capital expenditures on the armed forces, including peacekeeping forces\n",
    "    headers.append('\\n')\n",
    "\n",
    "    header=\"\".join(headers)   \n",
    "    toWritecsv.write(header)\n",
    "    year=0\n",
    "    dataList=loadData(cCode)    \n",
    "    for data in dataList[0][1]:\n",
    "        toWritecsv.write(data['date'])          # write year column\n",
    "        toWritecsv.write(\",\"+ifNaN(data['value']))  # write all 1 to 9 features\n",
    "        for feature in range(1,9):\n",
    "            toWritecsv.write(\",\"+ifNaN(dataList[feature][1][year]['value']))\n",
    "        toWritecsv.write('\\n')\n",
    "        year=year+1 \n",
    "    toWritecsv.close()\n",
    "\n",
    "def ifNaN(arg):  # check if NaN is present then return empty string\n",
    "    if(arg is None):\n",
    "        return ''\n",
    "    else:\n",
    "        return arg\n",
    "    \n",
    "writeData('IN')   # write files for each seven countries\n",
    "writeData('US')  \n",
    "writeData('CN')  \n",
    "writeData('IE') \n",
    "writeData('CA') \n",
    "writeData('JP')    \n",
    "writeData('KE')"
   ]
  },
  {
   "cell_type": "markdown",
   "metadata": {},
   "source": [
    "## Task 4: Load and represent the data using an appropriate data structure. Apply any pre-processing steps to clean/filter/combine the data"
   ]
  },
  {
   "cell_type": "code",
   "execution_count": null,
   "metadata": {
    "collapsed": false
   },
   "outputs": [],
   "source": [
    "\n",
    "dataIndia = pd.read_csv('IN.csv')  # populate data from the csv files\n",
    "dataUSA = pd.read_csv('US.csv')\n",
    "dataChina = pd.read_csv('CN.csv')\n",
    "dataIreland = pd.read_csv('IE.csv')\n",
    "dataCanada = pd.read_csv('CA.csv')\n",
    "dataJapan = pd.read_csv('JP.csv')\n",
    "dataKenya = pd.read_csv('KE.csv')\n",
    "\n",
    "# Handling missing data. Replace missing values by the mean of the column\n",
    "headers=['Arable Land(hect)','Forest area(sq km)','Electric power consumption(kWh per capita)','GDP in USD','Unemployment(% of total labor force)','Cereal production (metric tons)','Fertility rate','Population','Military expenditure(% of GDP)']\n",
    "for column in headers:\n",
    "    dataIndia[column]=dataIndia[column].fillna(dataIndia[column].mean())\n",
    "    dataUSA[column]=dataUSA[column].fillna(dataUSA[column].mean())\n",
    "    dataChina[column]=dataChina[column].fillna(dataChina[column].mean())\n",
    "    dataIreland[column]=dataIreland[column].fillna(dataIreland[column].mean())\n",
    "    dataCanada[column]=dataCanada[column].fillna(dataCanada[column].mean())\n",
    "    dataJapan[column]=dataJapan[column].fillna(dataJapan[column].mean())\n",
    "    dataKenya[column]=dataKenya[column].fillna(dataKenya[column].mean())\n"
   ]
  },
  {
   "cell_type": "markdown",
   "metadata": {},
   "source": [
    "## Task 5: Analyse and summarise the cleaned dataset"
   ]
  },
  {
   "cell_type": "code",
   "execution_count": null,
   "metadata": {
    "collapsed": false
   },
   "outputs": [],
   "source": [
    "tempdataIndia=dataIndia.drop('Year',1)  #remove year column from summary statistics\n",
    "tempdataIndia.describe()  #summaries the data for country India\n"
   ]
  },
  {
   "cell_type": "code",
   "execution_count": null,
   "metadata": {
    "collapsed": false,
    "scrolled": true
   },
   "outputs": [],
   "source": [
    "import matplotlib\n",
    "import matplotlib.pyplot as plt\n",
    "import matplotlib.patches as mpatches\n",
    "%matplotlib inline\n",
    "\n",
    "# data visualization\n",
    "plt.figure()\n",
    "plt.title(\"Yearly Arable Land and Forest area in India since July 1960\\n\")\n",
    "plt.stackplot(dataIndia.iloc[:,0],\n",
    "          [dataIndia.iloc[:,1], dataIndia.iloc[:,2]], \n",
    "          colors=['#377EB8','#55BA87'])\n",
    "\n",
    "plt.legend([mpatches.Patch(color='#377EB8'),  \n",
    "            mpatches.Patch(color='#55BA87'),], \n",
    "           ['Arable Land (hect)','Forest area (sq km)'])\n",
    "plt.show()"
   ]
  },
  {
   "cell_type": "markdown",
   "metadata": {},
   "source": [
    "For country India, the Arable or productive land is twice as more as the land acquired by the forests in the country."
   ]
  },
  {
   "cell_type": "code",
   "execution_count": null,
   "metadata": {
    "collapsed": false
   },
   "outputs": [],
   "source": [
    "plt.title(\"Yearly Military expenditure and GDP in USA since July 1960\\n\")\n",
    "plt.stackplot(dataUSA.iloc[:,0],\n",
    "          [dataUSA.iloc[:,9], dataUSA.iloc[:,5]], \n",
    "          colors=['#3771B8','#45BA87'])\n",
    "\n",
    "plt.legend([mpatches.Patch(color='#3771B8'),  \n",
    "            mpatches.Patch(color='#45BA87'),], \n",
    "           ['Military expenditure (% of GDP)','GDP'])\n",
    "plt.show()"
   ]
  },
  {
   "cell_type": "markdown",
   "metadata": {},
   "source": [
    "US is spending a major chunk of its GDP in Military affairs. It is about 70%."
   ]
  },
  {
   "cell_type": "code",
   "execution_count": null,
   "metadata": {
    "collapsed": false
   },
   "outputs": [],
   "source": [
    "#plot the graph showing the variation of Unemployment rate for the various countries\n",
    "plt.plot(dataIndia['Year'],dataIndia['Unemployment(% of total labor force)'],'.-')\n",
    "plt.plot(dataUSA['Year'],dataUSA['Unemployment(% of total labor force)'],'.-')\n",
    "plt.plot(dataChina['Year'],dataChina['Unemployment(% of total labor force)'],'.-')\n",
    "plt.plot(dataIreland['Year'],dataIreland['Unemployment(% of total labor force)'],'.-')\n",
    "plt.plot(dataJapan['Year'],dataJapan['Unemployment(% of total labor force)'],'.-')\n",
    "plt.plot(dataCanada['Year'],dataCanada['Unemployment(% of total labor force)'],'.-')\n",
    "plt.plot(dataKenya['Year'],dataKenya['Unemployment(% of total labor force)'],'.-')\n",
    "plt.legend(['India', 'USA','China','Ireland','Japan','Canada','Kenya'], loc='best')\n",
    "plt.title(\"Unemployment aross all major countries since 1960\\n\")\n",
    "plt.xlabel('Year')\n",
    "plt.ylabel('Unemployment rate')\n",
    "plt.show()\n"
   ]
  },
  {
   "cell_type": "markdown",
   "metadata": {},
   "source": [
    "The graph shows that for countries like Ireland, Canada and USA has peak unemployment rate during 2000's and then later dropped in 2010's."
   ]
  },
  {
   "cell_type": "code",
   "execution_count": null,
   "metadata": {
    "collapsed": false
   },
   "outputs": [],
   "source": [
    "#plot the graph showing the variation of GDP for the various countries\n",
    "plt.plot(dataIndia['Year'],dataIndia['GDP in USD'],'.-')\n",
    "plt.plot(dataUSA['Year'],dataUSA['GDP in USD'],'.-')\n",
    "plt.plot(dataChina['Year'],dataChina['GDP in USD'],'.-')\n",
    "plt.plot(dataIreland['Year'],dataIreland['GDP in USD'],'.-')\n",
    "plt.plot(dataJapan['Year'],dataJapan['GDP in USD'],'.-')\n",
    "plt.plot(dataCanada['Year'],dataCanada['GDP in USD'],'.-')\n",
    "plt.plot(dataKenya['Year'],dataKenya['GDP in USD'],'.-')\n",
    "plt.legend(['India', 'USA','China','Ireland','Japan','Canada','Kenya'], loc='best')\n",
    "plt.title(\"GDP aross all major countries since 1960\\n\")\n",
    "plt.xlabel('Year')\n",
    "plt.ylabel('GDP in USD')\n",
    "plt.show()"
   ]
  },
  {
   "cell_type": "markdown",
   "metadata": {},
   "source": [
    "US the superpower has the highest GDP. GDP of China increased in the 2010 dramatically."
   ]
  },
  {
   "cell_type": "code",
   "execution_count": null,
   "metadata": {
    "collapsed": false
   },
   "outputs": [],
   "source": [
    "plt.scatter(dataCanada.iloc[:,8],dataCanada.iloc[:,7])\n",
    "plt.title(\"Fertility rate against population of Canada since 1960\\n\")\n",
    "plt.xlabel('Population')\n",
    "plt.ylabel('Fertility rate')\n",
    "plt.show() "
   ]
  },
  {
   "cell_type": "markdown",
   "metadata": {},
   "source": [
    "Fertility rate has dropped with increasing population over the years in Canada. This may be due to woman prefering less babies in modern times."
   ]
  },
  {
   "cell_type": "code",
   "execution_count": null,
   "metadata": {
    "collapsed": false
   },
   "outputs": [],
   "source": [
    "df = pd.concat([dataCanada.iloc[:,3], dataCanada.iloc[:,8]], axis=1)\n",
    "df.columns = ['Electric power consumption','Population']\n",
    "from pandas.tools.plotting import scatter_matrix\n",
    "scatter_matrix(df, alpha=0.2, figsize=(6, 6), diagonal='kde')\n",
    "plt.suptitle(\"Electric power consumption against population of Canada since 1960\\n\")\n",
    "plt.show()"
   ]
  },
  {
   "cell_type": "markdown",
   "metadata": {},
   "source": [
    "The power consumption has increased with the population over the years in Canada."
   ]
  },
  {
   "cell_type": "code",
   "execution_count": null,
   "metadata": {
    "collapsed": false
   },
   "outputs": [],
   "source": [
    "\n",
    "fig, ax1 = plt.subplots()\n",
    "ax1.plot(dataKenya.iloc[:,1], dataKenya.iloc[:,2], 'b-')\n",
    "ax1.set_xlabel('Year')\n",
    "ax1.set_ylabel('Arable Land', color='b')\n",
    "ax1.tick_params('y', colors='b')\n",
    "\n",
    "ax2 = ax1.twinx()\n",
    "ax2.plot(dataKenya.iloc[:,1], dataKenya.iloc[:,7], 'r-')\n",
    "ax2.set_ylabel('Cereal production', color='r')\n",
    "ax2.tick_params('y', colors='r')\n",
    "\n",
    "fig.tight_layout()\n",
    "plt.title(\"Cereal Production against Arable Land of Kenya since 1960\\n\")\n",
    "plt.show()"
   ]
  },
  {
   "cell_type": "markdown",
   "metadata": {},
   "source": [
    "The features Arable land and cereal production are highly correlated. Both of them increased over the years in Kenya. \n",
    "The more productive is the land, more will be the production of cereals.\n"
   ]
  },
  {
   "cell_type": "code",
   "execution_count": null,
   "metadata": {
    "collapsed": false
   },
   "outputs": [],
   "source": [
    "\n",
    "plt.scatter(dataChina['GDP in USD'],dataChina['Fertility rate'] )\n",
    "plt.title('GDP against fertility rate in China')\n",
    "plt.xlabel('GDP in USD')\n",
    "plt.ylabel('Fertility rate')\n",
    "plt.show()"
   ]
  }
 ],
 "metadata": {
  "kernelspec": {
   "display_name": "Python 3",
   "language": "python",
   "name": "python3"
  },
  "language_info": {
   "codemirror_mode": {
    "name": "ipython",
    "version": 3
   },
   "file_extension": ".py",
   "mimetype": "text/x-python",
   "name": "python",
   "nbconvert_exporter": "python",
   "pygments_lexer": "ipython3",
   "version": "3.6.0"
  }
 },
 "nbformat": 4,
 "nbformat_minor": 0
}
