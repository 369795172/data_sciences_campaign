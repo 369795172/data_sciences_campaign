{
 "cells": [
  {
   "cell_type": "code",
   "execution_count": null,
   "metadata": {
    "collapsed": true
   },
   "outputs": [],
   "source": [
    "# encoding=utf8"
   ]
  },
  {
   "cell_type": "markdown",
   "metadata": {},
   "source": [
    "# Manifold Learning – Isomap \n"
   ]
  },
  {
   "cell_type": "code",
   "execution_count": null,
   "metadata": {
    "collapsed": true
   },
   "outputs": [],
   "source": [
    "# Code from Chapter 6 of Machine Learning: An Algorithmic Perspective (2nd Edition)\n",
    "# by Stephen Marsland (http://stephenmonika.net)\n",
    "\n",
    "# You are free to use, change, or redistribute the code in any way you wish for\n",
    "# non-commercial purposes, but please maintain the name of the original author.\n",
    "# This code comes with no warranty of any kind.\n",
    "\n",
    "# Stephen Marsland, 2008, 2014\n",
    "\n",
    "# The Isomap algorithm\n",
    "\n"
   ]
  },
  {
   "cell_type": "code",
   "execution_count": 5,
   "metadata": {
    "collapsed": true
   },
   "outputs": [],
   "source": [
    "import pylab as pl\n",
    "import numpy as np\n",
    "\n",
    "\n"
   ]
  },
  {
   "cell_type": "code",
   "execution_count": 6,
   "metadata": {
    "collapsed": false
   },
   "outputs": [],
   "source": [
    "\n",
    "def swissroll():\n",
    "\t# Make the swiss roll dataset\n",
    "\tN = 1000\n",
    "\tnoise = 0.05\n",
    "\n",
    "\tt = 3.*np.pi/2 * (1. + 2.*np.random.rand(1,N))\n",
    "\th = 21. * np.random.rand(1,N)\n",
    "\tdata = np.concatenate((t*np.cos(t),h,t*np.sin(t))) + noise*np.random.randn(3,N)\t\n",
    "\treturn np.transpose(data), np.squeeze(t)\n",
    "\n"
   ]
  },
  {
   "cell_type": "code",
   "execution_count": 8,
   "metadata": {
    "collapsed": false
   },
   "outputs": [],
   "source": [
    "def isomap(data,newdim=2,K=12,labels=None):\n",
    "\n",
    "\tndata = np.shape(data)[0]\n",
    "\tndim = np.shape(data)[1]\n",
    "\td = np.zeros((ndata,ndata),dtype=float)\n",
    "\t\n",
    "\t# Compute the distance matrix\n",
    "\t# Inefficient -- not matrices\n",
    "\tfor i in range(ndata):\n",
    "\t\tfor j in range(i+1,ndata):\n",
    "\t\t\tfor k in range(ndim):\n",
    "\t\t\t\td[i,j] += (data[i,k] - data[j,k])**2\n",
    "\t\t\td[i,j] = np.sqrt(d[i,j])\n",
    "\t\t\td[j,i] = d[i,j]\n",
    "\n",
    "\t# K-nearest neighbours\n",
    "\tindices = d.argsort()\n",
    "\t#notneighbours = indices[:,K+1:]\n",
    "\tneighbours = indices[:,:K+1]\n",
    "\t# Alternative: epsilon\n",
    "\t# epsilon = 0.1\n",
    "\t#neighbours = where(d<=epsilon)\n",
    "\t#notneighbours = where(d>epsilon)\n",
    "\n",
    "\th = np.ones((ndata,ndata),dtype=float)*np.inf\n",
    "\tfor i in range(ndata):\n",
    "\t\th[i,neighbours[i,:]] = d[i,neighbours[i,:]]\n",
    "\n",
    "\t# Compute the full distance matrix over all paths\n",
    "\tprint (\"Floyd's algorithm\")\n",
    "\tfor k in range(ndata):\n",
    "\t\tfor i in range(ndata):\n",
    "\t\t\tfor j in range(ndata):\n",
    "\t\t\t\tif h[i,j] > h[i,k] + h[k,j]:\n",
    "\t\t\t\t\th[i,j] = h[i,k] + h[k,j]\n",
    "\n",
    "#\tprint \"Dijkstra's algorithm\"\n",
    "#\tq = h.copy()\n",
    "#\tfor i in range(ndata):\n",
    "#\t\tfor j in range(ndata):\n",
    "#\t\t\tk = np.argmin(q[i,:])\n",
    "#\t\t\twhile not(np.isinf(q[i,k])):\n",
    "#\t\t\t\tq[i,k] = np.inf\n",
    "#\t\t\t\tfor l in neighbours[k,:]:\n",
    "#\t\t\t\t\tpossible = h[i,l] + h[l,k]\n",
    "#\t\t\t\t\tif possible < h[i,k]:\n",
    "#\t\t\t\t\t\th[i,k] = possible\n",
    "#\t\t\t\tk = np.argmin(q[i,:])\n",
    "#\tprint \"Comnlete\"\n",
    "\n",
    "\t# remove lines full of infs \n",
    "\tx = np.isinf(h[:,0]).nonzero()\n",
    "\tif np.size(x)>0:\t\n",
    "\t\tprint (x)\n",
    "\t\tif x[0][0]>0:\n",
    "\t\t\tnew = h[0:x[0][0],:]\n",
    "\t\t\tnewlabels = labels[0:x[0][0]]\n",
    "\t\t\tstart = 1\n",
    "\t\telse:\n",
    "\t\t\tnew = h[x[0][0]+1,:]\n",
    "\t\t\tnewlabels = labels[x[0][0]+1]\n",
    "\t\t\tstart = 2\n",
    "\t\tfor i in range(start,size(x)):\n",
    "\t\t\tnew = np.concatenate((new,h[x[0][i-1]+1:x[0][i],:]),axis=0)\n",
    "\t\t\tnewlabels = np.concatenate((newlabels,labels[x[0][i-1]+1:x[0][i]]),axis=0)\n",
    "\t\tnew = np.concatenate((new,h[x[0][i]+1:,:]),axis=0)\n",
    "\t\tnewlabels = np.concatenate((newlabels,labels[x[0][i]+1:]),axis=0)\n",
    "\n",
    "\t\tnew2 = new[:,0:x[0][0]]\n",
    "\t\tif x[0][0]>0:\n",
    "\t\t\tnew2 = new[:,0:x[0][0]]\n",
    "\t\t\tstart = 1\n",
    "\t\telse:\n",
    "\t\t\tnew2 = new[:,x[0][0]+1]\n",
    "\t\t\tstart = 2\n",
    "\t\tfor i in range(start,size(x)):\n",
    "\t\t\tnew2 = np.concatenate((new2,new[:,x[0][i-1]+1:x[0][i]]),axis=1)\n",
    "\t\tnew2 = np.concatenate((new2,new[:,x[0][i]+1:]),axis=1)\n",
    "\n",
    "\t\tg = new2.copy()\n",
    "\t\tndata = ndata - size(x)\n",
    "\telse:\n",
    "\t\tg = h.copy()\n",
    "\t\tnewlabels = labels\n",
    "\t\n",
    "\t# Map computations, following by the dimensionality reduction\n",
    "\tM = -0.5*(g**2 - np.transpose(np.sum(g*g,axis=0) * np.ones((ndata,1))/ndata) - np.ones((ndata,1))* np.sum(g*g,axis=0)/ndata + np.sum(np.sum(g*g))/ndata**2)\n",
    "\n",
    "\teval,evec = np.linalg.eig(M)\n",
    "\teval = np.real(eval)\n",
    "\tind = np.argsort(eval)\n",
    "\teval = np.real(np.diag(eval[ind[-1::-1]]))\n",
    "\tevec = evec[:,ind[-1::-1]]\n",
    "\ty = np.real(np.dot(evec,np.transpose((np.sqrt(eval)))))\n",
    "\tprint (np.shape(y))\n",
    "\tprint (np.shape(eval), np.shape(evec))\n",
    "\treturn y, newlabels\n"
   ]
  },
  {
   "cell_type": "code",
   "execution_count": null,
   "metadata": {
    "collapsed": false
   },
   "outputs": [
    {
     "name": "stdout",
     "output_type": "stream",
     "text": [
      "Floyd's algorithm\n"
     ]
    }
   ],
   "source": [
    "\n",
    "data,t = swissroll()\n",
    "y,u = isomap(data)\n",
    "\n",
    "t -= t.min()\n",
    "t /= t.max()\n",
    "#pl.scatter(y[:,0],y[:,1],c=t,cmap=pl.cm.jet)\n",
    "pl.scatter(y[:,1],y[:,2],s=50,c=t,cmap=pl.cm.gray)\n",
    "#pl.scatter(data[:,0],data[:,1],s=50,c=t,cmap=pl.cm.gray)\n",
    " \n",
    "pl.show()"
   ]
  },
  {
   "cell_type": "code",
   "execution_count": null,
   "metadata": {
    "collapsed": true
   },
   "outputs": [],
   "source": []
  }
 ],
 "metadata": {
  "kernelspec": {
   "display_name": "Python 3",
   "language": "python",
   "name": "python3"
  },
  "language_info": {
   "codemirror_mode": {
    "name": "ipython",
    "version": 3
   },
   "file_extension": ".py",
   "mimetype": "text/x-python",
   "name": "python",
   "nbconvert_exporter": "python",
   "pygments_lexer": "ipython3",
   "version": "3.6.0"
  }
 },
 "nbformat": 4,
 "nbformat_minor": 2
}
