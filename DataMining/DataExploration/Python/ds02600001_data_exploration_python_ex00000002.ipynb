{
 "cells": [
  {
   "cell_type": "code",
   "execution_count": 1,
   "metadata": {
    "collapsed": true
   },
   "outputs": [],
   "source": [
    "# encoding=utf8"
   ]
  },
  {
   "cell_type": "markdown",
   "metadata": {},
   "source": [
    "# Correlation Analysis"
   ]
  },
  {
   "cell_type": "markdown",
   "metadata": {},
   "source": [
    "\n",
    "+ Samples for the section \"Correlation Analysis\" Data Exploration\n",
    "\n",
    "Note: \n",
    "    missingno, Missing data visualization module for Python"
   ]
  },
  {
   "cell_type": "code",
   "execution_count": 4,
   "metadata": {
    "collapsed": false
   },
   "outputs": [
    {
     "name": "stdout",
     "output_type": "stream",
     "text": [
      "Collecting missingno\n",
      "  Downloading missingno-0.4.0.tar.gz\n",
      "Requirement already satisfied: numpy in /Users/bater.makhabel/anaconda3/lib/python3.6/site-packages (from missingno)\n",
      "Requirement already satisfied: matplotlib in /Users/bater.makhabel/anaconda3/lib/python3.6/site-packages (from missingno)\n",
      "Requirement already satisfied: scipy in /Users/bater.makhabel/anaconda3/lib/python3.6/site-packages (from missingno)\n",
      "Requirement already satisfied: seaborn in /Users/bater.makhabel/anaconda3/lib/python3.6/site-packages (from missingno)\n",
      "Requirement already satisfied: six>=1.10 in /Users/bater.makhabel/anaconda3/lib/python3.6/site-packages (from matplotlib->missingno)\n",
      "Requirement already satisfied: python-dateutil in /Users/bater.makhabel/anaconda3/lib/python3.6/site-packages (from matplotlib->missingno)\n",
      "Requirement already satisfied: pytz in /Users/bater.makhabel/anaconda3/lib/python3.6/site-packages (from matplotlib->missingno)\n",
      "Requirement already satisfied: cycler>=0.10 in /Users/bater.makhabel/anaconda3/lib/python3.6/site-packages (from matplotlib->missingno)\n",
      "Requirement already satisfied: pyparsing!=2.0.4,!=2.1.2,!=2.1.6,>=1.5.6 in /Users/bater.makhabel/anaconda3/lib/python3.6/site-packages (from matplotlib->missingno)\n",
      "Building wheels for collected packages: missingno\n",
      "  Running setup.py bdist_wheel for missingno ... \u001b[?25l-\b \b\\\b \bdone\n",
      "\u001b[?25h  Stored in directory: /Users/bater.makhabel/Library/Caches/pip/wheels/92/46/9a/a8f3e9ad98ee4a53242e5ec371309dd71bd1177eb95c72788f\n",
      "Successfully built missingno\n",
      "Installing collected packages: missingno\n",
      "Successfully installed missingno-0.4.0\n"
     ]
    }
   ],
   "source": [
    "# Task 1: \n",
    "\n",
    "!pip install missingno"
   ]
  },
  {
   "cell_type": "code",
   "execution_count": 6,
   "metadata": {
    "collapsed": false,
    "scrolled": true
   },
   "outputs": [
    {
     "name": "stdout",
     "output_type": "stream",
     "text": [
      "Collecting quilt\n",
      "  Downloading quilt-2.9.2-py3-none-any.whl (83kB)\n",
      "\u001b[K    100% |████████████████████████████████| 92kB 167kB/s ta 0:00:01\n",
      "\u001b[?25hCollecting pyarrow<0.8.0,>=0.4.0 (from quilt)\n",
      "  Downloading pyarrow-0.7.1-cp36-cp36m-macosx_10_6_intel.whl (6.4MB)\n",
      "\u001b[K    100% |████████████████████████████████| 6.4MB 89kB/s eta 0:00:011\n",
      "\u001b[?25hRequirement already satisfied: six>=1.10.0 in /Users/bater.makhabel/anaconda3/lib/python3.6/site-packages (from quilt)\n",
      "Requirement already satisfied: requests>=2.12.4 in /Users/bater.makhabel/anaconda3/lib/python3.6/site-packages (from quilt)\n",
      "Requirement already satisfied: pyyaml>=3.12 in /Users/bater.makhabel/anaconda3/lib/python3.6/site-packages (from quilt)\n",
      "Collecting tqdm>=4.11.2 (from quilt)\n",
      "  Downloading tqdm-4.19.6-py2.py3-none-any.whl (52kB)\n",
      "\u001b[K    100% |████████████████████████████████| 61kB 501kB/s ta 0:00:01\n",
      "\u001b[?25hCollecting appdirs>=1.4.0 (from quilt)\n",
      "  Downloading appdirs-1.4.3-py2.py3-none-any.whl\n",
      "Requirement already satisfied: pyOpenSSL>=16.2.0 in /Users/bater.makhabel/anaconda3/lib/python3.6/site-packages (from quilt)\n",
      "Requirement already satisfied: xlrd>=1.0.0 in /Users/bater.makhabel/anaconda3/lib/python3.6/site-packages (from quilt)\n",
      "Collecting future>=0.16.0 (from quilt)\n",
      "  Downloading future-0.16.0.tar.gz (824kB)\n",
      "\u001b[K    100% |████████████████████████████████| 829kB 164kB/s ta 0:00:01\n",
      "\u001b[?25hRequirement already satisfied: tables>=3.3.0 in /Users/bater.makhabel/anaconda3/lib/python3.6/site-packages (from quilt)\n",
      "Requirement already satisfied: pandas>=0.19.2 in /Users/bater.makhabel/anaconda3/lib/python3.6/site-packages (from quilt)\n",
      "Collecting packaging>=16.8 (from quilt)\n",
      "  Downloading packaging-17.1-py2.py3-none-any.whl\n",
      "Requirement already satisfied: numpy>=1.10 in /Users/bater.makhabel/anaconda3/lib/python3.6/site-packages (from pyarrow<0.8.0,>=0.4.0->quilt)\n",
      "Requirement already satisfied: cryptography>=1.3.4 in /Users/bater.makhabel/anaconda3/lib/python3.6/site-packages (from pyOpenSSL>=16.2.0->quilt)\n",
      "Requirement already satisfied: numexpr>=2.5.2 in /Users/bater.makhabel/anaconda3/lib/python3.6/site-packages (from tables>=3.3.0->quilt)\n",
      "Requirement already satisfied: python-dateutil>=2 in /Users/bater.makhabel/anaconda3/lib/python3.6/site-packages (from pandas>=0.19.2->quilt)\n",
      "Requirement already satisfied: pytz>=2011k in /Users/bater.makhabel/anaconda3/lib/python3.6/site-packages (from pandas>=0.19.2->quilt)\n",
      "Requirement already satisfied: pyparsing>=2.0.2 in /Users/bater.makhabel/anaconda3/lib/python3.6/site-packages (from packaging>=16.8->quilt)\n",
      "Requirement already satisfied: idna>=2.0 in /Users/bater.makhabel/anaconda3/lib/python3.6/site-packages (from cryptography>=1.3.4->pyOpenSSL>=16.2.0->quilt)\n",
      "Requirement already satisfied: pyasn1>=0.1.8 in /Users/bater.makhabel/anaconda3/lib/python3.6/site-packages (from cryptography>=1.3.4->pyOpenSSL>=16.2.0->quilt)\n",
      "Requirement already satisfied: setuptools>=11.3 in /Users/bater.makhabel/anaconda3/lib/python3.6/site-packages/setuptools-27.2.0-py3.6.egg (from cryptography>=1.3.4->pyOpenSSL>=16.2.0->quilt)\n",
      "Requirement already satisfied: cffi>=1.4.1 in /Users/bater.makhabel/anaconda3/lib/python3.6/site-packages (from cryptography>=1.3.4->pyOpenSSL>=16.2.0->quilt)\n",
      "Requirement already satisfied: pycparser in /Users/bater.makhabel/anaconda3/lib/python3.6/site-packages (from cffi>=1.4.1->cryptography>=1.3.4->pyOpenSSL>=16.2.0->quilt)\n",
      "Building wheels for collected packages: future\n",
      "  Running setup.py bdist_wheel for future ... \u001b[?25l-\b \b\\\b \b|\b \b/\b \bdone\n",
      "\u001b[?25h  Stored in directory: /Users/bater.makhabel/Library/Caches/pip/wheels/c2/50/7c/0d83b4baac4f63ff7a765bd16390d2ab43c93587fac9d6017a\n",
      "Successfully built future\n",
      "Installing collected packages: pyarrow, tqdm, appdirs, future, packaging, quilt\n",
      "Successfully installed appdirs-1.4.3 future-0.16.0 packaging-17.1 pyarrow-0.7.1 quilt-2.9.2 tqdm-4.19.6\n",
      "Downloading package metadata...\n",
      "Downloading 1 fragments (378723 bytes before compression)...\n",
      "Download for abdeb048aa72a5ccaccf93263e58a3c7732a7e131bac5783b36c6f65ac726dd8 timed out; retrying...\n",
      "Download for abdeb048aa72a5ccaccf93263e58a3c7732a7e131bac5783b36c6f65ac726dd8 timed out; retrying...\n",
      "658kB [04:07, 2.66kB/s]                                                         \n"
     ]
    }
   ],
   "source": [
    "!pip install quilt\n",
    "!quilt install ResidentMario/missingno_data"
   ]
  },
  {
   "cell_type": "code",
   "execution_count": null,
   "metadata": {
    "collapsed": true
   },
   "outputs": [],
   "source": [
    "# loading packages\n",
    "%matplotlib inline\n",
    "\n",
    "# manipulation and summaries\n",
    "import numpy as np\n",
    "import pandas as pd\n",
    "\n",
    "# data visualization\n",
    "import matplotlib.pyplot as plt\n",
    "import missingno as msno # missing values\n",
    "import seaborn as sns # advanced vizs\n",
    "import plotly # tables\n",
    "import plotly.plotly as py\n",
    "import plotly.figure_factory as ff\n",
    "\n",
    "# statistics\n",
    "from statsmodels.distributions.empirical_distribution import ECDF\n",
    "from scipy import stats # one way anova\n",
    "from statsmodels.stats.multicomp import pairwise_tukeyhsd #tukey test\n",
    "\n",
    "# machine learning\n",
    "from scipy import stats \n",
    "from sklearn.preprocessing import scale \n",
    "from sklearn.svm import SVR\n",
    "from sklearn.model_selection import train_test_split, GridSearchCV, cross_val_score\n",
    "from sklearn.feature_extraction.text import CountVectorizer\n",
    "\n",
    "# importing data\n",
    "wm = pd.read_csv(\"widowmaker.csv\")\n",
    "wm.columns"
   ]
  },
  {
   "cell_type": "code",
   "execution_count": null,
   "metadata": {
    "collapsed": true
   },
   "outputs": [],
   "source": [
    "# Task 1, "
   ]
  },
  {
   "cell_type": "code",
   "execution_count": null,
   "metadata": {
    "collapsed": true
   },
   "outputs": [],
   "source": []
  },
  {
   "cell_type": "code",
   "execution_count": null,
   "metadata": {
    "collapsed": true
   },
   "outputs": [],
   "source": []
  },
  {
   "cell_type": "code",
   "execution_count": null,
   "metadata": {
    "collapsed": true
   },
   "outputs": [],
   "source": [
    "# Task 2: "
   ]
  },
  {
   "cell_type": "code",
   "execution_count": null,
   "metadata": {
    "collapsed": true
   },
   "outputs": [],
   "source": []
  }
 ],
 "metadata": {
  "kernelspec": {
   "display_name": "Python 3",
   "language": "python",
   "name": "python3"
  },
  "language_info": {
   "codemirror_mode": {
    "name": "ipython",
    "version": 3
   },
   "file_extension": ".py",
   "mimetype": "text/x-python",
   "name": "python",
   "nbconvert_exporter": "python",
   "pygments_lexer": "ipython3",
   "version": "3.6.0"
  }
 },
 "nbformat": 4,
 "nbformat_minor": 2
}
