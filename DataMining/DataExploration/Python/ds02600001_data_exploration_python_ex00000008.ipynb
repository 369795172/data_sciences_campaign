{
 "cells": [
  {
   "cell_type": "code",
   "execution_count": 1,
   "metadata": {
    "collapsed": true
   },
   "outputs": [],
   "source": [
    "# encoding=utf8"
   ]
  },
  {
   "cell_type": "markdown",
   "metadata": {},
   "source": [
    "# Linear Regression Analysis"
   ]
  },
  {
   "cell_type": "markdown",
   "metadata": {},
   "source": [
    "\n",
    "+ Checks residuals and  R2. Then casts to a quadratic model.\n"
   ]
  },
  {
   "cell_type": "markdown",
   "metadata": {},
   "source": [
    "### Packages"
   ]
  },
  {
   "cell_type": "code",
   "execution_count": 3,
   "metadata": {
    "collapsed": true
   },
   "outputs": [],
   "source": [
    "import numpy as np\n",
    "\n",
    "from matplotlib import pyplot as plt\n",
    "%matplotlib inline"
   ]
  },
  {
   "cell_type": "markdown",
   "metadata": {},
   "source": [
    "### Given data"
   ]
  },
  {
   "cell_type": "code",
   "execution_count": 4,
   "metadata": {
    "collapsed": false
   },
   "outputs": [
    {
     "data": {
      "image/png": "[encoded data removed]",
      "text/plain": [
       "<matplotlib.figure.Figure at 0x111f9c240>"
      ]
     },
     "metadata": {},
     "output_type": "display_data"
    }
   ],
   "source": [
    "x = np.array([1, 2, 3, 4, 5, 6, 7, 8, 9])\n",
    "y = np.array([2, 1, 6, 14, 15, 30, 40, 74, 75])\n",
    "\n",
    "plt.grid(True)\n",
    "plt.scatter(x, y);"
   ]
  },
  {
   "cell_type": "markdown",
   "metadata": {},
   "source": [
    "### Regression model\n",
    "\n",
    "Assume the true model of the universe that generates the data looks like this:\n",
    "\n",
    "$$Y = \\beta_0 + \\beta_1 X$$\n",
    "\n",
    "We want to know what values the universe has for $\\beta_0$ and $\\beta_1$. Our dataset provides a guess. Find $\\hat{\\beta_0}$ and $\\hat{\\beta_1}$ in our empirical model:\n",
    "\n",
    "$$\\hat{y} = \\hat{\\beta}_0 + \\hat{\\beta}_1 x$$"
   ]
  },
  {
   "cell_type": "markdown",
   "metadata": {},
   "source": [
    "### Estimate coefficients"
   ]
  },
  {
   "cell_type": "code",
   "execution_count": 5,
   "metadata": {
    "collapsed": true
   },
   "outputs": [],
   "source": [
    "# Subtract means first to make beta formula cleaner\n",
    "x_ = x - x.mean()\n",
    "y_ = y - y.mean()\n",
    "\n",
    "beta1 = x_.T.dot(y_) / x_.T.dot(x_)\n",
    "beta0 = y.mean() - beta1 * x.mean()\n",
    "\n",
    "def yhat(x):\n",
    "    \"\"\"Return predicted value for x.\"\"\"\n",
    "    return beta0 + beta1 * x"
   ]
  },
  {
   "cell_type": "code",
   "execution_count": 6,
   "metadata": {
    "collapsed": false
   },
   "outputs": [
    {
     "data": {
      "text/plain": [
       "9.9166666666666661"
      ]
     },
     "execution_count": 6,
     "metadata": {},
     "output_type": "execute_result"
    }
   ],
   "source": [
    "beta1"
   ]
  },
  {
   "cell_type": "code",
   "execution_count": 7,
   "metadata": {
    "collapsed": false
   },
   "outputs": [
    {
     "data": {
      "text/plain": [
       "-21.027777777777771"
      ]
     },
     "execution_count": 7,
     "metadata": {},
     "output_type": "execute_result"
    }
   ],
   "source": [
    "beta0"
   ]
  },
  {
   "cell_type": "markdown",
   "metadata": {},
   "source": [
    "### Fitted model"
   ]
  },
  {
   "cell_type": "markdown",
   "metadata": {},
   "source": [
    "$$\\hat{y} = -21.0278 + 9.9167 x$$"
   ]
  },
  {
   "cell_type": "code",
   "execution_count": 8,
   "metadata": {
    "collapsed": false
   },
   "outputs": [
    {
     "data": {
      "image/png": "[encoded data removed]",
      "text/plain": [
       "<matplotlib.figure.Figure at 0x115368518>"
      ]
     },
     "metadata": {},
     "output_type": "display_data"
    }
   ],
   "source": [
    "xs = np.arange(x.min(), x.max(), 0.01)\n",
    "yhats = np.array([yhat(x) for x in xs])\n",
    "\n",
    "plt.grid(True)\n",
    "plt.scatter(x, y)  # scatter points\n",
    "plt.plot(xs, yhats, c='orange');  # regression line"
   ]
  },
  {
   "cell_type": "markdown",
   "metadata": {},
   "source": [
    "### Correlation coefficient\n",
    "\n",
    "Just covariance, but rescaled to lie within $[0, 1]$. We can also see it as the cosine of the angle between the vectors $x$ and $y$ after we've subtracted the means of each.\n",
    "\n",
    "$$r = \\frac{\\text{cov}(x, y)}{s_x \\cdot s_y} = \\frac{x^\\top y}{\\sqrt{x^\\top x} \\sqrt{y^\\top y}} = \\frac{x^\\top y}{||x||_2 ||y||_2} = \\cos(\\theta)$$\n",
    "\n",
    "Where $\\theta$ is the angle between $x$ and $y$, and where $x$ and $y$ are both adjusted to have zero mean."
   ]
  },
  {
   "cell_type": "code",
   "execution_count": 9,
   "metadata": {
    "collapsed": true
   },
   "outputs": [],
   "source": [
    "def corr(x, y):\n",
    "    \"\"\"Return correlation coefficient for x and y.\"\"\"\n",
    "    x = (x - x.mean()).copy()\n",
    "    y = (y - y.mean()).copy()\n",
    "    return x.T.dot(y) / (np.linalg.norm(x) * np.linalg.norm(y))"
   ]
  },
  {
   "cell_type": "markdown",
   "metadata": {},
   "source": [
    "### $R^2$\n",
    "\n",
    "Measures the proportion of variability in $y$ that is explained by $x$"
   ]
  },
  {
   "cell_type": "code",
   "execution_count": 10,
   "metadata": {
    "collapsed": false
   },
   "outputs": [
    {
     "data": {
      "text/plain": [
       "0.87748686341253823"
      ]
     },
     "execution_count": 10,
     "metadata": {},
     "output_type": "execute_result"
    }
   ],
   "source": [
    "corr(x, y) ** 2"
   ]
  },
  {
   "cell_type": "markdown",
   "metadata": {},
   "source": [
    "### Check against scipy"
   ]
  },
  {
   "cell_type": "code",
   "execution_count": 11,
   "metadata": {
    "collapsed": true
   },
   "outputs": [],
   "source": [
    "import scipy.stats\n",
    "slope, intercept, r_value, p_value, std_err = scipy.stats.linregress(x, y)\n",
    "\n",
    "assert round(slope, 6) == round(beta1, 6)\n",
    "assert round(intercept, 6) == round(beta0, 6)\n",
    "assert round(r_value, 6) == round(corr(x, y), 6)"
   ]
  },
  {
   "cell_type": "markdown",
   "metadata": {},
   "source": [
    "### Relationship between correlation coefficient $r$ and slope $\\hat{\\beta}_1$\n",
    "\n",
    "$$r = \\frac{x^\\top y}{\\sqrt{x^\\top x} \\sqrt{y^\\top y}} = \\frac{\\text{cov}(x, y)}{s_x \\cdot s_y}$$\n",
    "\n",
    "$$\\hat{\\beta_1} = \\frac{x^\\top y}{x^\\top x} = r \\frac{\\sqrt{y^\\top y}}{\\sqrt{x^\\top x}} = r \\frac{s_y}{s_x}$$"
   ]
  },
  {
   "cell_type": "code",
   "execution_count": 12,
   "metadata": {
    "collapsed": true
   },
   "outputs": [],
   "source": [
    "assert round(beta1, 6) == round(corr(x, y) * y.std() / x.std(), 6)"
   ]
  },
  {
   "cell_type": "markdown",
   "metadata": {},
   "source": [
    "### Residual plot"
   ]
  },
  {
   "cell_type": "code",
   "execution_count": 13,
   "metadata": {
    "collapsed": false
   },
   "outputs": [
    {
     "data": {
      "image/png": "[encoded data removed]",
      "text/plain": [
       "<matplotlib.figure.Figure at 0x11546a2b0>"
      ]
     },
     "metadata": {},
     "output_type": "display_data"
    }
   ],
   "source": [
    "yhats = np.array([yhat(x) for x in x])\n",
    "residuals = y - yhats\n",
    "\n",
    "xs = np.arange(x.min(), x.max(), 0.01)\n",
    "zeros = np.zeros(xs.size)\n",
    "\n",
    "plt.grid(True)\n",
    "plt.plot(xs, zeros, c='black')\n",
    "plt.scatter(x, residuals, c='red');"
   ]
  },
  {
   "cell_type": "markdown",
   "metadata": {},
   "source": [
    "Looks U-shaped, so try a quadratic model for better fit"
   ]
  },
  {
   "cell_type": "markdown",
   "metadata": {},
   "source": [
    "### Quadratic regression model\n",
    "\n",
    "$$\\sqrt{Y} = \\beta_0 + \\beta_1 X$$\n",
    "\n",
    "$$\\hat{y} = (\\hat{\\beta}_0 + \\hat{\\beta}_1 x)^2$$"
   ]
  },
  {
   "cell_type": "code",
   "execution_count": 14,
   "metadata": {
    "collapsed": true
   },
   "outputs": [],
   "source": [
    "y = np.sqrt(y)\n",
    "\n",
    "# Subtract means first to make beta formula cleaner\n",
    "x_ = x - x.mean()\n",
    "y_ = y - y.mean()\n",
    "\n",
    "beta1 = x_.T.dot(y_) / x.T.dot(x_)\n",
    "beta0 = y.mean() - beta1 * x.mean()"
   ]
  },
  {
   "cell_type": "code",
   "execution_count": 15,
   "metadata": {
    "collapsed": false
   },
   "outputs": [
    {
     "data": {
      "text/plain": [
       "1.0212806174399656"
      ]
     },
     "execution_count": 15,
     "metadata": {},
     "output_type": "execute_result"
    }
   ],
   "source": [
    "beta1"
   ]
  },
  {
   "cell_type": "code",
   "execution_count": 16,
   "metadata": {
    "collapsed": false
   },
   "outputs": [
    {
     "data": {
      "text/plain": [
       "-0.49054706070948662"
      ]
     },
     "execution_count": 16,
     "metadata": {},
     "output_type": "execute_result"
    }
   ],
   "source": [
    "beta0"
   ]
  },
  {
   "cell_type": "markdown",
   "metadata": {},
   "source": [
    "### Fitted quadratratic regression model\n",
    "\n",
    "$$\\hat{y} = (-0.4906 + 1.0213 x)^2$$"
   ]
  },
  {
   "cell_type": "markdown",
   "metadata": {},
   "source": [
    "### Quadratic $R^2$"
   ]
  },
  {
   "cell_type": "code",
   "execution_count": 17,
   "metadata": {
    "collapsed": false
   },
   "outputs": [
    {
     "data": {
      "text/plain": [
       "0.95916900762832791"
      ]
     },
     "execution_count": 17,
     "metadata": {},
     "output_type": "execute_result"
    }
   ],
   "source": [
    "corr(x, y) ** 2"
   ]
  },
  {
   "cell_type": "markdown",
   "metadata": {},
   "source": [
    "$R^2$ increased, so our transformation was successful"
   ]
  },
  {
   "cell_type": "markdown",
   "metadata": {},
   "source": [
    "### Check against scipy"
   ]
  },
  {
   "cell_type": "code",
   "execution_count": 18,
   "metadata": {
    "collapsed": true
   },
   "outputs": [],
   "source": [
    "import scipy.stats\n",
    "slope, intercept, r_value, p_value, std_err = scipy.stats.linregress(x, y)\n",
    "\n",
    "assert round(slope, 6) == round(beta1, 6)\n",
    "assert round(intercept, 6) == round(beta0, 6)\n",
    "assert round(r_value, 6) == round(corr(x, y), 6)"
   ]
  },
  {
   "cell_type": "markdown",
   "metadata": {},
   "source": [
    "### Quadratic residual plot"
   ]
  },
  {
   "cell_type": "code",
   "execution_count": 19,
   "metadata": {
    "collapsed": false
   },
   "outputs": [
    {
     "data": {
      "image/png": "[encoded data removed]",
      "text/plain": [
       "<matplotlib.figure.Figure at 0x11531fa90>"
      ]
     },
     "metadata": {},
     "output_type": "display_data"
    }
   ],
   "source": [
    "yhats = np.array([yhat(x) for x in x])\n",
    "residuals = y - yhats\n",
    "\n",
    "xs = np.arange(x.min(), x.max(), 0.01)\n",
    "zeros = np.zeros(xs.size)\n",
    "\n",
    "plt.grid(True)\n",
    "plt.plot(xs, zeros, c='black')\n",
    "plt.scatter(x, residuals, c='red');"
   ]
  },
  {
   "cell_type": "code",
   "execution_count": null,
   "metadata": {
    "collapsed": true
   },
   "outputs": [],
   "source": []
  },
  {
   "cell_type": "code",
   "execution_count": null,
   "metadata": {
    "collapsed": true
   },
   "outputs": [],
   "source": []
  }
 ],
 "metadata": {
  "kernelspec": {
   "display_name": "Python 3",
   "language": "python",
   "name": "python3"
  },
  "language_info": {
   "codemirror_mode": {
    "name": "ipython",
    "version": 3
   },
   "file_extension": ".py",
   "mimetype": "text/x-python",
   "name": "python",
   "nbconvert_exporter": "python",
   "pygments_lexer": "ipython3",
   "version": "3.6.0"
  }
 },
 "nbformat": 4,
 "nbformat_minor": 2
}
