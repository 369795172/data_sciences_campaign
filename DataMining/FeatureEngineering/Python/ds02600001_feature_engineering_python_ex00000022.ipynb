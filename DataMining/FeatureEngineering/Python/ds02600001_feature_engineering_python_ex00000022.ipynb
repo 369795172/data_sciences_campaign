{
 "cells": [
  {
   "cell_type": "code",
   "execution_count": null,
   "metadata": {
    "collapsed": true
   },
   "outputs": [],
   "source": [
    "# encoding=utf8"
   ]
  },
  {
   "cell_type": "markdown",
   "metadata": {},
   "source": [
    "# 特征工程-线性特征变换-奇异值分解SVD\n"
   ]
  },
  {
   "cell_type": "code",
   "execution_count": 4,
   "metadata": {
    "collapsed": true
   },
   "outputs": [],
   "source": [
    "import numpy as np\n"
   ]
  },
  {
   "cell_type": "code",
   "execution_count": 5,
   "metadata": {
    "collapsed": true
   },
   "outputs": [],
   "source": [
    "# -*- coding: utf-8 -*-\n",
    "\"\"\"\n",
    "arr = \n",
    "    [[0, 0, 0, 2, 2], \n",
    "     [0, 0, 0, 3, 3], \n",
    "     [0, 0, 0, 1, 1],\n",
    "     [1, 1, 1, 0, 0], \n",
    "     [2, 2, 2, 0, 0], \n",
    "     [5, 5, 5, 0, 0], \n",
    "     [1, 1, 1, 0, 0]]\n",
    "    \n",
    "u = 7 * 7\n",
    "\n",
    "sigma = 7 * 5, 只返回了对角元素, 其余0元素被省略\n",
    "\n",
    "V = 5 * 5\n",
    "\"\"\"\n",
    "\n",
    "\n",
    "arr = np.array([[0, 0, 0, 2, 2], [0, 0, 0, 3, 3], [0, 0, 0, 1, 1],\n",
    "                [1, 1, 1, 0, 0], [2, 2, 2, 0, 0], [5, 5, 5, 0, 0], [1, 1, 1, 0, 0]])\n",
    "\n",
    "# 1. 分解\n",
    "u, sigma, v = np.linalg.svd(arr)\n",
    "\n",
    "# 2. 重构\n",
    "new_arr = np.mat(u[:, 0:2]) * np.mat(np.diag(sigma[0:2])) * np.mat(v[0:2, :])"
   ]
  },
  {
   "cell_type": "code",
   "execution_count": 6,
   "metadata": {
    "collapsed": false
   },
   "outputs": [
    {
     "data": {
      "text/plain": [
       "matrix([[ -3.37368515e-18,   9.15076142e-16,   9.15076142e-16,\n",
       "           2.00000000e+00,   2.00000000e+00],\n",
       "        [ -9.18449827e-16,   4.59224914e-16,   4.59224914e-16,\n",
       "           3.00000000e+00,   3.00000000e+00],\n",
       "        [ -3.06149942e-16,   1.53074971e-16,   1.53074971e-16,\n",
       "           1.00000000e+00,   1.00000000e+00],\n",
       "        [  1.00000000e+00,   1.00000000e+00,   1.00000000e+00,\n",
       "          -7.22134412e-17,  -7.22134412e-17],\n",
       "        [  2.00000000e+00,   2.00000000e+00,   2.00000000e+00,\n",
       "          -1.13379157e-16,  -1.13379157e-16],\n",
       "        [  5.00000000e+00,   5.00000000e+00,   5.00000000e+00,\n",
       "           4.44172017e-17,   4.44172017e-17],\n",
       "        [  1.00000000e+00,   1.00000000e+00,   1.00000000e+00,\n",
       "          -5.66895787e-17,  -5.66895787e-17]])"
      ]
     },
     "execution_count": 6,
     "metadata": {},
     "output_type": "execute_result"
    }
   ],
   "source": [
    "new_arr"
   ]
  },
  {
   "cell_type": "code",
   "execution_count": null,
   "metadata": {
    "collapsed": true
   },
   "outputs": [],
   "source": []
  }
 ],
 "metadata": {
  "kernelspec": {
   "display_name": "Python 3",
   "language": "python",
   "name": "python3"
  },
  "language_info": {
   "codemirror_mode": {
    "name": "ipython",
    "version": 3
   },
   "file_extension": ".py",
   "mimetype": "text/x-python",
   "name": "python",
   "nbconvert_exporter": "python",
   "pygments_lexer": "ipython3",
   "version": "3.6.0"
  }
 },
 "nbformat": 4,
 "nbformat_minor": 2
}
