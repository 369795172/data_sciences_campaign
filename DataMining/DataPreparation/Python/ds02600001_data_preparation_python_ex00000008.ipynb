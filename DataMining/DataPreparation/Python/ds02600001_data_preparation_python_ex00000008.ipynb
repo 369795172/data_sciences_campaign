{
 "cells": [
  {
   "cell_type": "code",
   "execution_count": 1,
   "metadata": {
    "collapsed": true
   },
   "outputs": [],
   "source": [
    "# encoding=utf8"
   ]
  },
  {
   "cell_type": "markdown",
   "metadata": {},
   "source": [
    "# Data Preparation of English GP-practices or educational purposes\n",
    "\n",
    "\"data-preparation-GP-prescribing\":\n",
    "This file creates smaller datasets from the UK prescribing datasets"
   ]
  },
  {
   "cell_type": "markdown",
   "metadata": {
    "collapsed": true
   },
   "source": [
    "# Data analysis and visualization of GP-prescribing data"
   ]
  },
  {
   "cell_type": "markdown",
   "metadata": {},
   "source": [
    "Remark: This notebook is fully reproducible as the data is fully accessible via a URL. However, start this notebook only if you have got sufficient memory and computational power as each GP-prescribing file has 1.3 GB for each month.\n",
    "\n",
    "If you do not have got enough memory, use the generated data in the provided folder which makes use only of a small percentage of the full dataset."
   ]
  },
  {
   "cell_type": "code",
   "execution_count": null,
   "metadata": {
    "collapsed": true
   },
   "outputs": [],
   "source": [
    "#preliminaries\n",
    "import pandas as pd\n",
    "import numpy as np\n",
    "\n",
    "%matplotlib inline\n",
    "import random\n",
    "import matplotlib.pyplot as plt"
   ]
  },
  {
   "cell_type": "markdown",
   "metadata": {},
   "source": [
    "### Read in the practice information data file to a pandas dataframe"
   ]
  },
  {
   "cell_type": "code",
   "execution_count": null,
   "metadata": {
    "collapsed": false
   },
   "outputs": [],
   "source": [
    "num_months = int(input(\"\\nPlease enter the number of months you would like to show in notebook: \"))\n",
    "print ('you entered', num_months)"
   ]
  },
  {
   "cell_type": "code",
   "execution_count": null,
   "metadata": {
    "collapsed": false
   },
   "outputs": [],
   "source": [
    "#generate filenames for pre-selected months\n",
    "path = 'http://datagov.ic.nhs.uk/presentation/' \n",
    "cols2 = ['sha', 'pct', 'practice', 'bnf_code', 'bnf_name', 'items', 'nic', 'act_cost', 'quantity', 'period']\n",
    "\n",
    "prefixes=[] \n",
    "files=[]\n",
    "months=[]\n",
    "\n",
    "import calendar \n",
    "for year in range(2016,2017): #only for one year \n",
    "    for i in range(1,13):\n",
    "        \n",
    "        prefixes.append(str(year) +'_' +str(i).zfill(2) + '_' + calendar.month_name[i] + '/') \n",
    "        files.append('T' + str(year) +str(i).zfill(2) + 'PDPI+BNFT.CSV')\n",
    "        months.append(calendar.month_name[i])\n",
    "        \n",
    "#read all dfs\n",
    "\n",
    "monthly_dfs = []\n",
    "\n",
    "for i in range(0,num_months):\n",
    "    print (path+ prefixes[i] + files[i])\n",
    "    tmpDF = pd.read_csv(path + prefixes[i] + files[i], header=None, names=cols2, index_col=False, skiprows=1).rename(columns=lambda x: x.strip())\n",
    "    \n",
    "    monthly_dfs.append(tmpDF)"
   ]
  },
  {
   "cell_type": "markdown",
   "metadata": {},
   "source": [
    "# Identify the five most expensive drugs (costs per drug) for practice 'THE DENSHAM SURGERY' in July 2016 and plot them in a bar chart with pandas"
   ]
  },
  {
   "cell_type": "code",
   "execution_count": null,
   "metadata": {
    "collapsed": true
   },
   "outputs": [],
   "source": [
    "jul2016 = monthly_dfs[6]  "
   ]
  },
  {
   "cell_type": "code",
   "execution_count": null,
   "metadata": {
    "collapsed": false
   },
   "outputs": [],
   "source": [
    "practice_code= 'A81001' #\"THE DENSHAM SURGERY\"\n",
    "selected_surgery = \"THE DENSHAM SURGERY\"\n",
    "densham_data = jul2016[jul2016['practice'] == practice_code].copy(deep=True)\n",
    "densham_data.head()"
   ]
  },
  {
   "cell_type": "markdown",
   "metadata": {},
   "source": [
    "### Calculate costs per drug and store the five most expensive"
   ]
  },
  {
   "cell_type": "code",
   "execution_count": null,
   "metadata": {
    "collapsed": true
   },
   "outputs": [],
   "source": [
    "densham_data['costs_per_drug'] =  densham_data['act_cost'] / densham_data['quantity']\n",
    "densham_sorted=densham_data.sort_values('costs_per_drug', axis=0, ascending=False, kind='quicksort', na_position='last')\n",
    "densham_top5 = densham_sorted.head(5)"
   ]
  },
  {
   "cell_type": "markdown",
   "metadata": {},
   "source": [
    "### Bar Chart"
   ]
  },
  {
   "cell_type": "code",
   "execution_count": null,
   "metadata": {
    "collapsed": false
   },
   "outputs": [],
   "source": [
    "%matplotlib inline\n",
    "\n",
    "ax=densham_top5[['bnf_name','costs_per_drug']].plot(kind='bar', x='bnf_name', y='costs_per_drug', color=['r', 'g', 'b', 'r', 'g', 'b', 'r'], title='top 5 costs for: '+ selected_surgery, figsize=(6,4),legend=True, fontsize=10)\n",
    "\n",
    "ax.set_xlabel(\"bnf\",fontsize=8)\n",
    "\n",
    "ax.set_ylabel(\"costs per drug\",fontsize=8)"
   ]
  },
  {
   "cell_type": "markdown",
   "metadata": {},
   "source": [
    "# Task 1: Plot a bar chart with the ten most expensive drugs for the Densham Surgery, modify the colours of the bars, and update the labels"
   ]
  },
  {
   "cell_type": "code",
   "execution_count": null,
   "metadata": {
    "collapsed": true
   },
   "outputs": [],
   "source": [
    "densham_top10 = densham_sorted.head(10)"
   ]
  },
  {
   "cell_type": "code",
   "execution_count": null,
   "metadata": {
    "collapsed": false
   },
   "outputs": [],
   "source": [
    "ax=densham_top10[['bnf_name','costs_per_drug']].plot(kind='bar', x='bnf_name', y='costs_per_drug', color=['r', 'g', 'b', 'r', 'y', 'b', 'y'], title='top 5 costs for: '+ selected_surgery, figsize=(6,4),legend=True, fontsize=10)\n",
    "\n",
    "ax.set_xlabel(\"bnf\",fontsize=8)\n",
    "\n",
    "ax.set_ylabel(\"costs per drug\",fontsize=8)"
   ]
  },
  {
   "cell_type": "markdown",
   "metadata": {},
   "source": [
    "### Line Chart: Identify the time series of quantity) for ‘Ibuprofen-Tab 200 mg’ in the last three months for the Densham surgery and plot this data in a line chart"
   ]
  },
  {
   "cell_type": "code",
   "execution_count": null,
   "metadata": {
    "collapsed": true
   },
   "outputs": [],
   "source": [
    "#helper function\n",
    "def findQuantityDrug( drugName, currentdf, practice_code):\n",
    "    tempdf= currentdf[(currentdf['practice'] == practice_code) &(currentdf['bnf_name'].str.contains(drugName))]\n",
    "    quantityDrug = tempdf.iloc[0]['quantity']\n",
    "    return int(quantityDrug);"
   ]
  },
  {
   "cell_type": "code",
   "execution_count": null,
   "metadata": {
    "collapsed": true
   },
   "outputs": [],
   "source": [
    "def getMonthlyDrugPrescriptions(drugName):\n",
    "    \n",
    "    monthly_drug=[]\n",
    "    \n",
    "    for i in range(0,num_months):\n",
    "        quantity = findQuantityDrug(drugName, currentdf=monthly_dfs[i], practice_code='A81001')\n",
    "        monthly_drug.append(quantity)\n",
    "        \n",
    "    return monthly_drug"
   ]
  },
  {
   "cell_type": "code",
   "execution_count": null,
   "metadata": {
    "collapsed": true
   },
   "outputs": [],
   "source": [
    "drugName = \"Ibuprofen_Tab 200mg\"\n",
    "monthly_IBUprofen = getMonthlyDrugPrescriptions(drugName)"
   ]
  },
  {
   "cell_type": "markdown",
   "metadata": {},
   "source": [
    "# Line Chart"
   ]
  },
  {
   "cell_type": "code",
   "execution_count": null,
   "metadata": {
    "collapsed": false
   },
   "outputs": [],
   "source": [
    "#let's look at annual line chart of prescriptions per month in GP-practice\n",
    "df2 = pd.DataFrame({'months' : pd.Categorical(months),\n",
    "   'prescriptions per month' : pd.Series(monthly_IBUprofen, dtype='int32')})\n",
    "\n",
    "titles=\"number of \" + drugName + \" prescriptions per month in GP-practice: \" + selected_surgery         \n",
    "ax0=df2.plot(kind='line', x='months', y='prescriptions per month', figsize=(8,6), title=titles, stacked=False)\n",
    "ax0.grid() #adding a grid\n",
    "ax0.legend([drugName])"
   ]
  },
  {
   "cell_type": "markdown",
   "metadata": {},
   "source": [
    "# Task 2: Visualize \"Cetirizine HCl_Tab 10mg\""
   ]
  },
  {
   "cell_type": "code",
   "execution_count": null,
   "metadata": {
    "collapsed": false
   },
   "outputs": [],
   "source": [
    "#solution\n",
    "drugName = \"Cetirizine HCl_Tab 10mg\"\n",
    "\n",
    "monthly_Ceterizine = getMonthlyDrugPrescriptions(drugName)\n",
    "\n",
    "df2 = pd.DataFrame({'months' : pd.Categorical(months),\n",
    "   'prescriptions per month' : pd.Series(monthly_Ceterizine, dtype='int32')})\n",
    "\n",
    "titles=\"number of \" + drugName + \" prescriptions per month in GP-practice: \" + selected_surgery         \n",
    "ax0=df2.plot(kind='line', x='months', y='prescriptions per month', \n",
    "             figsize=(8,6), title=titles, stacked=False)\n",
    "ax0.grid() #adding a grid\n",
    "ax0.legend([drugName])"
   ]
  },
  {
   "cell_type": "markdown",
   "metadata": {},
   "source": [
    "# Task 3: Visualize any medication of your interest"
   ]
  },
  {
   "cell_type": "code",
   "execution_count": null,
   "metadata": {
    "collapsed": false
   },
   "outputs": [],
   "source": [
    "#solution\n",
    "drugName = \"Atorvastatin_Tab 40mg\"\n",
    "\n",
    "monthly_Atorvastatin = getMonthlyDrugPrescriptions(drugName)\n",
    "\n",
    "df2 = pd.DataFrame({'months' : pd.Categorical(months),\n",
    "   'prescriptions per month' : pd.Series(monthly_Atorvastatin, dtype='int32')})\n",
    "\n",
    "titles=\"number of \" + drugName + \" prescriptions per month in GP-practice: \" + selected_surgery         \n",
    "ax0=df2.plot(kind='line', x='months', y='prescriptions per month', \n",
    "             figsize=(8,6), title=titles, stacked=False)\n",
    "ax0.grid() #adding a grid\n",
    "ax0.legend([drugName])"
   ]
  },
  {
   "cell_type": "markdown",
   "metadata": {},
   "source": [
    "# Identify how often (Atorvastatin_Tab 40mg, Simvastatin_Tab 40mg, Rosuvastatin Calc_Tab 40mg) were prescribed from Feb - August 2016 in England and plot this data in a stacked bar chart"
   ]
  },
  {
   "cell_type": "code",
   "execution_count": null,
   "metadata": {
    "collapsed": true
   },
   "outputs": [],
   "source": [
    "def findTotalCostsDrugUK( drugName, currentdf):\n",
    "    return currentdf[currentdf['bnf_name'].str.contains(drugName)].act_cost.sum()\n",
    "\n",
    "drugs = [\"Atorvastatin_Tab 40mg\", \"Simvastatin_Tab 40mg\"]"
   ]
  },
  {
   "cell_type": "code",
   "execution_count": null,
   "metadata": {
    "collapsed": true
   },
   "outputs": [],
   "source": [
    "def monthly_statins(drug, start_month, end_month):\n",
    "    \n",
    "    statin_monthly=[]\n",
    "    for i in range(start_month, end_month+1):\n",
    "        statin_monthly.append(findTotalCostsDrugUK(drug, monthly_dfs[i]))\n",
    "    \n",
    "    return statin_monthly"
   ]
  },
  {
   "cell_type": "code",
   "execution_count": null,
   "metadata": {
    "collapsed": true
   },
   "outputs": [],
   "source": [
    "atorvastatin=monthly_statins(drugs[0], 1, 7) #from January to August\n",
    "simvastatin=monthly_statins(drugs[1], 1, 7)"
   ]
  },
  {
   "cell_type": "code",
   "execution_count": null,
   "metadata": {
    "collapsed": true
   },
   "outputs": [],
   "source": [
    "df3 = pd.DataFrame({'months' : pd.Categorical(months[1:8]), #Feb to August\n",
    "                    'Atorvastatin' : pd.Series(atorvastatin,dtype='int64'),\n",
    "                    'Simvastatin' : pd.Series(simvastatin,dtype='int64')})"
   ]
  },
  {
   "cell_type": "code",
   "execution_count": null,
   "metadata": {
    "collapsed": false
   },
   "outputs": [],
   "source": [
    "df3"
   ]
  },
  {
   "cell_type": "code",
   "execution_count": null,
   "metadata": {
    "collapsed": false
   },
   "outputs": [],
   "source": [
    "ax1 = df3.plot(kind='bar', x='months', title=\"bar chart: spendings for statins per months\",stacked=True, color=['r', 'g', 'b'], figsize=(8,6), legend=True, fontsize=8)\n",
    "ax1.set_xlabel(\"month\",fontsize=12)\n",
    "ax1.set_ylabel(\"costs\",fontsize=12)\n",
    "ax1.legend(loc='lower right')"
   ]
  },
  {
   "cell_type": "markdown",
   "metadata": {},
   "source": [
    "# Task 5: Create a stacked bar chart from Jul - December 2016 and include \"Rosuvastatin Calc_Tab 40mg\""
   ]
  },
  {
   "cell_type": "code",
   "execution_count": null,
   "metadata": {
    "collapsed": true
   },
   "outputs": [],
   "source": [
    "#solution\n",
    "drugs = [\"Atorvastatin_Tab 40mg\", \"Simvastatin_Tab 40mg\", \"Rosuvastatin Calc_Tab 40mg\"]\n",
    "\n",
    "atorvastatin=monthly_statins(drugs[0], 6, 11) #from January to December\n",
    "simvastatin=monthly_statins(drugs[1], 6, 11)\n",
    "Rosuvastatin=monthly_statins(drugs[2], 6, 11)\n",
    "\n",
    "df3 = pd.DataFrame({'months' : pd.Categorical(months[6:12]), #Jul to Dec 2016\n",
    "                    'Atorvastatin' : pd.Series(atorvastatin,dtype='int64'),\n",
    "                    'Simvastatin' : pd.Series(simvastatin,dtype='int64'),\n",
    "                    'Rosuvastatin' : pd.Series(Rosuvastatin,dtype='int64')})"
   ]
  },
  {
   "cell_type": "code",
   "execution_count": null,
   "metadata": {
    "collapsed": false
   },
   "outputs": [],
   "source": [
    "df3"
   ]
  },
  {
   "cell_type": "code",
   "execution_count": null,
   "metadata": {
    "collapsed": false
   },
   "outputs": [],
   "source": [
    "ax1 = df3.plot(kind='bar', x='months', title=\"bar chart: spendings for statins per months\",stacked=True, color=['r', 'g', 'b'], figsize=(8,6), legend=True, fontsize=8)\n",
    "ax1.set_xlabel(\"month\",fontsize=12)\n",
    "ax1.set_ylabel(\"costs\",fontsize=12)\n",
    "ax1.legend(loc='lower right')"
   ]
  },
  {
   "cell_type": "markdown",
   "metadata": {},
   "source": [
    "# Scatterplot"
   ]
  },
  {
   "cell_type": "code",
   "execution_count": null,
   "metadata": {
    "collapsed": true
   },
   "outputs": [],
   "source": [
    "#Numbers of Patients Registered at a GP Practice\n",
    "url_reg_pat= 'http://digital.nhs.uk/media/29065/Numbers-of-Patients-Registered-at-a-GP-Practice-July-2016-GP/Any/gp-reg-patients-prac-quin-age.csv'\n",
    "\n",
    "gp_counts = pd.read_csv(url_reg_pat).rename(columns=lambda x: x.strip())"
   ]
  },
  {
   "cell_type": "code",
   "execution_count": null,
   "metadata": {
    "collapsed": false
   },
   "outputs": [],
   "source": [
    "total_costs_practices =pd.DataFrame(jul2016.groupby(jul2016.practice).apply(lambda subf: subf['act_cost'].sum()))\n",
    "total_costs_practices.columns = ['total_costs_per_practice']\n",
    "# Reseting the index\n",
    "total_costs_practices.reset_index(inplace=True)\n",
    "total_costs_practices.head()"
   ]
  },
  {
   "cell_type": "code",
   "execution_count": null,
   "metadata": {
    "collapsed": false
   },
   "outputs": [],
   "source": [
    "merged = pd.merge(total_costs_practices, gp_counts[['GP_PRACTICE_CODE', 'Total_All']], left_on='practice' , right_on='GP_PRACTICE_CODE')\n",
    "ax3=merged.plot(kind='scatter', x='total_costs_per_practice', y='Total_All', title='Scatter plot: monthly total spending / registered patients', figsize=(8,6))\n",
    "ax3.set_xlabel(\"monthly total spending per surgery\",fontsize=12)\n",
    "ax3.set_ylabel(\"total number of registered patients\",fontsize=12)\n",
    "ax3.set_xlim(0, 450000)\n",
    "ax3.set_ylim(0, 40000)"
   ]
  },
  {
   "cell_type": "markdown",
   "metadata": {},
   "source": [
    "# Task 6: Redraw the previous scatterplot and modify the max-value of x and y-axis "
   ]
  },
  {
   "cell_type": "code",
   "execution_count": null,
   "metadata": {
    "collapsed": false
   },
   "outputs": [],
   "source": [
    "#solution\n",
    "\n",
    "from math import floor\n",
    "max_x = floor(merged.total_costs_per_practice.max())\n",
    "max_y = floor(merged.Total_All.max())\n",
    "\n",
    "ax4=merged.plot(kind='scatter', x='total_costs_per_practice', y='Total_All', title='Scatter plot: monthly total spending / registered patients', \n",
    "                color='royalblue', figsize=(8,6))\n",
    "ax4.set_xlabel(\"monthly total spending per surgery\",fontsize=12)\n",
    "ax4.set_ylabel(\"total number of registered patients\",fontsize=12)\n",
    "ax4.set_xlim(0, max_x)\n",
    "ax4.set_ylim(0, max_y)"
   ]
  },
  {
   "cell_type": "markdown",
   "metadata": {},
   "source": [
    "# Scatterplot with correlation"
   ]
  },
  {
   "cell_type": "code",
   "execution_count": null,
   "metadata": {
    "collapsed": false
   },
   "outputs": [],
   "source": [
    "# plot those data points\n",
    "#fig, ax = plt.subplots()\n",
    "import matplotlib.pyplot as plt\n",
    "fig=plt.figure(figsize=(8, 6))\n",
    "ax=fig.add_subplot(111)\n",
    "x= merged['total_costs_per_practice']\n",
    "y = merged['Total_All']\n",
    "ax.scatter(x, y, color='royalblue')\n",
    "fit = np.polyfit(x, y, deg=1)\n",
    "ax.plot(x, fit[0] * x + fit[1], color='red')\n",
    "ax.set_title('Scatter plot: monthly total spending / registered patients')\n",
    "ax.set_xlabel(\"monthly total spending per surgery\",fontsize=12)\n",
    "ax.set_ylabel(\"total number of registered patients\",fontsize=12)\n",
    "max_x = floor(merged.total_costs_per_practice.max())\n",
    "max_y = floor(merged.Total_All.max())\n",
    "ax.set_xlim(0, max_x)\n",
    "ax.set_ylim(0, max_y)"
   ]
  },
  {
   "cell_type": "markdown",
   "metadata": {},
   "source": [
    "# Histogram"
   ]
  },
  {
   "cell_type": "code",
   "execution_count": null,
   "metadata": {
    "collapsed": false
   },
   "outputs": [],
   "source": [
    "cost_patient_plot = merged\n",
    "cost_patient_plot['cost_per_patient'] = cost_patient_plot['total_costs_per_practice'] / cost_patient_plot['Total_All'] \n",
    "\n",
    "x = cost_patient_plot.cost_per_patient.values\n",
    "\n",
    "plt.hist(x,3500)\n",
    "plt.xlabel(\"Monthly prescription spending per patient\")\n",
    "plt.ylabel(\"Frequency\")\n",
    "\n",
    "min_x = floor(cost_patient_plot['cost_per_patient'].quantile(.01))\n",
    "max_x = floor(cost_patient_plot['cost_per_patient'].quantile(.99))\n",
    "plt.xlim(min_x, max_x) #do not show extreme outliers\n",
    "plt.title(\"GP practice monthly total prescription spending per registered patient\")\n",
    "plt.show()"
   ]
  },
  {
   "cell_type": "markdown",
   "metadata": {
    "collapsed": true
   },
   "source": [
    "# Plot of google flu data"
   ]
  },
  {
   "cell_type": "code",
   "execution_count": null,
   "metadata": {
    "collapsed": false
   },
   "outputs": [],
   "source": [
    "url_au = 'https://www.google.org/flutrends/about/data/flu/au/data.txt'\n",
    "\n",
    "#set header=8 to properly extract the data\n",
    "australiaFluTrends = pd.read_csv(url_au, sep=',', header = 8)\n",
    "australiaFluTrends['Date'] = pd.to_datetime(australiaFluTrends['Date'])\n",
    "\n",
    "australiaFluTrends.head(5)"
   ]
  },
  {
   "cell_type": "code",
   "execution_count": null,
   "metadata": {
    "collapsed": true
   },
   "outputs": [],
   "source": [
    "australiaFluTrends.head()"
   ]
  },
  {
   "cell_type": "code",
   "execution_count": null,
   "metadata": {
    "collapsed": true
   },
   "outputs": [],
   "source": [
    "#Store the url of the database in a variable\n",
    "url_ca = 'https://www.google.org/flutrends/about/data/flu/ca/data.txt'\n",
    "\n",
    "#set header=8 to properly extract the data\n",
    "canadaFluTrends = pd.read_csv(url_ca, sep=',', header=8)\n",
    "canadaFluTrends['Date'] = pd.to_datetime(canadaFluTrends['Date'])\n",
    "\n",
    "canadaFluTrends.head(5)"
   ]
  },
  {
   "cell_type": "code",
   "execution_count": null,
   "metadata": {
    "collapsed": true
   },
   "outputs": [],
   "source": [
    "%matplotlib inline\n",
    "#Plot and store the flu trens for Canada\n",
    "\n",
    "ax = canadaFluTrends.plot(legend ='left', x='Date', y = 'Canada', figsize=(15, 6), grid=True)\n",
    "#Plot the flu trend for Australia; ax=ax plots the chart into the previous\n",
    "\n",
    "australiaFluTrends.plot(x='Date', y = 'Australia' , ax=ax)"
   ]
  },
  {
   "cell_type": "code",
   "execution_count": null,
   "metadata": {
    "collapsed": true
   },
   "outputs": [],
   "source": [
    "import matplotlib.pyplot as plt\n",
    "%matplotlib inline\n",
    "fig_ca = canadaFluTrends.plot(x='Date', figsize=(10,8))\n",
    "fig_ca.set_title('The trend of flu search activity in Canada',fontsize=15)\n",
    "fig_ca.set_ylabel('Frequency',fontsize=15)\n",
    "fig_ca.set_xlabel('Year',fontsize=15)"
   ]
  },
  {
   "cell_type": "markdown",
   "metadata": {},
   "source": [
    "# Task: Plot the chart for Kazakhstan, China, Japan, Korea, Russia, Australia"
   ]
  },
  {
   "cell_type": "code",
   "execution_count": null,
   "metadata": {
    "collapsed": true
   },
   "outputs": [],
   "source": [
    "#solution\n",
    "import matplotlib.pyplot as plt\n",
    "%matplotlib inline\n",
    "fig_au = australiaFluTrends.plot(x='Date', figsize=(10,8))\n",
    "fig_au.set_title('The trend of flu search activity in Canada',fontsize=15)\n",
    "fig_au.set_ylabel('Frequency',fontsize=15)\n",
    "fig_au.set_xlabel('Year',fontsize=15)"
   ]
  },
  {
   "cell_type": "code",
   "execution_count": null,
   "metadata": {
    "collapsed": true
   },
   "outputs": [],
   "source": []
  }
 ],
 "metadata": {
  "anaconda-cloud": {},
  "kernelspec": {
   "display_name": "Python 3",
   "language": "python",
   "name": "python3"
  },
  "language_info": {
   "codemirror_mode": {
    "name": "ipython",
    "version": 3
   },
   "file_extension": ".py",
   "mimetype": "text/x-python",
   "name": "python",
   "nbconvert_exporter": "python",
   "pygments_lexer": "ipython3",
   "version": "3.6.0"
  }
 },
 "nbformat": 4,
 "nbformat_minor": 1
}
