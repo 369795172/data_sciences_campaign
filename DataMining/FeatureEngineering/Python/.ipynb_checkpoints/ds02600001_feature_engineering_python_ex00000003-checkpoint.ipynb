{
 "cells": [
  {
   "cell_type": "code",
   "execution_count": 1,
   "metadata": {
    "collapsed": true
   },
   "outputs": [],
   "source": [
    "# encoding=utf8"
   ]
  },
  {
   "cell_type": "markdown",
   "metadata": {},
   "source": [
    "# 非负矩阵分解 NMF"
   ]
  },
  {
   "cell_type": "markdown",
   "metadata": {
    "collapsed": true
   },
   "source": [
    "Python Matrix Factorization Module\n",
    "\n",
    "What is PyMF?\n",
    "\n",
    "Python Matrix Factorization (PyMF) is a module for several constrained/unconstrained matrix factorization (and related) methods. The module is early alpha and not very well tested.\n",
    "\n",
    "PyMF currently includes the following methods:\n",
    "\n",
    "+ Non-negative matrix factorization (NMF)\n",
    "+ Convex non-negative matrix factorization (CNMF)\n",
    "+ Semi non-negative matrix factorization (SNMF)\n",
    "+ Archetypal analysis (AA)\n",
    "+ Simplex volume maximization (SiVM)\n",
    "+ Convex-hull non-negative matrix factorization (CHNMF)\n",
    "+ Binary matrix factorization (BNMF)\n",
    "+ Singular value decomposition (SVD)\n",
    "+ Principal component analysis (PCA)\n",
    "+ K-means clustering (Kmeans)\n",
    "+ CUR decomposition (CUR)\n",
    "+ Compaxt matrix decomposition (CMD)\n",
    "\n",
    "Reference: https://pypi.python.org/pypi/PyMF/0.1.9"
   ]
  },
  {
   "cell_type": "code",
   "execution_count": 1,
   "metadata": {
    "collapsed": false
   },
   "outputs": [
    {
     "name": "stdout",
     "output_type": "stream",
     "text": [
      "Requirement already satisfied: PyMF in /Users/bater.makhabel/anaconda3/lib/python3.6/site-packages\n",
      "\u001b[33mYou are using pip version 9.0.1, however version 9.0.2 is available.\n",
      "You should consider upgrading via the 'pip install --upgrade pip' command.\u001b[0m\n"
     ]
    }
   ],
   "source": [
    "!pip install PyMF"
   ]
  },
  {
   "cell_type": "code",
   "execution_count": null,
   "metadata": {
    "collapsed": true
   },
   "outputs": [],
   "source": []
  }
 ],
 "metadata": {
  "kernelspec": {
   "display_name": "Python 3",
   "language": "python",
   "name": "python3"
  },
  "language_info": {
   "codemirror_mode": {
    "name": "ipython",
    "version": 3
   },
   "file_extension": ".py",
   "mimetype": "text/x-python",
   "name": "python",
   "nbconvert_exporter": "python",
   "pygments_lexer": "ipython3",
   "version": "3.6.0"
  }
 },
 "nbformat": 4,
 "nbformat_minor": 2
}
