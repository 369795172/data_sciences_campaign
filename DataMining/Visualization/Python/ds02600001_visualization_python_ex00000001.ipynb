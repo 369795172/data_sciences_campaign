{
 "cells": [
  {
   "cell_type": "code",
   "execution_count": 1,
   "metadata": {
    "collapsed": true
   },
   "outputs": [],
   "source": [
    "# encoding=utf8"
   ]
  },
  {
   "cell_type": "markdown",
   "metadata": {
    "collapsed": true
   },
   "source": [
    "# Visualization\n"
   ]
  },
  {
   "cell_type": "markdown",
   "metadata": {},
   "source": [
    "\n",
    "## pyLDAvis\n",
    "\n",
    "    Python library for interactive topic model visualization. This is a port of the fabulous R package by Carson Sievert and Kenny Shirley. https://github.com/bmabey/pyLDAvis#pyldavis\n",
    "    \n",
    "    To read about the methodology behind pyLDAvis, see the original paper, which was presented at the 2014 ACL Workshop on Interactive Language Learning, Visualization, and Interfaces in Baltimore on June 27, 2014.\n",
    "\n"
   ]
  },
  {
   "cell_type": "markdown",
   "metadata": {
    "collapsed": true
   },
   "source": [
    "!pip install pyldavis"
   ]
  },
  {
   "cell_type": "code",
   "execution_count": 1,
   "metadata": {
    "collapsed": false
   },
   "outputs": [
    {
     "name": "stdout",
     "output_type": "stream",
     "text": [
      "Collecting pyldavis\n",
      "  Downloading pyLDAvis-2.1.1.tar.gz (1.6MB)\n",
      "\u001b[K    100% |████████████████████████████████| 1.6MB 163kB/s ta 0:00:01\n",
      "\u001b[?25hRequirement already satisfied: wheel>=0.23.0 in /Users/bater.makhabel/anaconda3/lib/python3.6/site-packages (from pyldavis)\n",
      "Requirement already satisfied: numpy>=1.9.2 in /Users/bater.makhabel/anaconda3/lib/python3.6/site-packages (from pyldavis)\n",
      "Requirement already satisfied: scipy>=0.18.0 in /Users/bater.makhabel/anaconda3/lib/python3.6/site-packages (from pyldavis)\n",
      "Requirement already satisfied: pandas>=0.17.0 in /Users/bater.makhabel/anaconda3/lib/python3.6/site-packages (from pyldavis)\n",
      "Requirement already satisfied: joblib>=0.8.4 in /Users/bater.makhabel/anaconda3/lib/python3.6/site-packages (from pyldavis)\n",
      "Requirement already satisfied: jinja2>=2.7.2 in /Users/bater.makhabel/anaconda3/lib/python3.6/site-packages (from pyldavis)\n",
      "Requirement already satisfied: numexpr in /Users/bater.makhabel/anaconda3/lib/python3.6/site-packages (from pyldavis)\n",
      "Requirement already satisfied: pytest in /Users/bater.makhabel/anaconda3/lib/python3.6/site-packages (from pyldavis)\n",
      "Requirement already satisfied: future in /Users/bater.makhabel/anaconda3/lib/python3.6/site-packages (from pyldavis)\n",
      "Collecting funcy (from pyldavis)\n",
      "  Downloading funcy-1.10.1.tar.gz\n",
      "Requirement already satisfied: python-dateutil>=2 in /Users/bater.makhabel/anaconda3/lib/python3.6/site-packages (from pandas>=0.17.0->pyldavis)\n",
      "Requirement already satisfied: pytz>=2011k in /Users/bater.makhabel/anaconda3/lib/python3.6/site-packages (from pandas>=0.17.0->pyldavis)\n",
      "Requirement already satisfied: MarkupSafe>=0.23 in /Users/bater.makhabel/anaconda3/lib/python3.6/site-packages (from jinja2>=2.7.2->pyldavis)\n",
      "Requirement already satisfied: py>=1.4.29 in /Users/bater.makhabel/anaconda3/lib/python3.6/site-packages (from pytest->pyldavis)\n",
      "Requirement already satisfied: six>=1.5 in /Users/bater.makhabel/anaconda3/lib/python3.6/site-packages (from python-dateutil>=2->pandas>=0.17.0->pyldavis)\n",
      "Building wheels for collected packages: pyldavis, funcy\n",
      "  Running setup.py bdist_wheel for pyldavis ... \u001b[?25l-\b \b\\\b \bdone\n",
      "\u001b[?25h  Stored in directory: /Users/bater.makhabel/Library/Caches/pip/wheels/de/41/af/cba16e4c15ff942728f3345c8f165831b03ad7f4d87cff8b6e\n",
      "  Running setup.py bdist_wheel for funcy ... \u001b[?25l-\b \b\\\b \bdone\n",
      "\u001b[?25h  Stored in directory: /Users/bater.makhabel/Library/Caches/pip/wheels/10/90/e7/6747696c6971dfc6a40231425b7ff73a98324f6d339ea286c9\n",
      "Successfully built pyldavis funcy\n",
      "Installing collected packages: funcy, pyldavis\n",
      "Successfully installed funcy-1.10.1 pyldavis-2.1.1\n",
      "\u001b[33mYou are using pip version 9.0.1, however version 9.0.3 is available.\n",
      "You should consider upgrading via the 'pip install --upgrade pip' command.\u001b[0m\n"
     ]
    }
   ],
   "source": [
    "!pip install pyldavis"
   ]
  },
  {
   "cell_type": "code",
   "execution_count": null,
   "metadata": {
    "collapsed": true
   },
   "outputs": [],
   "source": []
  }
 ],
 "metadata": {
  "kernelspec": {
   "display_name": "Python 3",
   "language": "python",
   "name": "python3"
  },
  "language_info": {
   "codemirror_mode": {
    "name": "ipython",
    "version": 3
   },
   "file_extension": ".py",
   "mimetype": "text/x-python",
   "name": "python",
   "nbconvert_exporter": "python",
   "pygments_lexer": "ipython3",
   "version": "3.6.0"
  }
 },
 "nbformat": 4,
 "nbformat_minor": 2
}
